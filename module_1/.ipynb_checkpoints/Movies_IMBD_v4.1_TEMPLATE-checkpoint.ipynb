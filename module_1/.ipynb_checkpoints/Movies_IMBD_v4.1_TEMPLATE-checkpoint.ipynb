{
 "cells": [
  {
   "cell_type": "code",
   "execution_count": 35,
   "metadata": {
    "_cell_guid": "b1076dfc-b9ad-4769-8c92-a6c4dae69d19",
    "_uuid": "8f2839f25d086af736a60e9eeb907d3b93b6e0e5",
    "colab": {},
    "colab_type": "code",
    "id": "U2D2gTdJVp90"
   },
   "outputs": [],
   "source": [
    "import numpy as np\n",
    "import pandas as pd\n",
    "import seaborn as sns\n",
    "import matplotlib.pyplot as plt\n",
    "from collections import Counter\n",
    "from itertools import combinations\n",
    "from itertools import permutations\n",
    "from itertools import chain\n",
    "from datetime import date\n",
    "from datetime import time\n",
    "from datetime import datetime"
   ]
  },
  {
   "cell_type": "code",
   "execution_count": 54,
   "metadata": {
    "_cell_guid": "79c7e3d0-c299-4dcb-8224-4455121ee9b0",
    "_uuid": "d629ff2d2480ee46fbb7e2d37f6b5fab8052498a",
    "colab": {},
    "colab_type": "code",
    "id": "oyGfxL3eVp9-"
   },
   "outputs": [
    {
     "data": {
      "text/html": [
       "<div>\n",
       "<style scoped>\n",
       "    .dataframe tbody tr th:only-of-type {\n",
       "        vertical-align: middle;\n",
       "    }\n",
       "\n",
       "    .dataframe tbody tr th {\n",
       "        vertical-align: top;\n",
       "    }\n",
       "\n",
       "    .dataframe thead th {\n",
       "        text-align: right;\n",
       "    }\n",
       "</style>\n",
       "<table border=\"1\" class=\"dataframe\">\n",
       "  <thead>\n",
       "    <tr style=\"text-align: right;\">\n",
       "      <th></th>\n",
       "      <th>imdb_id</th>\n",
       "      <th>budget</th>\n",
       "      <th>revenue</th>\n",
       "      <th>original_title</th>\n",
       "      <th>cast</th>\n",
       "      <th>director</th>\n",
       "      <th>tagline</th>\n",
       "      <th>overview</th>\n",
       "      <th>runtime</th>\n",
       "      <th>genres</th>\n",
       "      <th>production_companies</th>\n",
       "      <th>release_date</th>\n",
       "      <th>vote_average</th>\n",
       "      <th>release_year</th>\n",
       "    </tr>\n",
       "  </thead>\n",
       "  <tbody>\n",
       "    <tr>\n",
       "      <th>533</th>\n",
       "      <td>tt0256380</td>\n",
       "      <td>40000000</td>\n",
       "      <td>141069860</td>\n",
       "      <td>Shallow Hal</td>\n",
       "      <td>Gwyneth Paltrow|Jack Black|Jason Alexander|Joe...</td>\n",
       "      <td>Bobby Farrelly|Peter Farrelly</td>\n",
       "      <td>Are You A Shallow Guy?</td>\n",
       "      <td>A shallow man falls in love with a 300 pound w...</td>\n",
       "      <td>114</td>\n",
       "      <td>Comedy|Romance</td>\n",
       "      <td>Twentieth Century Fox Film Corporation</td>\n",
       "      <td>11/1/2001</td>\n",
       "      <td>5.5</td>\n",
       "      <td>2001</td>\n",
       "    </tr>\n",
       "    <tr>\n",
       "      <th>959</th>\n",
       "      <td>tt0267248</td>\n",
       "      <td>25000000</td>\n",
       "      <td>10719357</td>\n",
       "      <td>Abandon</td>\n",
       "      <td>Katie Holmes|Benjamin Bratt|Charlie Hunnam|Zoo...</td>\n",
       "      <td>Stephen Gaghan</td>\n",
       "      <td>Watch who you leave behind.</td>\n",
       "      <td>A psychological thriller about a senior at one...</td>\n",
       "      <td>99</td>\n",
       "      <td>Drama|Mystery|Thriller</td>\n",
       "      <td>Paramount Pictures|Spyglass Entertainment|Touc...</td>\n",
       "      <td>10/14/2002</td>\n",
       "      <td>4.9</td>\n",
       "      <td>2002</td>\n",
       "    </tr>\n",
       "    <tr>\n",
       "      <th>1358</th>\n",
       "      <td>tt0416320</td>\n",
       "      <td>15000000</td>\n",
       "      <td>85306374</td>\n",
       "      <td>Match Point</td>\n",
       "      <td>Jonathan Rhys Meyers|Scarlett Johansson|Emily ...</td>\n",
       "      <td>Woody Allen</td>\n",
       "      <td>Passion Temptation Obsession</td>\n",
       "      <td>Match Point is Woody Allenâ€™s satire of the B...</td>\n",
       "      <td>124</td>\n",
       "      <td>Drama|Thriller|Crime|Romance</td>\n",
       "      <td>DreamWorks</td>\n",
       "      <td>5/12/2005</td>\n",
       "      <td>7.1</td>\n",
       "      <td>2005</td>\n",
       "    </tr>\n",
       "    <tr>\n",
       "      <th>1584</th>\n",
       "      <td>tt0362227</td>\n",
       "      <td>60000000</td>\n",
       "      <td>219417255</td>\n",
       "      <td>The Terminal</td>\n",
       "      <td>Tom Hanks|Catherine Zeta-Jones|Stanley Tucci|C...</td>\n",
       "      <td>Steven Spielberg</td>\n",
       "      <td>Life is waiting.</td>\n",
       "      <td>Viktor Navorski is a man without a country; hi...</td>\n",
       "      <td>128</td>\n",
       "      <td>Comedy|Drama</td>\n",
       "      <td>DreamWorks SKG|Amblin Entertainment|Parkes/Mac...</td>\n",
       "      <td>6/17/2004</td>\n",
       "      <td>7.0</td>\n",
       "      <td>2004</td>\n",
       "    </tr>\n",
       "    <tr>\n",
       "      <th>623</th>\n",
       "      <td>tt1033643</td>\n",
       "      <td>35000000</td>\n",
       "      <td>170000000</td>\n",
       "      <td>What Happens in Vegas</td>\n",
       "      <td>Ashton Kutcher|Cameron Diaz|Lake Bell|Queen La...</td>\n",
       "      <td>Tom Vaughan</td>\n",
       "      <td>Get Lucky</td>\n",
       "      <td>During a wild vacation in Las Vegas, career wo...</td>\n",
       "      <td>99</td>\n",
       "      <td>Comedy|Romance</td>\n",
       "      <td>Twentieth Century Fox Film Corporation|Regency...</td>\n",
       "      <td>5/7/2008</td>\n",
       "      <td>5.8</td>\n",
       "      <td>2008</td>\n",
       "    </tr>\n",
       "  </tbody>\n",
       "</table>\n",
       "</div>"
      ],
      "text/plain": [
       "        imdb_id    budget    revenue         original_title  \\\n",
       "533   tt0256380  40000000  141069860            Shallow Hal   \n",
       "959   tt0267248  25000000   10719357                Abandon   \n",
       "1358  tt0416320  15000000   85306374            Match Point   \n",
       "1584  tt0362227  60000000  219417255           The Terminal   \n",
       "623   tt1033643  35000000  170000000  What Happens in Vegas   \n",
       "\n",
       "                                                   cast  \\\n",
       "533   Gwyneth Paltrow|Jack Black|Jason Alexander|Joe...   \n",
       "959   Katie Holmes|Benjamin Bratt|Charlie Hunnam|Zoo...   \n",
       "1358  Jonathan Rhys Meyers|Scarlett Johansson|Emily ...   \n",
       "1584  Tom Hanks|Catherine Zeta-Jones|Stanley Tucci|C...   \n",
       "623   Ashton Kutcher|Cameron Diaz|Lake Bell|Queen La...   \n",
       "\n",
       "                           director                       tagline  \\\n",
       "533   Bobby Farrelly|Peter Farrelly        Are You A Shallow Guy?   \n",
       "959                  Stephen Gaghan   Watch who you leave behind.   \n",
       "1358                    Woody Allen  Passion Temptation Obsession   \n",
       "1584               Steven Spielberg              Life is waiting.   \n",
       "623                     Tom Vaughan                     Get Lucky   \n",
       "\n",
       "                                               overview  runtime  \\\n",
       "533   A shallow man falls in love with a 300 pound w...      114   \n",
       "959   A psychological thriller about a senior at one...       99   \n",
       "1358  Match Point is Woody Allenâ€™s satire of the B...      124   \n",
       "1584  Viktor Navorski is a man without a country; hi...      128   \n",
       "623   During a wild vacation in Las Vegas, career wo...       99   \n",
       "\n",
       "                            genres  \\\n",
       "533                 Comedy|Romance   \n",
       "959         Drama|Mystery|Thriller   \n",
       "1358  Drama|Thriller|Crime|Romance   \n",
       "1584                  Comedy|Drama   \n",
       "623                 Comedy|Romance   \n",
       "\n",
       "                                   production_companies release_date  \\\n",
       "533              Twentieth Century Fox Film Corporation    11/1/2001   \n",
       "959   Paramount Pictures|Spyglass Entertainment|Touc...   10/14/2002   \n",
       "1358                                         DreamWorks    5/12/2005   \n",
       "1584  DreamWorks SKG|Amblin Entertainment|Parkes/Mac...    6/17/2004   \n",
       "623   Twentieth Century Fox Film Corporation|Regency...     5/7/2008   \n",
       "\n",
       "      vote_average  release_year  \n",
       "533            5.5          2001  \n",
       "959            4.9          2002  \n",
       "1358           7.1          2005  \n",
       "1584           7.0          2004  \n",
       "623            5.8          2008  "
      ]
     },
     "execution_count": 54,
     "metadata": {},
     "output_type": "execute_result"
    }
   ],
   "source": [
    "data = pd.read_csv('movie_bd_v5.csv')\n",
    "data.sample(5)"
   ]
  },
  {
   "cell_type": "code",
   "execution_count": 4,
   "metadata": {
    "colab": {},
    "colab_type": "code",
    "id": "CoYUnagMVp-C"
   },
   "outputs": [
    {
     "data": {
      "text/html": [
       "<div>\n",
       "<style scoped>\n",
       "    .dataframe tbody tr th:only-of-type {\n",
       "        vertical-align: middle;\n",
       "    }\n",
       "\n",
       "    .dataframe tbody tr th {\n",
       "        vertical-align: top;\n",
       "    }\n",
       "\n",
       "    .dataframe thead th {\n",
       "        text-align: right;\n",
       "    }\n",
       "</style>\n",
       "<table border=\"1\" class=\"dataframe\">\n",
       "  <thead>\n",
       "    <tr style=\"text-align: right;\">\n",
       "      <th></th>\n",
       "      <th>budget</th>\n",
       "      <th>revenue</th>\n",
       "      <th>runtime</th>\n",
       "      <th>vote_average</th>\n",
       "      <th>release_year</th>\n",
       "    </tr>\n",
       "  </thead>\n",
       "  <tbody>\n",
       "    <tr>\n",
       "      <th>count</th>\n",
       "      <td>1.889000e+03</td>\n",
       "      <td>1.889000e+03</td>\n",
       "      <td>1889.000000</td>\n",
       "      <td>1889.000000</td>\n",
       "      <td>1889.000000</td>\n",
       "    </tr>\n",
       "    <tr>\n",
       "      <th>mean</th>\n",
       "      <td>5.431083e+07</td>\n",
       "      <td>1.553653e+08</td>\n",
       "      <td>109.658549</td>\n",
       "      <td>6.140762</td>\n",
       "      <td>2007.860773</td>\n",
       "    </tr>\n",
       "    <tr>\n",
       "      <th>std</th>\n",
       "      <td>4.858721e+07</td>\n",
       "      <td>2.146698e+08</td>\n",
       "      <td>18.017041</td>\n",
       "      <td>0.764763</td>\n",
       "      <td>4.468841</td>\n",
       "    </tr>\n",
       "    <tr>\n",
       "      <th>min</th>\n",
       "      <td>5.000000e+06</td>\n",
       "      <td>2.033165e+06</td>\n",
       "      <td>63.000000</td>\n",
       "      <td>3.300000</td>\n",
       "      <td>2000.000000</td>\n",
       "    </tr>\n",
       "    <tr>\n",
       "      <th>25%</th>\n",
       "      <td>2.000000e+07</td>\n",
       "      <td>3.456058e+07</td>\n",
       "      <td>97.000000</td>\n",
       "      <td>5.600000</td>\n",
       "      <td>2004.000000</td>\n",
       "    </tr>\n",
       "    <tr>\n",
       "      <th>50%</th>\n",
       "      <td>3.800000e+07</td>\n",
       "      <td>8.361541e+07</td>\n",
       "      <td>107.000000</td>\n",
       "      <td>6.100000</td>\n",
       "      <td>2008.000000</td>\n",
       "    </tr>\n",
       "    <tr>\n",
       "      <th>75%</th>\n",
       "      <td>7.200000e+07</td>\n",
       "      <td>1.782626e+08</td>\n",
       "      <td>120.000000</td>\n",
       "      <td>6.600000</td>\n",
       "      <td>2012.000000</td>\n",
       "    </tr>\n",
       "    <tr>\n",
       "      <th>max</th>\n",
       "      <td>3.800000e+08</td>\n",
       "      <td>2.781506e+09</td>\n",
       "      <td>214.000000</td>\n",
       "      <td>8.100000</td>\n",
       "      <td>2015.000000</td>\n",
       "    </tr>\n",
       "  </tbody>\n",
       "</table>\n",
       "</div>"
      ],
      "text/plain": [
       "             budget       revenue      runtime  vote_average  release_year\n",
       "count  1.889000e+03  1.889000e+03  1889.000000   1889.000000   1889.000000\n",
       "mean   5.431083e+07  1.553653e+08   109.658549      6.140762   2007.860773\n",
       "std    4.858721e+07  2.146698e+08    18.017041      0.764763      4.468841\n",
       "min    5.000000e+06  2.033165e+06    63.000000      3.300000   2000.000000\n",
       "25%    2.000000e+07  3.456058e+07    97.000000      5.600000   2004.000000\n",
       "50%    3.800000e+07  8.361541e+07   107.000000      6.100000   2008.000000\n",
       "75%    7.200000e+07  1.782626e+08   120.000000      6.600000   2012.000000\n",
       "max    3.800000e+08  2.781506e+09   214.000000      8.100000   2015.000000"
      ]
     },
     "execution_count": 4,
     "metadata": {},
     "output_type": "execute_result"
    }
   ],
   "source": [
    "data.describe()"
   ]
  },
  {
   "cell_type": "markdown",
   "metadata": {
    "colab_type": "text",
    "id": "DTIt7ezGVp-G"
   },
   "source": [
    "# Предобработка"
   ]
  },
  {
   "cell_type": "code",
   "execution_count": 25,
   "metadata": {
    "colab": {},
    "colab_type": "code",
    "id": "jNb40DwKVp-H"
   },
   "outputs": [],
   "source": [
    "answers = {} # создадим словарь для ответов\n",
    "\n",
    "# тут другие ваши предобработки колонок например:\n",
    "profit = data['revenue'] - data['budget'] # добавляем пеменную profit\n",
    "data['profit'] = data['revenue'] - data['budget'] # добавляем столбец profit\n",
    "\n",
    "#the time given in the dataset is in string format.\n",
    "#So we need to change this in datetime format\n",
    "\n",
    "data['release_date'] = pd.to_datetime(data['release_date'])\n",
    "\n",
    "# Добавим функцию fun_explode, т.к. часто ее используем в ответах.\n",
    "# Функция принимает на вход датафрейм и название колонки.\n",
    "# Далее происходит разделение текста в ячейках в этой колонке по вертикальной черте '|'\n",
    "# Далее мы растягиваем датафрейм по значениям из полученного списка.\n",
    "def fun_explode(df, col):\n",
    "    df[col] = df[col].str.split('|')\n",
    "    df = df.explode(col)\n",
    "    return df # возвращаем исправленный датафрейм"
   ]
  },
  {
   "cell_type": "markdown",
   "metadata": {
    "colab_type": "text",
    "id": "YxZaH-nPVp-L"
   },
   "source": [
    "# 1. У какого фильма из списка самый большой бюджет?"
   ]
  },
  {
   "cell_type": "markdown",
   "metadata": {
    "colab_type": "text",
    "id": "Nd-G5gX6Vp-M"
   },
   "source": [
    "Использовать варианты ответов в коде решения запрещено.    \n",
    "Вы думаете и в жизни у вас будут варианты ответов?)"
   ]
  },
  {
   "cell_type": "code",
   "execution_count": 21,
   "metadata": {
    "colab": {},
    "colab_type": "code",
    "id": "uVnXAY5RVp-O"
   },
   "outputs": [],
   "source": [
    "answers['1'] = '723. Pirates of the Caribbean: On Stranger Tides (tt1298650)'\n",
    "# +"
   ]
  },
  {
   "cell_type": "code",
   "execution_count": 7,
   "metadata": {
    "colab": {},
    "colab_type": "code",
    "id": "dZwb3m28Vp-S"
   },
   "outputs": [
    {
     "data": {
      "text/plain": [
       "723    Pirates of the Caribbean: On Stranger Tides\n",
       "Name: original_title, dtype: object"
      ]
     },
     "execution_count": 7,
     "metadata": {},
     "output_type": "execute_result"
    }
   ],
   "source": [
    "data_1 = data.copy()\n",
    "data_1[data_1.budget == data_1.budget.max()].original_title"
   ]
  },
  {
   "cell_type": "markdown",
   "metadata": {
    "colab_type": "text",
    "id": "FNRbbI3vVp-c"
   },
   "source": [
    "# 2. Какой из фильмов самый длительный (в минутах)?"
   ]
  },
  {
   "cell_type": "code",
   "execution_count": 23,
   "metadata": {
    "colab": {},
    "colab_type": "code",
    "id": "vHAoEXNTVp-d"
   },
   "outputs": [],
   "source": [
    "answers['2'] = '1157. Gods and Generals (tt0279111)'\n",
    "# +"
   ]
  },
  {
   "cell_type": "code",
   "execution_count": 24,
   "metadata": {
    "colab": {},
    "colab_type": "code",
    "id": "ot-VX2XrVp-g"
   },
   "outputs": [
    {
     "data": {
      "text/plain": [
       "1157    Gods and Generals\n",
       "Name: original_title, dtype: object"
      ]
     },
     "execution_count": 24,
     "metadata": {},
     "output_type": "execute_result"
    }
   ],
   "source": [
    "data_2 = data.copy()\n",
    "data_2[data_2.runtime == data_2.runtime.max()].original_title"
   ]
  },
  {
   "cell_type": "markdown",
   "metadata": {
    "colab_type": "text",
    "id": "bapLlpW8Vp-k"
   },
   "source": [
    "# 3. Какой из фильмов самый короткий (в минутах)?\n",
    "\n",
    "\n",
    "\n"
   ]
  },
  {
   "cell_type": "code",
   "execution_count": 25,
   "metadata": {
    "colab": {},
    "colab_type": "code",
    "id": "YBxaSHuAVp-l"
   },
   "outputs": [],
   "source": [
    "answers['3'] = '768. Winnie the Pooh (tt1449283)'\n",
    "# +"
   ]
  },
  {
   "cell_type": "code",
   "execution_count": 26,
   "metadata": {},
   "outputs": [
    {
     "data": {
      "text/plain": [
       "768    Winnie the Pooh\n",
       "Name: original_title, dtype: object"
      ]
     },
     "execution_count": 26,
     "metadata": {},
     "output_type": "execute_result"
    }
   ],
   "source": [
    "data_3 = data.copy()\n",
    "data_3[data_3.runtime == data_3.runtime.min()].original_title"
   ]
  },
  {
   "cell_type": "markdown",
   "metadata": {
    "colab_type": "text",
    "id": "TfQbxbfNVp-p"
   },
   "source": [
    "# 4. Какова средняя длительность фильмов?\n"
   ]
  },
  {
   "cell_type": "code",
   "execution_count": 27,
   "metadata": {
    "colab": {},
    "colab_type": "code",
    "id": "5K6dKZYVVp-q"
   },
   "outputs": [],
   "source": [
    "answers['4'] = '110'\n",
    "# +"
   ]
  },
  {
   "cell_type": "code",
   "execution_count": 28,
   "metadata": {},
   "outputs": [
    {
     "data": {
      "text/plain": [
       "109.6585494970884"
      ]
     },
     "execution_count": 28,
     "metadata": {},
     "output_type": "execute_result"
    }
   ],
   "source": [
    "data_4 = data.copy()\n",
    "data_4.runtime.mean()"
   ]
  },
  {
   "cell_type": "markdown",
   "metadata": {
    "colab_type": "text",
    "id": "r5TvbnT_Vp-u"
   },
   "source": [
    "# 5. Каково медианное значение длительности фильмов? "
   ]
  },
  {
   "cell_type": "code",
   "execution_count": 29,
   "metadata": {
    "colab": {},
    "colab_type": "code",
    "id": "iBROplKnVp-v"
   },
   "outputs": [],
   "source": [
    "answers['5'] = '107'\n",
    "# +"
   ]
  },
  {
   "cell_type": "code",
   "execution_count": 8,
   "metadata": {},
   "outputs": [
    {
     "data": {
      "text/plain": [
       "107.0"
      ]
     },
     "execution_count": 8,
     "metadata": {},
     "output_type": "execute_result"
    }
   ],
   "source": [
    "data_5 = data.copy()\n",
    "data_5.runtime.median()"
   ]
  },
  {
   "cell_type": "markdown",
   "metadata": {
    "colab_type": "text",
    "id": "39P-deDSVp-y"
   },
   "source": [
    "# 6. Какой самый прибыльный фильм?\n",
    "#### Внимание! Здесь и далее под «прибылью» или «убытками» понимается разность между сборами и бюджетом фильма. (прибыль = сборы - бюджет) в нашем датасете это будет (profit = revenue - budget) "
   ]
  },
  {
   "cell_type": "code",
   "execution_count": 31,
   "metadata": {
    "colab": {},
    "colab_type": "code",
    "id": "UYZh4T9WVp-y"
   },
   "outputs": [],
   "source": [
    "answers['6'] = '239. Avatar (tt0499549)'\n",
    "# +"
   ]
  },
  {
   "cell_type": "code",
   "execution_count": 32,
   "metadata": {},
   "outputs": [
    {
     "data": {
      "text/plain": [
       "239    Avatar\n",
       "Name: original_title, dtype: object"
      ]
     },
     "execution_count": 32,
     "metadata": {},
     "output_type": "execute_result"
    }
   ],
   "source": [
    "# находим строку, соответствующую наибольшему значению profit в нашем файле\n",
    "data_6 = data.copy()\n",
    "data_6[profit == profit.max()].original_title"
   ]
  },
  {
   "cell_type": "markdown",
   "metadata": {
    "colab_type": "text",
    "id": "M99JmIX4Vp-2"
   },
   "source": [
    "# 7. Какой фильм самый убыточный? "
   ]
  },
  {
   "cell_type": "code",
   "execution_count": 33,
   "metadata": {
    "colab": {},
    "colab_type": "code",
    "id": "w-D2m4XPVp-3"
   },
   "outputs": [],
   "source": [
    "answers['7'] = '1245. The Lone Ranger (tt1210819)'\n",
    "# +"
   ]
  },
  {
   "cell_type": "code",
   "execution_count": 34,
   "metadata": {},
   "outputs": [
    {
     "data": {
      "text/plain": [
       "1245    The Lone Ranger\n",
       "Name: original_title, dtype: object"
      ]
     },
     "execution_count": 34,
     "metadata": {},
     "output_type": "execute_result"
    }
   ],
   "source": [
    "# находим строку, соответствующую наименьшему значению profit в нашем файле\n",
    "data_7 = data.copy()\n",
    "data_7[profit == profit.min()].original_title\t "
   ]
  },
  {
   "cell_type": "markdown",
   "metadata": {
    "colab_type": "text",
    "id": "wEOM5ERVVp-6"
   },
   "source": [
    "# 8. У скольких фильмов из датасета объем сборов оказался выше бюджета?"
   ]
  },
  {
   "cell_type": "code",
   "execution_count": 35,
   "metadata": {
    "colab": {},
    "colab_type": "code",
    "id": "y00_7HD6Vp-7"
   },
   "outputs": [],
   "source": [
    "answers['8'] = '1478'\n",
    "# +"
   ]
  },
  {
   "cell_type": "code",
   "execution_count": 36,
   "metadata": {},
   "outputs": [
    {
     "data": {
      "text/plain": [
       "1478"
      ]
     },
     "execution_count": 36,
     "metadata": {},
     "output_type": "execute_result"
    }
   ],
   "source": [
    "data_8 = data.copy()\n",
    "data_8[data_8.revenue > data_8.budget].imdb_id.value_counts().sum()"
   ]
  },
  {
   "cell_type": "markdown",
   "metadata": {},
   "source": [
    "Вариант 2. "
   ]
  },
  {
   "cell_type": "code",
   "execution_count": 37,
   "metadata": {},
   "outputs": [
    {
     "data": {
      "text/plain": [
       "1478"
      ]
     },
     "execution_count": 37,
     "metadata": {},
     "output_type": "execute_result"
    }
   ],
   "source": [
    "count = 0\n",
    "for i in range(0,len(data)): # проходим по строкам нашего файла от нулевой до последней\n",
    "    if data.revenue[i] > data.budget[i]: # ставим условие: объем сборов больше объема бюджета\n",
    "               count += 1 # если условие выполнено увеличивам счетчик на 1\n",
    "count # итоговая сумма счетчик ана экран - это и есть ответ"
   ]
  },
  {
   "cell_type": "markdown",
   "metadata": {
    "colab_type": "text",
    "id": "xhpspA9KVp_A"
   },
   "source": [
    "# 9. Какой фильм оказался самым кассовым в 2008 году?"
   ]
  },
  {
   "cell_type": "code",
   "execution_count": 38,
   "metadata": {
    "colab": {},
    "colab_type": "code",
    "id": "MoUyQr9RVp_B"
   },
   "outputs": [],
   "source": [
    "answers['9'] = '599. The Dark Knight (tt0468569)'\n",
    "# +"
   ]
  },
  {
   "cell_type": "code",
   "execution_count": 39,
   "metadata": {},
   "outputs": [
    {
     "data": {
      "text/plain": [
       "599    The Dark Knight\n",
       "Name: original_title, dtype: object"
      ]
     },
     "execution_count": 39,
     "metadata": {},
     "output_type": "execute_result"
    }
   ],
   "source": [
    "revenue_2008 = [] #создаем список для записи всех сборов 2008 г.\n",
    "# проходим по строкам нашего файла и, если год = 2008 г., то добавляеем значение кассовых сборов в список выше\n",
    "for i in range(0,len(data)):  \n",
    "    if data.release_year[i] == 2008:\n",
    "        revenue_2008.append(data.revenue[i]) \n",
    "# находим фильм, соответствующий максимальному сбору за 2008 г. \n",
    "data[data.revenue == max(revenue_2008)].original_title"
   ]
  },
  {
   "cell_type": "markdown",
   "metadata": {},
   "source": [
    "Вариант 2."
   ]
  },
  {
   "cell_type": "code",
   "execution_count": 40,
   "metadata": {},
   "outputs": [
    {
     "data": {
      "text/plain": [
       "599    The Dark Knight\n",
       "Name: original_title, dtype: object"
      ]
     },
     "execution_count": 40,
     "metadata": {},
     "output_type": "execute_result"
    }
   ],
   "source": [
    "data_9 = data.copy() # копируем датафрейм в переменную для этого ответа\n",
    "data_9 = data_9[data_9.release_year == 2008] # фильтр = 2008 год\n",
    "data_9[data_9.revenue == data_9.revenue.max()].original_title # из них тот, у которого максимальные сборы"
   ]
  },
  {
   "cell_type": "code",
   "execution_count": null,
   "metadata": {},
   "outputs": [],
   "source": []
  },
  {
   "cell_type": "markdown",
   "metadata": {
    "colab_type": "text",
    "id": "Zi4hDKidVp_F"
   },
   "source": [
    "# 10. Самый убыточный фильм за период с 2012 по 2014 г. (включительно)?\n"
   ]
  },
  {
   "cell_type": "code",
   "execution_count": 41,
   "metadata": {
    "colab": {},
    "colab_type": "code",
    "id": "XqyRmufJVp_F"
   },
   "outputs": [],
   "source": [
    "answers['10'] = '1245. The Lone Ranger (tt1210819)'\n",
    "# +"
   ]
  },
  {
   "cell_type": "code",
   "execution_count": 42,
   "metadata": {},
   "outputs": [
    {
     "data": {
      "text/plain": [
       "1245    The Lone Ranger\n",
       "Name: original_title, dtype: object"
      ]
     },
     "execution_count": 42,
     "metadata": {},
     "output_type": "execute_result"
    }
   ],
   "source": [
    "profit_12_14 = [] # список для записи профита фильмов с 2012 по 2014 годы\n",
    "# пройдемся по строкам файла и запишем profit для каждого фильма с 2012 по 2014 годы в заготовленный список\n",
    "for i in range(0,len(data)):\n",
    "    if 2012 <= data.release_year[i] <= 2014:\n",
    "        profit_i = data['revenue'][i] - data['budget'][i]\n",
    "        profit_12_14.append(profit_i)\n",
    "data[profit == min(profit_12_14)].original_title # найдем минимальный profit за указанный период"
   ]
  },
  {
   "cell_type": "markdown",
   "metadata": {},
   "source": [
    "Вариант 2"
   ]
  },
  {
   "cell_type": "code",
   "execution_count": 43,
   "metadata": {},
   "outputs": [
    {
     "data": {
      "text/plain": [
       "1245    The Lone Ranger\n",
       "Name: original_title, dtype: object"
      ]
     },
     "execution_count": 43,
     "metadata": {},
     "output_type": "execute_result"
    }
   ],
   "source": [
    "data_10 = data.copy() \n",
    "data_10 = data_10[(data_10.release_year >= 2012) & (data_10.release_year <= 2014)] # фильтр по диапазону дат\n",
    "data_10[data_10.profit == data_10.profit.min()].original_title # по таблице с необходимыми годами выбираем тот, что самый убыточный"
   ]
  },
  {
   "cell_type": "markdown",
   "metadata": {
    "colab_type": "text",
    "id": "EA7Sa9dkVp_I"
   },
   "source": [
    "# 11. Какого жанра фильмов больше всего?"
   ]
  },
  {
   "cell_type": "code",
   "execution_count": 44,
   "metadata": {
    "colab": {},
    "colab_type": "code",
    "id": "zsJAwJ8QVp_J"
   },
   "outputs": [],
   "source": [
    "answers['11'] = 'Drama'\n",
    "#+"
   ]
  },
  {
   "cell_type": "code",
   "execution_count": 10,
   "metadata": {
    "colab": {},
    "colab_type": "code",
    "id": "otO3SbrSVp_N"
   },
   "outputs": [
    {
     "data": {
      "text/plain": [
       "'Drama'"
      ]
     },
     "execution_count": 10,
     "metadata": {},
     "output_type": "execute_result"
    }
   ],
   "source": [
    "data_genres = data.genres.str.split('|') # создаем списки из жанров, которые хранятся в поле genres, для каждой строки\n",
    "data_genres_s = data_genres.sum() # склеиваем все в один список\n",
    "pd.Series(data_genres_s).value_counts().index[0] #считаем количество появлений для каждого слова в списке, выводим максимальный"
   ]
  },
  {
   "cell_type": "code",
   "execution_count": 5,
   "metadata": {},
   "outputs": [
    {
     "data": {
      "text/plain": [
       "'Drama'"
      ]
     },
     "execution_count": 5,
     "metadata": {},
     "output_type": "execute_result"
    }
   ],
   "source": [
    "pd.Series(data.genres.str.split('|').sum()).value_counts().index[0]"
   ]
  },
  {
   "cell_type": "code",
   "execution_count": 20,
   "metadata": {},
   "outputs": [
    {
     "data": {
      "text/plain": [
       "[('Drama', 782)]"
      ]
     },
     "execution_count": 20,
     "metadata": {},
     "output_type": "execute_result"
    }
   ],
   "source": [
    "def stringtolist (string):\n",
    "    result = string.str.split('|')\n",
    "    return result\n",
    "data['genrelist'] = stringtolist(data['genres'])\n",
    "genrelist = data['genrelist'].sum()\n",
    "Counter(genrelist).most_common(1)"
   ]
  },
  {
   "cell_type": "markdown",
   "metadata": {
    "colab_type": "text",
    "id": "T9_bPWpkVp_Q"
   },
   "source": [
    "# 12. Фильмы какого жанра чаще всего становятся прибыльными? "
   ]
  },
  {
   "cell_type": "code",
   "execution_count": 46,
   "metadata": {
    "colab": {},
    "colab_type": "code",
    "id": "Tmt8MaK1Vp_R"
   },
   "outputs": [],
   "source": [
    "answers['12'] = 'Drama'\n",
    "#+"
   ]
  },
  {
   "cell_type": "code",
   "execution_count": 47,
   "metadata": {},
   "outputs": [
    {
     "data": {
      "text/plain": [
       "'Drama'"
      ]
     },
     "execution_count": 47,
     "metadata": {},
     "output_type": "execute_result"
    }
   ],
   "source": [
    "# выбиhаем те фильмы, где прибыль больше 0, т.е. фильм прибыльный\n",
    "# считаем количество встреч того или иного жанра способом из прошлого шага\n",
    "data_profit = data[profit > 0]\n",
    "pd.Series(data_profit.genres.str.split('|').sum()).value_counts().index[0]"
   ]
  },
  {
   "cell_type": "markdown",
   "metadata": {
    "colab_type": "text",
    "id": "0F23bgsDVp_U"
   },
   "source": [
    "# 13. У какого режиссера самые большие суммарные кассовые сборы?"
   ]
  },
  {
   "cell_type": "code",
   "execution_count": 48,
   "metadata": {
    "colab": {},
    "colab_type": "code",
    "id": "K6Z3J8ygVp_X"
   },
   "outputs": [],
   "source": [
    "answers['13'] = 'Peter Jackson'\n",
    "#+"
   ]
  },
  {
   "cell_type": "code",
   "execution_count": 49,
   "metadata": {},
   "outputs": [
    {
     "data": {
      "text/plain": [
       "'Peter Jackson'"
      ]
     },
     "execution_count": 49,
     "metadata": {},
     "output_type": "execute_result"
    }
   ],
   "source": [
    "data_13 = data.copy()\n",
    "#вызываем функцию из предобработки:\n",
    "data_13 = fun_explode(df = data_13, col = 'director')\n",
    "# Группируем таблицу по режиссерам, считая для каждого из них суммарный доход от фильмов. \n",
    "data_13.groupby(['director'])['revenue'].sum().sort_values(ascending=False).index[0]"
   ]
  },
  {
   "cell_type": "markdown",
   "metadata": {
    "colab_type": "text",
    "id": "PsYC9FgRVp_a"
   },
   "source": [
    "# 14. Какой режисер снял больше всего фильмов в стиле Action?"
   ]
  },
  {
   "cell_type": "code",
   "execution_count": 50,
   "metadata": {
    "colab": {},
    "colab_type": "code",
    "id": "wd2M-wHeVp_b"
   },
   "outputs": [],
   "source": [
    "answers['14'] = 'Robert Rodriguez'\n",
    "#+"
   ]
  },
  {
   "cell_type": "code",
   "execution_count": 51,
   "metadata": {},
   "outputs": [
    {
     "data": {
      "text/plain": [
       "'Robert Rodriguez'"
      ]
     },
     "execution_count": 51,
     "metadata": {},
     "output_type": "execute_result"
    }
   ],
   "source": [
    "data_14 = data.copy()\n",
    "data_14 = fun_explode(data_14, 'director')\n",
    "# делаем срез: те строки, где содержится в тексет слово Action\n",
    "data_14 = data_14[data_14.genres.str.contains('Action', na=False)]\n",
    "# сколько раз встретился тот или иной режиссер, берем первого с индексом [0]\n",
    "data_14.director.value_counts().index[0]"
   ]
  },
  {
   "cell_type": "markdown",
   "metadata": {
    "colab_type": "text",
    "id": "PQ0KciD7Vp_f"
   },
   "source": [
    "# 15. Фильмы с каким актером принесли самые высокие кассовые сборы в 2012 году? "
   ]
  },
  {
   "cell_type": "code",
   "execution_count": 52,
   "metadata": {
    "colab": {},
    "colab_type": "code",
    "id": "aga62oeKVp_g"
   },
   "outputs": [],
   "source": [
    "answers['15'] = 'Chris Hemsworth'\n",
    "#+"
   ]
  },
  {
   "cell_type": "code",
   "execution_count": 53,
   "metadata": {},
   "outputs": [
    {
     "name": "stdout",
     "output_type": "stream",
     "text": [
      "['Robert Downey Jr.', 'Chris Evans', 'Mark Ruffalo', 'Chris Hemsworth', 'Scarlett Johansson']\n"
     ]
    }
   ],
   "source": [
    "data_15 = data.copy()\n",
    "\n",
    "# Сначала выберем год:\n",
    "data_15_2012 = data_15[data_15.release_year == 2012]\n",
    "# Теперь среди этих фильмов выберем с наибольшим кассовым сбором\n",
    "data_15_2012 = data_15_2012[data_15_2012.revenue == data_15_2012.revenue.max()] \n",
    "# весь список актеров на экран, один из них есть в вариантах ответа\n",
    "print(*data_15_2012.cast.str.split('|'))"
   ]
  },
  {
   "cell_type": "markdown",
   "metadata": {
    "colab_type": "text",
    "id": "mWHyyL7QVp_j"
   },
   "source": [
    "# 16. Какой актер снялся в большем количестве высокобюджетных фильмов?"
   ]
  },
  {
   "cell_type": "code",
   "execution_count": 54,
   "metadata": {
    "colab": {},
    "colab_type": "code",
    "id": "qQtmHKTFVp_k"
   },
   "outputs": [],
   "source": [
    "answers['16'] = 'Matt Damon'\n",
    "#+"
   ]
  },
  {
   "cell_type": "code",
   "execution_count": 55,
   "metadata": {},
   "outputs": [
    {
     "data": {
      "text/plain": [
       "'Matt Damon'"
      ]
     },
     "execution_count": 55,
     "metadata": {},
     "output_type": "execute_result"
    }
   ],
   "source": [
    "data_16 = data.copy()\n",
    "data_16 = data_16[data.budget > data.budget.mean()] #высокобюджетные фильмы, т.е. бюджет выше среднего\n",
    "data_16 = fun_explode(data_16, 'cast') # растягиваем\n",
    "data_16.cast.value_counts().index[0] #считаем количество встреч каждого имени, выбираем первого с индексом [0]"
   ]
  },
  {
   "cell_type": "markdown",
   "metadata": {
    "colab_type": "text",
    "id": "NIh6AaW5Vp_n"
   },
   "source": [
    "# 17. В фильмах какого жанра больше всего снимался Nicolas Cage? "
   ]
  },
  {
   "cell_type": "code",
   "execution_count": 56,
   "metadata": {},
   "outputs": [],
   "source": [
    "answers['17'] = 'Action'\n",
    "#+"
   ]
  },
  {
   "cell_type": "code",
   "execution_count": 57,
   "metadata": {
    "colab": {},
    "colab_type": "code",
    "id": "H74SJDIBVp_n"
   },
   "outputs": [
    {
     "data": {
      "text/plain": [
       "'Action'"
      ]
     },
     "execution_count": 57,
     "metadata": {},
     "output_type": "execute_result"
    }
   ],
   "source": [
    "data_17 = data.copy()\n",
    "data_17 = data_17[data_17.cast.str.contains('Nicolas Cage')] # выбрали те строки, где есть Николас Кейдж\n",
    "data_17 = fun_explode(data_17, 'genres')\n",
    "# посчитали количество встреч того или иного жанра и берем первую строку - самое большое кол-во\n",
    "data_17.genres.value_counts().index[0] "
   ]
  },
  {
   "cell_type": "markdown",
   "metadata": {
    "colab_type": "text",
    "id": "RqOmPRfWVp_q"
   },
   "source": [
    "# 18. Самый убыточный фильм от Paramount Pictures"
   ]
  },
  {
   "cell_type": "code",
   "execution_count": 58,
   "metadata": {
    "colab": {},
    "colab_type": "code",
    "id": "9E_B0Y96Vp_r"
   },
   "outputs": [],
   "source": [
    "answers['18'] = 'K-19: The Widowmaker (tt0267626)'\n",
    "#+"
   ]
  },
  {
   "cell_type": "code",
   "execution_count": 59,
   "metadata": {},
   "outputs": [
    {
     "data": {
      "text/plain": [
       "925    K-19: The Widowmaker\n",
       "Name: original_title, dtype: object"
      ]
     },
     "execution_count": 59,
     "metadata": {},
     "output_type": "execute_result"
    }
   ],
   "source": [
    "# фильтр на фильмы от Paramount Pictures\n",
    "data_paramount = data[data.production_companies.str.contains('Paramount Pictures')] \n",
    "# выбираем из них с минимальным profit\n",
    "data_paramount_min = data_paramount[data_paramount.profit == data_paramount.profit.min()] \n",
    "data_paramount_min['original_title'] # название на экран"
   ]
  },
  {
   "cell_type": "markdown",
   "metadata": {
    "colab_type": "text",
    "id": "vS8Ur6ddVp_u"
   },
   "source": [
    "# 19. Какой год стал самым успешным по суммарным кассовым сборам?"
   ]
  },
  {
   "cell_type": "code",
   "execution_count": 60,
   "metadata": {
    "colab": {},
    "colab_type": "code",
    "id": "Dnbt4GdIVp_v"
   },
   "outputs": [],
   "source": [
    "answers['19'] = '2015'\n",
    "#+"
   ]
  },
  {
   "cell_type": "code",
   "execution_count": 61,
   "metadata": {},
   "outputs": [
    {
     "data": {
      "text/plain": [
       "2015"
      ]
     },
     "execution_count": 61,
     "metadata": {},
     "output_type": "execute_result"
    }
   ],
   "source": [
    "# группируем по году, считаем сумму сбора для каждого года, сортируем по убыванию, выводим первый элемент с индексом \"0\"\n",
    "data.groupby(['release_year'])['revenue'].sum().sort_values(ascending=False).index[0] "
   ]
  },
  {
   "cell_type": "markdown",
   "metadata": {
    "colab_type": "text",
    "id": "JAzJh4QAVp_z"
   },
   "source": [
    "# 20. Какой самый прибыльный год для студии Warner Bros?"
   ]
  },
  {
   "cell_type": "code",
   "execution_count": 62,
   "metadata": {
    "colab": {},
    "colab_type": "code",
    "id": "wgVu02DEVp_0"
   },
   "outputs": [],
   "source": [
    "answers['20'] = '2014'\n",
    "#+"
   ]
  },
  {
   "cell_type": "code",
   "execution_count": 63,
   "metadata": {},
   "outputs": [
    {
     "data": {
      "text/plain": [
       "2014"
      ]
     },
     "execution_count": 63,
     "metadata": {},
     "output_type": "execute_result"
    }
   ],
   "source": [
    "# делаем фильтр, только те строки, где есть Warner Bros, далее также, как и на предыдущем шаге\n",
    "data_WB = data[data.production_companies.str.contains('Warner Bros')] \n",
    "data_WB.groupby(['release_year'])['revenue'].sum().sort_values(ascending = False).index[0] "
   ]
  },
  {
   "cell_type": "markdown",
   "metadata": {
    "colab_type": "text",
    "id": "8Im1S2HRVp_4"
   },
   "source": [
    "# 21. В каком месяце за все годы суммарно вышло больше всего фильмов?"
   ]
  },
  {
   "cell_type": "code",
   "execution_count": 64,
   "metadata": {
    "colab": {},
    "colab_type": "code",
    "id": "lev6TH7gVp_4"
   },
   "outputs": [],
   "source": [
    "answers['21'] = 'Сентябрь'\n",
    "#+"
   ]
  },
  {
   "cell_type": "code",
   "execution_count": 65,
   "metadata": {},
   "outputs": [
    {
     "data": {
      "text/plain": [
       "9"
      ]
     },
     "execution_count": 65,
     "metadata": {},
     "output_type": "execute_result"
    }
   ],
   "source": [
    "data_21 = data.copy()\n",
    "# т.к. мы поменяли формат столбца 'release_date' и он стал формата \"pandas._libs.tslibs.timestamps.Timestamp\"\n",
    "# с помощью метода 'month' и добавлением 'dt' считаем количество появлений того или иного месяца\n",
    "data_21.release_date.dt.month.value_counts().index[0] "
   ]
  },
  {
   "cell_type": "markdown",
   "metadata": {
    "colab_type": "text",
    "id": "uAJsZ_NeVp_7"
   },
   "source": [
    "# 22. Сколько суммарно вышло фильмов летом? (за июнь, июль, август)"
   ]
  },
  {
   "cell_type": "code",
   "execution_count": 66,
   "metadata": {
    "colab": {},
    "colab_type": "code",
    "id": "Aa-hEREoVp_8"
   },
   "outputs": [],
   "source": [
    "answers['22'] = '450'\n",
    "#+"
   ]
  },
  {
   "cell_type": "code",
   "execution_count": 67,
   "metadata": {},
   "outputs": [
    {
     "data": {
      "text/plain": [
       "450"
      ]
     },
     "execution_count": 67,
     "metadata": {},
     "output_type": "execute_result"
    }
   ],
   "source": [
    "data_22 = data.copy()\n",
    "# создаем переменные для удобства и ненагромаждения кода\n",
    "filter_06 = data_22.release_date.dt.month == 6\n",
    "filter_07 = data_22.release_date.dt.month == 7\n",
    "filter_08 = data_22.release_date.dt.month == 8\n",
    "\n",
    "data_22 = data_22[filter_06 | filter_07 | filter_08] # делаем срез по необходимым месяцам\n",
    "data_22.imdb_id.value_counts().sum() # считаем кол-во фильмов суммарно для сезона \"лето\""
   ]
  },
  {
   "cell_type": "markdown",
   "metadata": {
    "colab_type": "text",
    "id": "G94ppOY1VqAA"
   },
   "source": [
    "# 23. Для какого режиссера зима – самое продуктивное время года? "
   ]
  },
  {
   "cell_type": "code",
   "execution_count": 68,
   "metadata": {
    "colab": {},
    "colab_type": "code",
    "id": "RhNTsamuVqAB"
   },
   "outputs": [],
   "source": [
    "answers['23'] = 'Peter Jackson'\n",
    "#+"
   ]
  },
  {
   "cell_type": "code",
   "execution_count": 69,
   "metadata": {},
   "outputs": [
    {
     "data": {
      "text/plain": [
       "'Peter Jackson'"
      ]
     },
     "execution_count": 69,
     "metadata": {},
     "output_type": "execute_result"
    }
   ],
   "source": [
    "data_23 = data.copy()\n",
    "data_23 = fun_explode(data_23, 'director')\n",
    "# фильтры для удобства, как в вопросе №22\n",
    "filter_12 = data_23.release_date.dt.month == 12 # декабрь\n",
    "filter_01 = data_23.release_date.dt.month == 1 # январь\n",
    "filter_02 = data_23.release_date.dt.month == 2 # февраль\n",
    "\n",
    "# реализуем фильтр и посчитаем наиболее часто встречающегося режиссера в эти месяца\n",
    "data_23 = data_23[filter_12 | filter_01 | filter_02]\n",
    "data_23.director.value_counts().index[0]"
   ]
  },
  {
   "cell_type": "markdown",
   "metadata": {
    "colab_type": "text",
    "id": "RBo0JVjVVqAF"
   },
   "source": [
    "# 24. Какая студия дает самые длинные названия своим фильмам по количеству символов?"
   ]
  },
  {
   "cell_type": "code",
   "execution_count": 70,
   "metadata": {
    "colab": {},
    "colab_type": "code",
    "id": "QRGS8L0iVqAG"
   },
   "outputs": [],
   "source": [
    "answers['24'] = 'Four By Two Productions'\n",
    "#+"
   ]
  },
  {
   "cell_type": "code",
   "execution_count": 71,
   "metadata": {},
   "outputs": [
    {
     "data": {
      "text/plain": [
       "'Four By Two Productions'"
      ]
     },
     "execution_count": 71,
     "metadata": {},
     "output_type": "execute_result"
    }
   ],
   "source": [
    "data_24 = data.copy()\n",
    "data_24 = fun_explode(data_24, 'production_companies').reset_index(drop=True)\n",
    "# добавим новый столбец в датафрейм с кол-вом символов в названии для каждого фильма\n",
    "data_24['count_letter'] = data_24.original_title.apply(len)\n",
    "# группируем по компаниям с подсчетом среднего показателя кол-ва символов в названии, \n",
    "# сортируем по убыванию и выбираем первый в списке с индексом 0\n",
    "data_24.groupby(['production_companies'])['count_letter'].mean().sort_values(ascending=False).index[0]"
   ]
  },
  {
   "cell_type": "markdown",
   "metadata": {
    "colab_type": "text",
    "id": "9G0hbvR7VqAK"
   },
   "source": [
    "# 25. Описание фильмов какой студии в среднем самые длинные по количеству слов?"
   ]
  },
  {
   "cell_type": "code",
   "execution_count": 72,
   "metadata": {
    "colab": {},
    "colab_type": "code",
    "id": "Ge2GsLNxVqAK"
   },
   "outputs": [],
   "source": [
    "answers['25'] = 'Midnight Picture Show'\n",
    "#+"
   ]
  },
  {
   "cell_type": "code",
   "execution_count": 73,
   "metadata": {},
   "outputs": [
    {
     "data": {
      "text/plain": [
       "'Midnight Picture Show'"
      ]
     },
     "execution_count": 73,
     "metadata": {},
     "output_type": "execute_result"
    }
   ],
   "source": [
    "data_25 = data.copy()\n",
    "data_25 = fun_explode(data_25, 'production_companies').reset_index(drop=True)\n",
    "# добавим новый столбец в датафрейм с кол-вом слов в описании для каждого фильма\n",
    "data_25['len_over'] = data_25.overview.str.split(' ').apply(len)\n",
    "# группируем по компаниям с подсчетом среднего показателя кол-ва слов в описании, \n",
    "# сортируем по убыванию и выбираем первый в списке с индексом 0\n",
    "data_25.groupby(['production_companies'])['len_over'].mean().sort_values(ascending=False).index[0]"
   ]
  },
  {
   "cell_type": "markdown",
   "metadata": {
    "colab_type": "text",
    "id": "FJ1AFt90VqAP"
   },
   "source": [
    "# 26. Какие фильмы входят в 1 процент лучших по рейтингу? \n",
    "по vote_average"
   ]
  },
  {
   "cell_type": "code",
   "execution_count": 74,
   "metadata": {
    "colab": {},
    "colab_type": "code",
    "id": "8qmJVq4CVqAQ"
   },
   "outputs": [],
   "source": [
    "answers['26'] = 'Inside Out, The Dark Knight, 12 Years a Slave'\n",
    "#+"
   ]
  },
  {
   "cell_type": "code",
   "execution_count": 75,
   "metadata": {
    "scrolled": true
   },
   "outputs": [
    {
     "data": {
      "text/plain": [
       "0                                        Inside Out\n",
       "1                                              Room\n",
       "2                                      Interstellar\n",
       "3                           Guardians of the Galaxy\n",
       "4                                The Imitation Game\n",
       "5                                         Gone Girl\n",
       "6                          The Grand Budapest Hotel\n",
       "7                                         Inception\n",
       "8                                   The Dark Knight\n",
       "9                                       The Pianist\n",
       "10    The Lord of the Rings: The Return of the King\n",
       "11                          The Wolf of Wall Street\n",
       "12                                 12 Years a Slave\n",
       "13                                          Memento\n",
       "Name: original_title, dtype: object"
      ]
     },
     "execution_count": 75,
     "metadata": {},
     "output_type": "execute_result"
    }
   ],
   "source": [
    "data_261 = data.copy()\n",
    "# для столбца vote_average определим число - процентиль, \n",
    "# рейтинг фильмов выше такого числа и будет 1% лучших фильмов\n",
    "perc_va = np.percentile(data_261['vote_average'], q = 99)\n",
    "data_261[data_261['vote_average'] > perc_va].reset_index(drop=True).original_title"
   ]
  },
  {
   "cell_type": "markdown",
   "metadata": {},
   "source": [
    "Вариант 2. То же самое, только функция quantile() вместо percentile().  "
   ]
  },
  {
   "cell_type": "code",
   "execution_count": 76,
   "metadata": {},
   "outputs": [
    {
     "data": {
      "text/plain": [
       "0                                        Inside Out\n",
       "1                                              Room\n",
       "2                                      Interstellar\n",
       "3                           Guardians of the Galaxy\n",
       "4                                The Imitation Game\n",
       "5                                         Gone Girl\n",
       "6                          The Grand Budapest Hotel\n",
       "7                                         Inception\n",
       "8                                   The Dark Knight\n",
       "9                                       The Pianist\n",
       "10    The Lord of the Rings: The Return of the King\n",
       "11                          The Wolf of Wall Street\n",
       "12                                 12 Years a Slave\n",
       "13                                          Memento\n",
       "Name: original_title, dtype: object"
      ]
     },
     "execution_count": 76,
     "metadata": {},
     "output_type": "execute_result"
    }
   ],
   "source": [
    "data_262 = data.copy()\n",
    "quant_va = np.quantile(data_262['vote_average'], q = 0.99)\n",
    "data_262[data_262['vote_average'] > quant_va].reset_index(drop=True).original_title"
   ]
  },
  {
   "cell_type": "markdown",
   "metadata": {},
   "source": [
    "Вариант 3. Ответ немного другой..."
   ]
  },
  {
   "cell_type": "code",
   "execution_count": 77,
   "metadata": {},
   "outputs": [
    {
     "name": "stdout",
     "output_type": "stream",
     "text": [
      "19 фильмов входит в 1% от общего рейтинга\n",
      "Ниже список таких фильмов:\n"
     ]
    },
    {
     "data": {
      "text/plain": [
       "0                                   The Dark Knight\n",
       "1                                      Interstellar\n",
       "2                                The Imitation Game\n",
       "3                                        Inside Out\n",
       "4                                              Room\n",
       "5                           The Wolf of Wall Street\n",
       "6                                         Gone Girl\n",
       "7                                  12 Years a Slave\n",
       "8                           Guardians of the Galaxy\n",
       "9     The Lord of the Rings: The Return of the King\n",
       "10                                          Memento\n",
       "11                                        Inception\n",
       "12                                      The Pianist\n",
       "13                         The Grand Budapest Hotel\n",
       "14                                              Her\n",
       "15                                        Spotlight\n",
       "16                                       Big Hero 6\n",
       "17                           The Fault in Our Stars\n",
       "18            The Lord of the Rings: The Two Towers\n",
       "Name: original_title, dtype: object"
      ]
     },
     "execution_count": 77,
     "metadata": {},
     "output_type": "execute_result"
    }
   ],
   "source": [
    "data_26 = data.copy()\n",
    "count = round(len(data_26) / 100 * 1)\n",
    "print(count,'фильмов входит в 1% от общего рейтинга')\n",
    "print('Ниже список таких фильмов:')\n",
    "# сортируем по полю 'vote_average' по убывающей \n",
    "# и показываем первые \"count\" строк - это и есть перечень топ 1% из общего датафрейма\n",
    "data_26.sort_values(by='vote_average',ascending = False).reset_index(drop=True).head(count).original_title"
   ]
  },
  {
   "cell_type": "markdown",
   "metadata": {
    "colab_type": "text",
    "id": "MdXsUXbCVqAV"
   },
   "source": [
    "# 27. Какие актеры чаще всего снимаются в одном фильме вместе?\n"
   ]
  },
  {
   "cell_type": "code",
   "execution_count": 78,
   "metadata": {},
   "outputs": [],
   "source": [
    "answers['27'] = 'Daniel Radcliffe & Rupert Grint'\n",
    "#+"
   ]
  },
  {
   "cell_type": "code",
   "execution_count": 76,
   "metadata": {},
   "outputs": [
    {
     "data": {
      "text/plain": [
       "[(('Daniel Radcliffe', 'Rupert Grint'), 8),\n",
       " (('Daniel Radcliffe', 'Emma Watson'), 8),\n",
       " (('Rupert Grint', 'Emma Watson'), 7),\n",
       " (('Ben Stiller', 'Owen Wilson'), 6),\n",
       " (('Johnny Depp', 'Helena Bonham Carter'), 6),\n",
       " (('Adam Sandler', 'Kevin James'), 5),\n",
       " (('Hugh Jackman', 'Ian McKellen'), 5),\n",
       " (('Kristen Stewart', 'Robert Pattinson'), 5),\n",
       " (('Kristen Stewart', 'Taylor Lautner'), 5),\n",
       " (('Robert Pattinson', 'Taylor Lautner'), 5)]"
      ]
     },
     "execution_count": 76,
     "metadata": {},
     "output_type": "execute_result"
    }
   ],
   "source": [
    "data_27 = data.copy()\n",
    "data_27 = data_27.cast.str.split('|') # получаем строки, каждая из которых - список актеров того или иного фильма\n",
    "cast_comb = []\n",
    "# пройдемся по data_27 и для каждой строки найдем все возможные пары, добавим их все в список cast_comb\n",
    "for i in range(0,len(data_27)):\n",
    "    cast_comb.append(list(combinations(data_27[i],2)))\n",
    "# посчитаем количество встреч той или иной пары и отсортируем по убыванию\n",
    "Counter(chain(*cast_comb)).most_common(10)"
   ]
  },
  {
   "cell_type": "markdown",
   "metadata": {},
   "source": [
    "Вариант 2. То же самое, только permutations вместо combinations. Мне кажется, такой вариант предпочтительнее. \n",
    "Это наглядно видно на паре ('Rupert Grint', 'Emma Watson')."
   ]
  },
  {
   "cell_type": "code",
   "execution_count": 42,
   "metadata": {},
   "outputs": [
    {
     "data": {
      "text/plain": [
       "[('Chris Pratt', 'Bryce Dallas Howard'),\n",
       " ('Chris Pratt', 'Irrfan Khan'),\n",
       " ('Chris Pratt', \"Vincent D'Onofrio\"),\n",
       " ('Chris Pratt', 'Nick Robinson'),\n",
       " ('Bryce Dallas Howard', 'Chris Pratt'),\n",
       " ('Bryce Dallas Howard', 'Irrfan Khan'),\n",
       " ('Bryce Dallas Howard', \"Vincent D'Onofrio\"),\n",
       " ('Bryce Dallas Howard', 'Nick Robinson'),\n",
       " ('Irrfan Khan', 'Chris Pratt'),\n",
       " ('Irrfan Khan', 'Bryce Dallas Howard'),\n",
       " ('Irrfan Khan', \"Vincent D'Onofrio\"),\n",
       " ('Irrfan Khan', 'Nick Robinson'),\n",
       " (\"Vincent D'Onofrio\", 'Chris Pratt'),\n",
       " (\"Vincent D'Onofrio\", 'Bryce Dallas Howard'),\n",
       " (\"Vincent D'Onofrio\", 'Irrfan Khan'),\n",
       " (\"Vincent D'Onofrio\", 'Nick Robinson'),\n",
       " ('Nick Robinson', 'Chris Pratt'),\n",
       " ('Nick Robinson', 'Bryce Dallas Howard'),\n",
       " ('Nick Robinson', 'Irrfan Khan'),\n",
       " ('Nick Robinson', \"Vincent D'Onofrio\"),\n",
       " ('Tom Hardy', 'Charlize Theron'),\n",
       " ('Tom Hardy', 'Hugh Keays-Byrne'),\n",
       " ('Tom Hardy', 'Nicholas Hoult'),\n",
       " ('Tom Hardy', 'Josh Helman'),\n",
       " ('Charlize Theron', 'Tom Hardy'),\n",
       " ('Charlize Theron', 'Hugh Keays-Byrne'),\n",
       " ('Charlize Theron', 'Nicholas Hoult'),\n",
       " ('Charlize Theron', 'Josh Helman'),\n",
       " ('Hugh Keays-Byrne', 'Tom Hardy'),\n",
       " ('Hugh Keays-Byrne', 'Charlize Theron'),\n",
       " ('Hugh Keays-Byrne', 'Nicholas Hoult'),\n",
       " ('Hugh Keays-Byrne', 'Josh Helman'),\n",
       " ('Nicholas Hoult', 'Tom Hardy'),\n",
       " ('Nicholas Hoult', 'Charlize Theron'),\n",
       " ('Nicholas Hoult', 'Hugh Keays-Byrne'),\n",
       " ('Nicholas Hoult', 'Josh Helman'),\n",
       " ('Josh Helman', 'Tom Hardy'),\n",
       " ('Josh Helman', 'Charlize Theron'),\n",
       " ('Josh Helman', 'Hugh Keays-Byrne'),\n",
       " ('Josh Helman', 'Nicholas Hoult'),\n",
       " ('Shailene Woodley', 'Theo James'),\n",
       " ('Shailene Woodley', 'Kate Winslet'),\n",
       " ('Shailene Woodley', 'Ansel Elgort'),\n",
       " ('Shailene Woodley', 'Miles Teller'),\n",
       " ('Theo James', 'Shailene Woodley'),\n",
       " ('Theo James', 'Kate Winslet'),\n",
       " ('Theo James', 'Ansel Elgort'),\n",
       " ('Theo James', 'Miles Teller'),\n",
       " ('Kate Winslet', 'Shailene Woodley'),\n",
       " ('Kate Winslet', 'Theo James'),\n",
       " ('Kate Winslet', 'Ansel Elgort'),\n",
       " ('Kate Winslet', 'Miles Teller'),\n",
       " ('Ansel Elgort', 'Shailene Woodley'),\n",
       " ('Ansel Elgort', 'Theo James'),\n",
       " ('Ansel Elgort', 'Kate Winslet'),\n",
       " ('Ansel Elgort', 'Miles Teller'),\n",
       " ('Miles Teller', 'Shailene Woodley'),\n",
       " ('Miles Teller', 'Theo James'),\n",
       " ('Miles Teller', 'Kate Winslet'),\n",
       " ('Miles Teller', 'Ansel Elgort'),\n",
       " ('Harrison Ford', 'Mark Hamill'),\n",
       " ('Harrison Ford', 'Carrie Fisher'),\n",
       " ('Harrison Ford', 'Adam Driver'),\n",
       " ('Harrison Ford', 'Daisy Ridley'),\n",
       " ('Mark Hamill', 'Harrison Ford'),\n",
       " ('Mark Hamill', 'Carrie Fisher'),\n",
       " ('Mark Hamill', 'Adam Driver'),\n",
       " ('Mark Hamill', 'Daisy Ridley'),\n",
       " ('Carrie Fisher', 'Harrison Ford'),\n",
       " ('Carrie Fisher', 'Mark Hamill'),\n",
       " ('Carrie Fisher', 'Adam Driver'),\n",
       " ('Carrie Fisher', 'Daisy Ridley'),\n",
       " ('Adam Driver', 'Harrison Ford'),\n",
       " ('Adam Driver', 'Mark Hamill'),\n",
       " ('Adam Driver', 'Carrie Fisher'),\n",
       " ('Adam Driver', 'Daisy Ridley'),\n",
       " ('Daisy Ridley', 'Harrison Ford'),\n",
       " ('Daisy Ridley', 'Mark Hamill'),\n",
       " ('Daisy Ridley', 'Carrie Fisher'),\n",
       " ('Daisy Ridley', 'Adam Driver'),\n",
       " ('Vin Diesel', 'Paul Walker'),\n",
       " ('Vin Diesel', 'Jason Statham'),\n",
       " ('Vin Diesel', 'Michelle Rodriguez'),\n",
       " ('Vin Diesel', 'Dwayne Johnson'),\n",
       " ('Paul Walker', 'Vin Diesel'),\n",
       " ('Paul Walker', 'Jason Statham'),\n",
       " ('Paul Walker', 'Michelle Rodriguez'),\n",
       " ('Paul Walker', 'Dwayne Johnson'),\n",
       " ('Jason Statham', 'Vin Diesel'),\n",
       " ('Jason Statham', 'Paul Walker'),\n",
       " ('Jason Statham', 'Michelle Rodriguez'),\n",
       " ('Jason Statham', 'Dwayne Johnson'),\n",
       " ('Michelle Rodriguez', 'Vin Diesel'),\n",
       " ('Michelle Rodriguez', 'Paul Walker'),\n",
       " ('Michelle Rodriguez', 'Jason Statham'),\n",
       " ('Michelle Rodriguez', 'Dwayne Johnson'),\n",
       " ('Dwayne Johnson', 'Vin Diesel'),\n",
       " ('Dwayne Johnson', 'Paul Walker'),\n",
       " ('Dwayne Johnson', 'Jason Statham'),\n",
       " ('Dwayne Johnson', 'Michelle Rodriguez'),\n",
       " ('Leonardo DiCaprio', 'Tom Hardy'),\n",
       " ('Leonardo DiCaprio', 'Will Poulter'),\n",
       " ('Leonardo DiCaprio', 'Domhnall Gleeson'),\n",
       " ('Leonardo DiCaprio', 'Paul Anderson'),\n",
       " ('Tom Hardy', 'Leonardo DiCaprio'),\n",
       " ('Tom Hardy', 'Will Poulter'),\n",
       " ('Tom Hardy', 'Domhnall Gleeson'),\n",
       " ('Tom Hardy', 'Paul Anderson'),\n",
       " ('Will Poulter', 'Leonardo DiCaprio'),\n",
       " ('Will Poulter', 'Tom Hardy'),\n",
       " ('Will Poulter', 'Domhnall Gleeson'),\n",
       " ('Will Poulter', 'Paul Anderson'),\n",
       " ('Domhnall Gleeson', 'Leonardo DiCaprio'),\n",
       " ('Domhnall Gleeson', 'Tom Hardy'),\n",
       " ('Domhnall Gleeson', 'Will Poulter'),\n",
       " ('Domhnall Gleeson', 'Paul Anderson'),\n",
       " ('Paul Anderson', 'Leonardo DiCaprio'),\n",
       " ('Paul Anderson', 'Tom Hardy'),\n",
       " ('Paul Anderson', 'Will Poulter'),\n",
       " ('Paul Anderson', 'Domhnall Gleeson'),\n",
       " ('Arnold Schwarzenegger', 'Jason Clarke'),\n",
       " ('Arnold Schwarzenegger', 'Emilia Clarke'),\n",
       " ('Arnold Schwarzenegger', 'Jai Courtney'),\n",
       " ('Arnold Schwarzenegger', 'J.K. Simmons'),\n",
       " ('Jason Clarke', 'Arnold Schwarzenegger'),\n",
       " ('Jason Clarke', 'Emilia Clarke'),\n",
       " ('Jason Clarke', 'Jai Courtney'),\n",
       " ('Jason Clarke', 'J.K. Simmons'),\n",
       " ('Emilia Clarke', 'Arnold Schwarzenegger'),\n",
       " ('Emilia Clarke', 'Jason Clarke'),\n",
       " ('Emilia Clarke', 'Jai Courtney'),\n",
       " ('Emilia Clarke', 'J.K. Simmons'),\n",
       " ('Jai Courtney', 'Arnold Schwarzenegger'),\n",
       " ('Jai Courtney', 'Jason Clarke'),\n",
       " ('Jai Courtney', 'Emilia Clarke'),\n",
       " ('Jai Courtney', 'J.K. Simmons'),\n",
       " ('J.K. Simmons', 'Arnold Schwarzenegger'),\n",
       " ('J.K. Simmons', 'Jason Clarke'),\n",
       " ('J.K. Simmons', 'Emilia Clarke'),\n",
       " ('J.K. Simmons', 'Jai Courtney'),\n",
       " ('Matt Damon', 'Jessica Chastain'),\n",
       " ('Matt Damon', 'Kristen Wiig'),\n",
       " ('Matt Damon', 'Jeff Daniels'),\n",
       " ('Matt Damon', 'Michael PeÃ±a'),\n",
       " ('Jessica Chastain', 'Matt Damon'),\n",
       " ('Jessica Chastain', 'Kristen Wiig'),\n",
       " ('Jessica Chastain', 'Jeff Daniels'),\n",
       " ('Jessica Chastain', 'Michael PeÃ±a'),\n",
       " ('Kristen Wiig', 'Matt Damon'),\n",
       " ('Kristen Wiig', 'Jessica Chastain'),\n",
       " ('Kristen Wiig', 'Jeff Daniels'),\n",
       " ('Kristen Wiig', 'Michael PeÃ±a'),\n",
       " ('Jeff Daniels', 'Matt Damon'),\n",
       " ('Jeff Daniels', 'Jessica Chastain'),\n",
       " ('Jeff Daniels', 'Kristen Wiig'),\n",
       " ('Jeff Daniels', 'Michael PeÃ±a'),\n",
       " ('Michael PeÃ±a', 'Matt Damon'),\n",
       " ('Michael PeÃ±a', 'Jessica Chastain'),\n",
       " ('Michael PeÃ±a', 'Kristen Wiig'),\n",
       " ('Michael PeÃ±a', 'Jeff Daniels'),\n",
       " ('Sandra Bullock', 'Jon Hamm'),\n",
       " ('Sandra Bullock', 'Michael Keaton'),\n",
       " ('Sandra Bullock', 'Allison Janney'),\n",
       " ('Sandra Bullock', 'Steve Coogan'),\n",
       " ('Jon Hamm', 'Sandra Bullock'),\n",
       " ('Jon Hamm', 'Michael Keaton'),\n",
       " ('Jon Hamm', 'Allison Janney'),\n",
       " ('Jon Hamm', 'Steve Coogan'),\n",
       " ('Michael Keaton', 'Sandra Bullock'),\n",
       " ('Michael Keaton', 'Jon Hamm'),\n",
       " ('Michael Keaton', 'Allison Janney'),\n",
       " ('Michael Keaton', 'Steve Coogan'),\n",
       " ('Allison Janney', 'Sandra Bullock'),\n",
       " ('Allison Janney', 'Jon Hamm'),\n",
       " ('Allison Janney', 'Michael Keaton'),\n",
       " ('Allison Janney', 'Steve Coogan'),\n",
       " ('Steve Coogan', 'Sandra Bullock'),\n",
       " ('Steve Coogan', 'Jon Hamm'),\n",
       " ('Steve Coogan', 'Michael Keaton'),\n",
       " ('Steve Coogan', 'Allison Janney'),\n",
       " ('Amy Poehler', 'Phyllis Smith'),\n",
       " ('Amy Poehler', 'Richard Kind'),\n",
       " ('Amy Poehler', 'Bill Hader'),\n",
       " ('Amy Poehler', 'Lewis Black'),\n",
       " ('Phyllis Smith', 'Amy Poehler'),\n",
       " ('Phyllis Smith', 'Richard Kind'),\n",
       " ('Phyllis Smith', 'Bill Hader'),\n",
       " ('Phyllis Smith', 'Lewis Black'),\n",
       " ('Richard Kind', 'Amy Poehler'),\n",
       " ('Richard Kind', 'Phyllis Smith'),\n",
       " ('Richard Kind', 'Bill Hader'),\n",
       " ('Richard Kind', 'Lewis Black'),\n",
       " ('Bill Hader', 'Amy Poehler'),\n",
       " ('Bill Hader', 'Phyllis Smith'),\n",
       " ('Bill Hader', 'Richard Kind'),\n",
       " ('Bill Hader', 'Lewis Black'),\n",
       " ('Lewis Black', 'Amy Poehler'),\n",
       " ('Lewis Black', 'Phyllis Smith'),\n",
       " ('Lewis Black', 'Richard Kind'),\n",
       " ('Lewis Black', 'Bill Hader'),\n",
       " ('Daniel Craig', 'Christoph Waltz'),\n",
       " ('Daniel Craig', 'LÃ©a Seydoux'),\n",
       " ('Daniel Craig', 'Ralph Fiennes'),\n",
       " ('Daniel Craig', 'Monica Bellucci'),\n",
       " ('Christoph Waltz', 'Daniel Craig'),\n",
       " ('Christoph Waltz', 'LÃ©a Seydoux'),\n",
       " ('Christoph Waltz', 'Ralph Fiennes'),\n",
       " ('Christoph Waltz', 'Monica Bellucci'),\n",
       " ('LÃ©a Seydoux', 'Daniel Craig'),\n",
       " ('LÃ©a Seydoux', 'Christoph Waltz'),\n",
       " ('LÃ©a Seydoux', 'Ralph Fiennes'),\n",
       " ('LÃ©a Seydoux', 'Monica Bellucci'),\n",
       " ('Ralph Fiennes', 'Daniel Craig'),\n",
       " ('Ralph Fiennes', 'Christoph Waltz'),\n",
       " ('Ralph Fiennes', 'LÃ©a Seydoux'),\n",
       " ('Ralph Fiennes', 'Monica Bellucci'),\n",
       " ('Monica Bellucci', 'Daniel Craig'),\n",
       " ('Monica Bellucci', 'Christoph Waltz'),\n",
       " ('Monica Bellucci', 'LÃ©a Seydoux'),\n",
       " ('Monica Bellucci', 'Ralph Fiennes'),\n",
       " ('Mila Kunis', 'Channing Tatum'),\n",
       " ('Mila Kunis', 'Sean Bean'),\n",
       " ('Mila Kunis', 'Eddie Redmayne'),\n",
       " ('Mila Kunis', 'Douglas Booth'),\n",
       " ('Channing Tatum', 'Mila Kunis'),\n",
       " ('Channing Tatum', 'Sean Bean'),\n",
       " ('Channing Tatum', 'Eddie Redmayne'),\n",
       " ('Channing Tatum', 'Douglas Booth'),\n",
       " ('Sean Bean', 'Mila Kunis'),\n",
       " ('Sean Bean', 'Channing Tatum'),\n",
       " ('Sean Bean', 'Eddie Redmayne'),\n",
       " ('Sean Bean', 'Douglas Booth'),\n",
       " ('Eddie Redmayne', 'Mila Kunis'),\n",
       " ('Eddie Redmayne', 'Channing Tatum'),\n",
       " ('Eddie Redmayne', 'Sean Bean'),\n",
       " ('Eddie Redmayne', 'Douglas Booth'),\n",
       " ('Douglas Booth', 'Mila Kunis'),\n",
       " ('Douglas Booth', 'Channing Tatum'),\n",
       " ('Douglas Booth', 'Sean Bean'),\n",
       " ('Douglas Booth', 'Eddie Redmayne'),\n",
       " ('Domhnall Gleeson', 'Alicia Vikander'),\n",
       " ('Domhnall Gleeson', 'Oscar Isaac'),\n",
       " ('Domhnall Gleeson', 'Sonoya Mizuno'),\n",
       " ('Domhnall Gleeson', 'Corey Johnson'),\n",
       " ('Alicia Vikander', 'Domhnall Gleeson'),\n",
       " ('Alicia Vikander', 'Oscar Isaac'),\n",
       " ('Alicia Vikander', 'Sonoya Mizuno'),\n",
       " ('Alicia Vikander', 'Corey Johnson'),\n",
       " ('Oscar Isaac', 'Domhnall Gleeson'),\n",
       " ('Oscar Isaac', 'Alicia Vikander'),\n",
       " ('Oscar Isaac', 'Sonoya Mizuno'),\n",
       " ('Oscar Isaac', 'Corey Johnson'),\n",
       " ('Sonoya Mizuno', 'Domhnall Gleeson'),\n",
       " ('Sonoya Mizuno', 'Alicia Vikander'),\n",
       " ('Sonoya Mizuno', 'Oscar Isaac'),\n",
       " ('Sonoya Mizuno', 'Corey Johnson'),\n",
       " ('Corey Johnson', 'Domhnall Gleeson'),\n",
       " ('Corey Johnson', 'Alicia Vikander'),\n",
       " ('Corey Johnson', 'Oscar Isaac'),\n",
       " ('Corey Johnson', 'Sonoya Mizuno'),\n",
       " ('Adam Sandler', 'Michelle Monaghan'),\n",
       " ('Adam Sandler', 'Peter Dinklage'),\n",
       " ('Adam Sandler', 'Josh Gad'),\n",
       " ('Adam Sandler', 'Kevin James'),\n",
       " ('Michelle Monaghan', 'Adam Sandler'),\n",
       " ('Michelle Monaghan', 'Peter Dinklage'),\n",
       " ('Michelle Monaghan', 'Josh Gad'),\n",
       " ('Michelle Monaghan', 'Kevin James'),\n",
       " ('Peter Dinklage', 'Adam Sandler'),\n",
       " ('Peter Dinklage', 'Michelle Monaghan'),\n",
       " ('Peter Dinklage', 'Josh Gad'),\n",
       " ('Peter Dinklage', 'Kevin James'),\n",
       " ('Josh Gad', 'Adam Sandler'),\n",
       " ('Josh Gad', 'Michelle Monaghan'),\n",
       " ('Josh Gad', 'Peter Dinklage'),\n",
       " ('Josh Gad', 'Kevin James'),\n",
       " ('Kevin James', 'Adam Sandler'),\n",
       " ('Kevin James', 'Michelle Monaghan'),\n",
       " ('Kevin James', 'Peter Dinklage'),\n",
       " ('Kevin James', 'Josh Gad'),\n",
       " ('Robert Downey Jr.', 'Chris Hemsworth'),\n",
       " ('Robert Downey Jr.', 'Mark Ruffalo'),\n",
       " ('Robert Downey Jr.', 'Chris Evans'),\n",
       " ('Robert Downey Jr.', 'Scarlett Johansson'),\n",
       " ('Chris Hemsworth', 'Robert Downey Jr.'),\n",
       " ('Chris Hemsworth', 'Mark Ruffalo'),\n",
       " ('Chris Hemsworth', 'Chris Evans'),\n",
       " ('Chris Hemsworth', 'Scarlett Johansson'),\n",
       " ('Mark Ruffalo', 'Robert Downey Jr.'),\n",
       " ('Mark Ruffalo', 'Chris Hemsworth'),\n",
       " ('Mark Ruffalo', 'Chris Evans'),\n",
       " ('Mark Ruffalo', 'Scarlett Johansson'),\n",
       " ('Chris Evans', 'Robert Downey Jr.'),\n",
       " ('Chris Evans', 'Chris Hemsworth'),\n",
       " ('Chris Evans', 'Mark Ruffalo'),\n",
       " ('Chris Evans', 'Scarlett Johansson'),\n",
       " ('Scarlett Johansson', 'Robert Downey Jr.'),\n",
       " ('Scarlett Johansson', 'Chris Hemsworth'),\n",
       " ('Scarlett Johansson', 'Mark Ruffalo'),\n",
       " ('Scarlett Johansson', 'Chris Evans'),\n",
       " ('Samuel L. Jackson', 'Kurt Russell'),\n",
       " ('Samuel L. Jackson', 'Jennifer Jason Leigh'),\n",
       " ('Samuel L. Jackson', 'Walton Goggins'),\n",
       " ('Samuel L. Jackson', 'DemiÃ¡n Bichir'),\n",
       " ('Kurt Russell', 'Samuel L. Jackson'),\n",
       " ('Kurt Russell', 'Jennifer Jason Leigh'),\n",
       " ('Kurt Russell', 'Walton Goggins'),\n",
       " ('Kurt Russell', 'DemiÃ¡n Bichir'),\n",
       " ('Jennifer Jason Leigh', 'Samuel L. Jackson'),\n",
       " ('Jennifer Jason Leigh', 'Kurt Russell'),\n",
       " ('Jennifer Jason Leigh', 'Walton Goggins'),\n",
       " ('Jennifer Jason Leigh', 'DemiÃ¡n Bichir'),\n",
       " ('Walton Goggins', 'Samuel L. Jackson'),\n",
       " ('Walton Goggins', 'Kurt Russell'),\n",
       " ('Walton Goggins', 'Jennifer Jason Leigh'),\n",
       " ('Walton Goggins', 'DemiÃ¡n Bichir'),\n",
       " ('DemiÃ¡n Bichir', 'Samuel L. Jackson'),\n",
       " ('DemiÃ¡n Bichir', 'Kurt Russell'),\n",
       " ('DemiÃ¡n Bichir', 'Jennifer Jason Leigh'),\n",
       " ('DemiÃ¡n Bichir', 'Walton Goggins'),\n",
       " ('Liam Neeson', 'Forest Whitaker'),\n",
       " ('Liam Neeson', 'Maggie Grace'),\n",
       " ('Liam Neeson', 'Famke Janssen'),\n",
       " ('Liam Neeson', 'Dougray Scott'),\n",
       " ('Forest Whitaker', 'Liam Neeson'),\n",
       " ('Forest Whitaker', 'Maggie Grace'),\n",
       " ('Forest Whitaker', 'Famke Janssen'),\n",
       " ('Forest Whitaker', 'Dougray Scott'),\n",
       " ('Maggie Grace', 'Liam Neeson'),\n",
       " ('Maggie Grace', 'Forest Whitaker'),\n",
       " ('Maggie Grace', 'Famke Janssen'),\n",
       " ('Maggie Grace', 'Dougray Scott'),\n",
       " ('Famke Janssen', 'Liam Neeson'),\n",
       " ('Famke Janssen', 'Forest Whitaker'),\n",
       " ('Famke Janssen', 'Maggie Grace'),\n",
       " ('Famke Janssen', 'Dougray Scott'),\n",
       " ('Dougray Scott', 'Liam Neeson'),\n",
       " ('Dougray Scott', 'Forest Whitaker'),\n",
       " ('Dougray Scott', 'Maggie Grace'),\n",
       " ('Dougray Scott', 'Famke Janssen'),\n",
       " ('Paul Rudd', 'Michael Douglas'),\n",
       " ('Paul Rudd', 'Evangeline Lilly'),\n",
       " ('Paul Rudd', 'Corey Stoll'),\n",
       " ('Paul Rudd', 'Bobby Cannavale'),\n",
       " ('Michael Douglas', 'Paul Rudd'),\n",
       " ('Michael Douglas', 'Evangeline Lilly'),\n",
       " ('Michael Douglas', 'Corey Stoll'),\n",
       " ('Michael Douglas', 'Bobby Cannavale'),\n",
       " ('Evangeline Lilly', 'Paul Rudd'),\n",
       " ('Evangeline Lilly', 'Michael Douglas'),\n",
       " ('Evangeline Lilly', 'Corey Stoll'),\n",
       " ('Evangeline Lilly', 'Bobby Cannavale'),\n",
       " ('Corey Stoll', 'Paul Rudd'),\n",
       " ('Corey Stoll', 'Michael Douglas'),\n",
       " ('Corey Stoll', 'Evangeline Lilly'),\n",
       " ('Corey Stoll', 'Bobby Cannavale'),\n",
       " ('Bobby Cannavale', 'Paul Rudd'),\n",
       " ('Bobby Cannavale', 'Michael Douglas'),\n",
       " ('Bobby Cannavale', 'Evangeline Lilly'),\n",
       " ('Bobby Cannavale', 'Corey Stoll'),\n",
       " ('Lily James', 'Cate Blanchett'),\n",
       " ('Lily James', 'Richard Madden'),\n",
       " ('Lily James', 'Helena Bonham Carter'),\n",
       " ('Lily James', 'Holliday Grainger'),\n",
       " ('Cate Blanchett', 'Lily James'),\n",
       " ('Cate Blanchett', 'Richard Madden'),\n",
       " ('Cate Blanchett', 'Helena Bonham Carter'),\n",
       " ('Cate Blanchett', 'Holliday Grainger'),\n",
       " ('Richard Madden', 'Lily James'),\n",
       " ('Richard Madden', 'Cate Blanchett'),\n",
       " ('Richard Madden', 'Helena Bonham Carter'),\n",
       " ('Richard Madden', 'Holliday Grainger'),\n",
       " ('Helena Bonham Carter', 'Lily James'),\n",
       " ('Helena Bonham Carter', 'Cate Blanchett'),\n",
       " ('Helena Bonham Carter', 'Richard Madden'),\n",
       " ('Helena Bonham Carter', 'Holliday Grainger'),\n",
       " ('Holliday Grainger', 'Lily James'),\n",
       " ('Holliday Grainger', 'Cate Blanchett'),\n",
       " ('Holliday Grainger', 'Richard Madden'),\n",
       " ('Holliday Grainger', 'Helena Bonham Carter'),\n",
       " ('Jennifer Lawrence', 'Josh Hutcherson'),\n",
       " ('Jennifer Lawrence', 'Liam Hemsworth'),\n",
       " ('Jennifer Lawrence', 'Woody Harrelson'),\n",
       " ('Jennifer Lawrence', 'Elizabeth Banks'),\n",
       " ('Josh Hutcherson', 'Jennifer Lawrence'),\n",
       " ('Josh Hutcherson', 'Liam Hemsworth'),\n",
       " ('Josh Hutcherson', 'Woody Harrelson'),\n",
       " ('Josh Hutcherson', 'Elizabeth Banks'),\n",
       " ('Liam Hemsworth', 'Jennifer Lawrence'),\n",
       " ('Liam Hemsworth', 'Josh Hutcherson'),\n",
       " ('Liam Hemsworth', 'Woody Harrelson'),\n",
       " ('Liam Hemsworth', 'Elizabeth Banks'),\n",
       " ('Woody Harrelson', 'Jennifer Lawrence'),\n",
       " ('Woody Harrelson', 'Josh Hutcherson'),\n",
       " ('Woody Harrelson', 'Liam Hemsworth'),\n",
       " ('Woody Harrelson', 'Elizabeth Banks'),\n",
       " ('Elizabeth Banks', 'Jennifer Lawrence'),\n",
       " ('Elizabeth Banks', 'Josh Hutcherson'),\n",
       " ('Elizabeth Banks', 'Liam Hemsworth'),\n",
       " ('Elizabeth Banks', 'Woody Harrelson'),\n",
       " ('Britt Robertson', 'George Clooney'),\n",
       " ('Britt Robertson', 'Raffey Cassidy'),\n",
       " ('Britt Robertson', 'Thomas Robinson'),\n",
       " ('Britt Robertson', 'Hugh Laurie'),\n",
       " ('George Clooney', 'Britt Robertson'),\n",
       " ('George Clooney', 'Raffey Cassidy'),\n",
       " ('George Clooney', 'Thomas Robinson'),\n",
       " ('George Clooney', 'Hugh Laurie'),\n",
       " ('Raffey Cassidy', 'Britt Robertson'),\n",
       " ('Raffey Cassidy', 'George Clooney'),\n",
       " ('Raffey Cassidy', 'Thomas Robinson'),\n",
       " ('Raffey Cassidy', 'Hugh Laurie'),\n",
       " ('Thomas Robinson', 'Britt Robertson'),\n",
       " ('Thomas Robinson', 'George Clooney'),\n",
       " ('Thomas Robinson', 'Raffey Cassidy'),\n",
       " ('Thomas Robinson', 'Hugh Laurie'),\n",
       " ('Hugh Laurie', 'Britt Robertson'),\n",
       " ('Hugh Laurie', 'George Clooney'),\n",
       " ('Hugh Laurie', 'Raffey Cassidy'),\n",
       " ('Hugh Laurie', 'Thomas Robinson'),\n",
       " ('Jake Gyllenhaal', 'Rachel McAdams'),\n",
       " ('Jake Gyllenhaal', 'Forest Whitaker'),\n",
       " ('Jake Gyllenhaal', 'Oona Laurence'),\n",
       " ('Jake Gyllenhaal', '50 Cent'),\n",
       " ('Rachel McAdams', 'Jake Gyllenhaal'),\n",
       " ('Rachel McAdams', 'Forest Whitaker'),\n",
       " ('Rachel McAdams', 'Oona Laurence'),\n",
       " ('Rachel McAdams', '50 Cent'),\n",
       " ('Forest Whitaker', 'Jake Gyllenhaal'),\n",
       " ('Forest Whitaker', 'Rachel McAdams'),\n",
       " ('Forest Whitaker', 'Oona Laurence'),\n",
       " ('Forest Whitaker', '50 Cent'),\n",
       " ('Oona Laurence', 'Jake Gyllenhaal'),\n",
       " ('Oona Laurence', 'Rachel McAdams'),\n",
       " ('Oona Laurence', 'Forest Whitaker'),\n",
       " ('Oona Laurence', '50 Cent'),\n",
       " ('50 Cent', 'Jake Gyllenhaal'),\n",
       " ('50 Cent', 'Rachel McAdams'),\n",
       " ('50 Cent', 'Forest Whitaker'),\n",
       " ('50 Cent', 'Oona Laurence'),\n",
       " ('Dwayne Johnson', 'Alexandra Daddario'),\n",
       " ('Dwayne Johnson', 'Carla Gugino'),\n",
       " ('Dwayne Johnson', 'Ioan Gruffudd'),\n",
       " ('Dwayne Johnson', 'Archie Panjabi'),\n",
       " ('Alexandra Daddario', 'Dwayne Johnson'),\n",
       " ('Alexandra Daddario', 'Carla Gugino'),\n",
       " ('Alexandra Daddario', 'Ioan Gruffudd'),\n",
       " ('Alexandra Daddario', 'Archie Panjabi'),\n",
       " ('Carla Gugino', 'Dwayne Johnson'),\n",
       " ('Carla Gugino', 'Alexandra Daddario'),\n",
       " ('Carla Gugino', 'Ioan Gruffudd'),\n",
       " ('Carla Gugino', 'Archie Panjabi'),\n",
       " ('Ioan Gruffudd', 'Dwayne Johnson'),\n",
       " ('Ioan Gruffudd', 'Alexandra Daddario'),\n",
       " ('Ioan Gruffudd', 'Carla Gugino'),\n",
       " ('Ioan Gruffudd', 'Archie Panjabi'),\n",
       " ('Archie Panjabi', 'Dwayne Johnson'),\n",
       " ('Archie Panjabi', 'Alexandra Daddario'),\n",
       " ('Archie Panjabi', 'Carla Gugino'),\n",
       " ('Archie Panjabi', 'Ioan Gruffudd'),\n",
       " ('Dakota Johnson', 'Jamie Dornan'),\n",
       " ('Dakota Johnson', 'Jennifer Ehle'),\n",
       " ('Dakota Johnson', 'Eloise Mumford'),\n",
       " ('Dakota Johnson', 'Victor Rasuk'),\n",
       " ('Jamie Dornan', 'Dakota Johnson'),\n",
       " ('Jamie Dornan', 'Jennifer Ehle'),\n",
       " ('Jamie Dornan', 'Eloise Mumford'),\n",
       " ('Jamie Dornan', 'Victor Rasuk'),\n",
       " ('Jennifer Ehle', 'Dakota Johnson'),\n",
       " ('Jennifer Ehle', 'Jamie Dornan'),\n",
       " ('Jennifer Ehle', 'Eloise Mumford'),\n",
       " ('Jennifer Ehle', 'Victor Rasuk'),\n",
       " ('Eloise Mumford', 'Dakota Johnson'),\n",
       " ('Eloise Mumford', 'Jamie Dornan'),\n",
       " ('Eloise Mumford', 'Jennifer Ehle'),\n",
       " ('Eloise Mumford', 'Victor Rasuk'),\n",
       " ('Victor Rasuk', 'Dakota Johnson'),\n",
       " ('Victor Rasuk', 'Jamie Dornan'),\n",
       " ('Victor Rasuk', 'Jennifer Ehle'),\n",
       " ('Victor Rasuk', 'Eloise Mumford'),\n",
       " ('Christian Bale', 'Steve Carell'),\n",
       " ('Christian Bale', 'Ryan Gosling'),\n",
       " ('Christian Bale', 'Brad Pitt'),\n",
       " ('Christian Bale', 'Melissa Leo'),\n",
       " ('Steve Carell', 'Christian Bale'),\n",
       " ('Steve Carell', 'Ryan Gosling'),\n",
       " ('Steve Carell', 'Brad Pitt'),\n",
       " ('Steve Carell', 'Melissa Leo'),\n",
       " ('Ryan Gosling', 'Christian Bale'),\n",
       " ('Ryan Gosling', 'Steve Carell'),\n",
       " ('Ryan Gosling', 'Brad Pitt'),\n",
       " ('Ryan Gosling', 'Melissa Leo'),\n",
       " ('Brad Pitt', 'Christian Bale'),\n",
       " ('Brad Pitt', 'Steve Carell'),\n",
       " ('Brad Pitt', 'Ryan Gosling'),\n",
       " ('Brad Pitt', 'Melissa Leo'),\n",
       " ('Melissa Leo', 'Christian Bale'),\n",
       " ('Melissa Leo', 'Steve Carell'),\n",
       " ('Melissa Leo', 'Ryan Gosling'),\n",
       " ('Melissa Leo', 'Brad Pitt'),\n",
       " ('Tom Cruise', 'Jeremy Renner'),\n",
       " ('Tom Cruise', 'Simon Pegg'),\n",
       " ('Tom Cruise', 'Rebecca Ferguson'),\n",
       " ('Tom Cruise', 'Ving Rhames'),\n",
       " ('Jeremy Renner', 'Tom Cruise'),\n",
       " ('Jeremy Renner', 'Simon Pegg'),\n",
       " ('Jeremy Renner', 'Rebecca Ferguson'),\n",
       " ('Jeremy Renner', 'Ving Rhames'),\n",
       " ('Simon Pegg', 'Tom Cruise'),\n",
       " ('Simon Pegg', 'Jeremy Renner'),\n",
       " ('Simon Pegg', 'Rebecca Ferguson'),\n",
       " ('Simon Pegg', 'Ving Rhames'),\n",
       " ('Rebecca Ferguson', 'Tom Cruise'),\n",
       " ('Rebecca Ferguson', 'Jeremy Renner'),\n",
       " ('Rebecca Ferguson', 'Simon Pegg'),\n",
       " ('Rebecca Ferguson', 'Ving Rhames'),\n",
       " ('Ving Rhames', 'Tom Cruise'),\n",
       " ('Ving Rhames', 'Jeremy Renner'),\n",
       " ('Ving Rhames', 'Simon Pegg'),\n",
       " ('Ving Rhames', 'Rebecca Ferguson'),\n",
       " ('Mark Wahlberg', 'Seth MacFarlane'),\n",
       " ('Mark Wahlberg', 'Amanda Seyfried'),\n",
       " ('Mark Wahlberg', 'Jessica Barth'),\n",
       " ('Mark Wahlberg', 'Giovanni Ribisi'),\n",
       " ('Seth MacFarlane', 'Mark Wahlberg'),\n",
       " ('Seth MacFarlane', 'Amanda Seyfried'),\n",
       " ('Seth MacFarlane', 'Jessica Barth'),\n",
       " ('Seth MacFarlane', 'Giovanni Ribisi'),\n",
       " ('Amanda Seyfried', 'Mark Wahlberg'),\n",
       " ('Amanda Seyfried', 'Seth MacFarlane'),\n",
       " ('Amanda Seyfried', 'Jessica Barth'),\n",
       " ('Amanda Seyfried', 'Giovanni Ribisi'),\n",
       " ('Jessica Barth', 'Mark Wahlberg'),\n",
       " ('Jessica Barth', 'Seth MacFarlane'),\n",
       " ('Jessica Barth', 'Amanda Seyfried'),\n",
       " ('Jessica Barth', 'Giovanni Ribisi'),\n",
       " ('Giovanni Ribisi', 'Mark Wahlberg'),\n",
       " ('Giovanni Ribisi', 'Seth MacFarlane'),\n",
       " ('Giovanni Ribisi', 'Amanda Seyfried'),\n",
       " ('Giovanni Ribisi', 'Jessica Barth'),\n",
       " ('Taron Egerton', 'Colin Firth'),\n",
       " ('Taron Egerton', 'Samuel L. Jackson'),\n",
       " ('Taron Egerton', 'Michael Caine'),\n",
       " ('Taron Egerton', 'Mark Strong'),\n",
       " ('Colin Firth', 'Taron Egerton'),\n",
       " ('Colin Firth', 'Samuel L. Jackson'),\n",
       " ('Colin Firth', 'Michael Caine'),\n",
       " ('Colin Firth', 'Mark Strong'),\n",
       " ('Samuel L. Jackson', 'Taron Egerton'),\n",
       " ('Samuel L. Jackson', 'Colin Firth'),\n",
       " ('Samuel L. Jackson', 'Michael Caine'),\n",
       " ('Samuel L. Jackson', 'Mark Strong'),\n",
       " ('Michael Caine', 'Taron Egerton'),\n",
       " ('Michael Caine', 'Colin Firth'),\n",
       " ('Michael Caine', 'Samuel L. Jackson'),\n",
       " ('Michael Caine', 'Mark Strong'),\n",
       " ('Mark Strong', 'Taron Egerton'),\n",
       " ('Mark Strong', 'Colin Firth'),\n",
       " ('Mark Strong', 'Samuel L. Jackson'),\n",
       " ('Mark Strong', 'Michael Caine'),\n",
       " ('Mark Ruffalo', 'Michael Keaton'),\n",
       " ('Mark Ruffalo', 'Rachel McAdams'),\n",
       " ('Mark Ruffalo', 'Liev Schreiber'),\n",
       " ('Mark Ruffalo', 'John Slattery'),\n",
       " ('Michael Keaton', 'Mark Ruffalo'),\n",
       " ('Michael Keaton', 'Rachel McAdams'),\n",
       " ('Michael Keaton', 'Liev Schreiber'),\n",
       " ('Michael Keaton', 'John Slattery'),\n",
       " ('Rachel McAdams', 'Mark Ruffalo'),\n",
       " ('Rachel McAdams', 'Michael Keaton'),\n",
       " ('Rachel McAdams', 'Liev Schreiber'),\n",
       " ('Rachel McAdams', 'John Slattery'),\n",
       " ('Liev Schreiber', 'Mark Ruffalo'),\n",
       " ('Liev Schreiber', 'Michael Keaton'),\n",
       " ('Liev Schreiber', 'Rachel McAdams'),\n",
       " ('Liev Schreiber', 'John Slattery'),\n",
       " ('John Slattery', 'Mark Ruffalo'),\n",
       " ('John Slattery', 'Michael Keaton'),\n",
       " ('John Slattery', 'Rachel McAdams'),\n",
       " ('John Slattery', 'Liev Schreiber'),\n",
       " (\"Dylan O'Brien\", 'Kaya Scodelario'),\n",
       " (\"Dylan O'Brien\", 'Thomas Brodie-Sangster'),\n",
       " (\"Dylan O'Brien\", 'Giancarlo Esposito'),\n",
       " (\"Dylan O'Brien\", 'Aidan Gillen'),\n",
       " ('Kaya Scodelario', \"Dylan O'Brien\"),\n",
       " ('Kaya Scodelario', 'Thomas Brodie-Sangster'),\n",
       " ('Kaya Scodelario', 'Giancarlo Esposito'),\n",
       " ('Kaya Scodelario', 'Aidan Gillen'),\n",
       " ('Thomas Brodie-Sangster', \"Dylan O'Brien\"),\n",
       " ('Thomas Brodie-Sangster', 'Kaya Scodelario'),\n",
       " ('Thomas Brodie-Sangster', 'Giancarlo Esposito'),\n",
       " ('Thomas Brodie-Sangster', 'Aidan Gillen'),\n",
       " ('Giancarlo Esposito', \"Dylan O'Brien\"),\n",
       " ('Giancarlo Esposito', 'Kaya Scodelario'),\n",
       " ('Giancarlo Esposito', 'Thomas Brodie-Sangster'),\n",
       " ('Giancarlo Esposito', 'Aidan Gillen'),\n",
       " ('Aidan Gillen', \"Dylan O'Brien\"),\n",
       " ('Aidan Gillen', 'Kaya Scodelario'),\n",
       " ('Aidan Gillen', 'Thomas Brodie-Sangster'),\n",
       " ('Aidan Gillen', 'Giancarlo Esposito'),\n",
       " ('Sharlto Copley', 'Dev Patel'),\n",
       " ('Sharlto Copley', 'Ninja'),\n",
       " ('Sharlto Copley', 'Yolandi Visser'),\n",
       " ('Sharlto Copley', 'Jose Pablo Cantillo'),\n",
       " ('Dev Patel', 'Sharlto Copley'),\n",
       " ('Dev Patel', 'Ninja'),\n",
       " ('Dev Patel', 'Yolandi Visser'),\n",
       " ('Dev Patel', 'Jose Pablo Cantillo'),\n",
       " ('Ninja', 'Sharlto Copley'),\n",
       " ('Ninja', 'Dev Patel'),\n",
       " ('Ninja', 'Yolandi Visser'),\n",
       " ('Ninja', 'Jose Pablo Cantillo'),\n",
       " ('Yolandi Visser', 'Sharlto Copley'),\n",
       " ('Yolandi Visser', 'Dev Patel'),\n",
       " ('Yolandi Visser', 'Ninja'),\n",
       " ('Yolandi Visser', 'Jose Pablo Cantillo'),\n",
       " ('Jose Pablo Cantillo', 'Sharlto Copley'),\n",
       " ('Jose Pablo Cantillo', 'Dev Patel'),\n",
       " ('Jose Pablo Cantillo', 'Ninja'),\n",
       " ('Jose Pablo Cantillo', 'Yolandi Visser'),\n",
       " ('Anna Kendrick', 'Rebel Wilson'),\n",
       " ('Anna Kendrick', 'Hailee Steinfeld'),\n",
       " ('Anna Kendrick', 'Brittany Snow'),\n",
       " ('Anna Kendrick', 'Skylar Astin'),\n",
       " ('Rebel Wilson', 'Anna Kendrick'),\n",
       " ('Rebel Wilson', 'Hailee Steinfeld'),\n",
       " ('Rebel Wilson', 'Brittany Snow'),\n",
       " ('Rebel Wilson', 'Skylar Astin'),\n",
       " ('Hailee Steinfeld', 'Anna Kendrick'),\n",
       " ('Hailee Steinfeld', 'Rebel Wilson'),\n",
       " ('Hailee Steinfeld', 'Brittany Snow'),\n",
       " ('Hailee Steinfeld', 'Skylar Astin'),\n",
       " ('Brittany Snow', 'Anna Kendrick'),\n",
       " ('Brittany Snow', 'Rebel Wilson'),\n",
       " ('Brittany Snow', 'Hailee Steinfeld'),\n",
       " ('Brittany Snow', 'Skylar Astin'),\n",
       " ('Skylar Astin', 'Anna Kendrick'),\n",
       " ('Skylar Astin', 'Rebel Wilson'),\n",
       " ('Skylar Astin', 'Hailee Steinfeld'),\n",
       " ('Skylar Astin', 'Brittany Snow'),\n",
       " ('Tom Hanks', 'Mark Rylance'),\n",
       " ('Tom Hanks', 'Amy Ryan'),\n",
       " ('Tom Hanks', 'Alan Alda'),\n",
       " ('Tom Hanks', 'Sebastian Koch'),\n",
       " ('Mark Rylance', 'Tom Hanks'),\n",
       " ('Mark Rylance', 'Amy Ryan'),\n",
       " ('Mark Rylance', 'Alan Alda'),\n",
       " ('Mark Rylance', 'Sebastian Koch'),\n",
       " ('Amy Ryan', 'Tom Hanks'),\n",
       " ('Amy Ryan', 'Mark Rylance'),\n",
       " ('Amy Ryan', 'Alan Alda'),\n",
       " ('Amy Ryan', 'Sebastian Koch'),\n",
       " ('Alan Alda', 'Tom Hanks'),\n",
       " ('Alan Alda', 'Mark Rylance'),\n",
       " ('Alan Alda', 'Amy Ryan'),\n",
       " ('Alan Alda', 'Sebastian Koch'),\n",
       " ('Sebastian Koch', 'Tom Hanks'),\n",
       " ('Sebastian Koch', 'Mark Rylance'),\n",
       " ('Sebastian Koch', 'Amy Ryan'),\n",
       " ('Sebastian Koch', 'Alan Alda'),\n",
       " ('Jack Black', 'Dylan Minnette'),\n",
       " ('Jack Black', 'Odeya Rush'),\n",
       " ('Jack Black', 'Amy Ryan'),\n",
       " ('Jack Black', 'Jillian Bell'),\n",
       " ('Dylan Minnette', 'Jack Black'),\n",
       " ('Dylan Minnette', 'Odeya Rush'),\n",
       " ('Dylan Minnette', 'Amy Ryan'),\n",
       " ('Dylan Minnette', 'Jillian Bell'),\n",
       " ('Odeya Rush', 'Jack Black'),\n",
       " ('Odeya Rush', 'Dylan Minnette'),\n",
       " ('Odeya Rush', 'Amy Ryan'),\n",
       " ('Odeya Rush', 'Jillian Bell'),\n",
       " ('Amy Ryan', 'Jack Black'),\n",
       " ('Amy Ryan', 'Dylan Minnette'),\n",
       " ('Amy Ryan', 'Odeya Rush'),\n",
       " ('Amy Ryan', 'Jillian Bell'),\n",
       " ('Jillian Bell', 'Jack Black'),\n",
       " ('Jillian Bell', 'Dylan Minnette'),\n",
       " ('Jillian Bell', 'Odeya Rush'),\n",
       " ('Jillian Bell', 'Amy Ryan'),\n",
       " ('Brie Larson', 'Jacob Tremblay'),\n",
       " ('Brie Larson', 'Joan Allen'),\n",
       " ('Brie Larson', 'Sean Bridgers'),\n",
       " ('Brie Larson', 'William H. Macy'),\n",
       " ('Jacob Tremblay', 'Brie Larson'),\n",
       " ('Jacob Tremblay', 'Joan Allen'),\n",
       " ('Jacob Tremblay', 'Sean Bridgers'),\n",
       " ('Jacob Tremblay', 'William H. Macy'),\n",
       " ('Joan Allen', 'Brie Larson'),\n",
       " ('Joan Allen', 'Jacob Tremblay'),\n",
       " ('Joan Allen', 'Sean Bridgers'),\n",
       " ('Joan Allen', 'William H. Macy'),\n",
       " ('Sean Bridgers', 'Brie Larson'),\n",
       " ('Sean Bridgers', 'Jacob Tremblay'),\n",
       " ('Sean Bridgers', 'Joan Allen'),\n",
       " ('Sean Bridgers', 'William H. Macy'),\n",
       " ('William H. Macy', 'Brie Larson'),\n",
       " ('William H. Macy', 'Jacob Tremblay'),\n",
       " ('William H. Macy', 'Joan Allen'),\n",
       " ('William H. Macy', 'Sean Bridgers'),\n",
       " ('Raymond Ochoa', 'Jack Bright'),\n",
       " ('Raymond Ochoa', 'Jeffrey Wright'),\n",
       " ('Raymond Ochoa', 'Frances McDormand'),\n",
       " ('Raymond Ochoa', 'Maleah Nipay-Padilla'),\n",
       " ('Jack Bright', 'Raymond Ochoa'),\n",
       " ('Jack Bright', 'Jeffrey Wright'),\n",
       " ('Jack Bright', 'Frances McDormand'),\n",
       " ('Jack Bright', 'Maleah Nipay-Padilla'),\n",
       " ('Jeffrey Wright', 'Raymond Ochoa'),\n",
       " ('Jeffrey Wright', 'Jack Bright'),\n",
       " ('Jeffrey Wright', 'Frances McDormand'),\n",
       " ('Jeffrey Wright', 'Maleah Nipay-Padilla'),\n",
       " ('Frances McDormand', 'Raymond Ochoa'),\n",
       " ('Frances McDormand', 'Jack Bright'),\n",
       " ('Frances McDormand', 'Jeffrey Wright'),\n",
       " ('Frances McDormand', 'Maleah Nipay-Padilla'),\n",
       " ('Maleah Nipay-Padilla', 'Raymond Ochoa'),\n",
       " ('Maleah Nipay-Padilla', 'Jack Bright'),\n",
       " ('Maleah Nipay-Padilla', 'Jeffrey Wright'),\n",
       " ('Maleah Nipay-Padilla', 'Frances McDormand'),\n",
       " ('Liam Neeson', 'Ed Harris'),\n",
       " ('Liam Neeson', 'Joel Kinnaman'),\n",
       " ('Liam Neeson', 'Boyd Holbrook'),\n",
       " ('Liam Neeson', 'Bruce McGill'),\n",
       " ('Ed Harris', 'Liam Neeson'),\n",
       " ('Ed Harris', 'Joel Kinnaman'),\n",
       " ('Ed Harris', 'Boyd Holbrook'),\n",
       " ('Ed Harris', 'Bruce McGill'),\n",
       " ('Joel Kinnaman', 'Liam Neeson'),\n",
       " ('Joel Kinnaman', 'Ed Harris'),\n",
       " ('Joel Kinnaman', 'Boyd Holbrook'),\n",
       " ('Joel Kinnaman', 'Bruce McGill'),\n",
       " ('Boyd Holbrook', 'Liam Neeson'),\n",
       " ('Boyd Holbrook', 'Ed Harris'),\n",
       " ('Boyd Holbrook', 'Joel Kinnaman'),\n",
       " ('Boyd Holbrook', 'Bruce McGill'),\n",
       " ('Bruce McGill', 'Liam Neeson'),\n",
       " ('Bruce McGill', 'Ed Harris'),\n",
       " ('Bruce McGill', 'Joel Kinnaman'),\n",
       " ('Bruce McGill', 'Boyd Holbrook'),\n",
       " ('Saoirse Ronan', 'Domhnall Gleeson'),\n",
       " ('Saoirse Ronan', 'Emory Cohen'),\n",
       " ('Saoirse Ronan', 'Emily Bett Rickards'),\n",
       " ('Saoirse Ronan', \"Eileen O'Higgins\"),\n",
       " ('Domhnall Gleeson', 'Saoirse Ronan'),\n",
       " ('Domhnall Gleeson', 'Emory Cohen'),\n",
       " ('Domhnall Gleeson', 'Emily Bett Rickards'),\n",
       " ('Domhnall Gleeson', \"Eileen O'Higgins\"),\n",
       " ('Emory Cohen', 'Saoirse Ronan'),\n",
       " ('Emory Cohen', 'Domhnall Gleeson'),\n",
       " ('Emory Cohen', 'Emily Bett Rickards'),\n",
       " ('Emory Cohen', \"Eileen O'Higgins\"),\n",
       " ('Emily Bett Rickards', 'Saoirse Ronan'),\n",
       " ('Emily Bett Rickards', 'Domhnall Gleeson'),\n",
       " ('Emily Bett Rickards', 'Emory Cohen'),\n",
       " ('Emily Bett Rickards', \"Eileen O'Higgins\"),\n",
       " (\"Eileen O'Higgins\", 'Saoirse Ronan'),\n",
       " (\"Eileen O'Higgins\", 'Domhnall Gleeson'),\n",
       " (\"Eileen O'Higgins\", 'Emory Cohen'),\n",
       " (\"Eileen O'Higgins\", 'Emily Bett Rickards'),\n",
       " (\"O'Shea Jackson Jr.\", 'Corey Hawkins'),\n",
       " (\"O'Shea Jackson Jr.\", 'Jason Mitchell'),\n",
       " (\"O'Shea Jackson Jr.\", 'Neil Brown Jr.'),\n",
       " (\"O'Shea Jackson Jr.\", 'Aldis Hodge'),\n",
       " ('Corey Hawkins', \"O'Shea Jackson Jr.\"),\n",
       " ('Corey Hawkins', 'Jason Mitchell'),\n",
       " ('Corey Hawkins', 'Neil Brown Jr.'),\n",
       " ('Corey Hawkins', 'Aldis Hodge'),\n",
       " ('Jason Mitchell', \"O'Shea Jackson Jr.\"),\n",
       " ('Jason Mitchell', 'Corey Hawkins'),\n",
       " ('Jason Mitchell', 'Neil Brown Jr.'),\n",
       " ('Jason Mitchell', 'Aldis Hodge'),\n",
       " ('Neil Brown Jr.', \"O'Shea Jackson Jr.\"),\n",
       " ('Neil Brown Jr.', 'Corey Hawkins'),\n",
       " ('Neil Brown Jr.', 'Jason Mitchell'),\n",
       " ('Neil Brown Jr.', 'Aldis Hodge'),\n",
       " ('Aldis Hodge', \"O'Shea Jackson Jr.\"),\n",
       " ('Aldis Hodge', 'Corey Hawkins'),\n",
       " ('Aldis Hodge', 'Jason Mitchell'),\n",
       " ('Aldis Hodge', 'Neil Brown Jr.'),\n",
       " ('Vin Diesel', 'Rose Leslie'),\n",
       " ('Vin Diesel', 'Michael Caine'),\n",
       " ('Vin Diesel', 'Elijah Wood'),\n",
       " ('Vin Diesel', 'Ã“lafur Darri Ã“lafsson'),\n",
       " ('Rose Leslie', 'Vin Diesel'),\n",
       " ('Rose Leslie', 'Michael Caine'),\n",
       " ('Rose Leslie', 'Elijah Wood'),\n",
       " ('Rose Leslie', 'Ã“lafur Darri Ã“lafsson'),\n",
       " ('Michael Caine', 'Vin Diesel'),\n",
       " ('Michael Caine', 'Rose Leslie'),\n",
       " ('Michael Caine', 'Elijah Wood'),\n",
       " ('Michael Caine', 'Ã“lafur Darri Ã“lafsson'),\n",
       " ('Elijah Wood', 'Vin Diesel'),\n",
       " ('Elijah Wood', 'Rose Leslie'),\n",
       " ('Elijah Wood', 'Michael Caine'),\n",
       " ('Elijah Wood', 'Ã“lafur Darri Ã“lafsson'),\n",
       " ('Ã“lafur Darri Ã“lafsson', 'Vin Diesel'),\n",
       " ('Ã“lafur Darri Ã“lafsson', 'Rose Leslie'),\n",
       " ('Ã“lafur Darri Ã“lafsson', 'Michael Caine'),\n",
       " ('Ã“lafur Darri Ã“lafsson', 'Elijah Wood'),\n",
       " ('Henry Cavill', 'Armie Hammer'),\n",
       " ('Henry Cavill', 'Alicia Vikander'),\n",
       " ('Henry Cavill', 'Elizabeth Debicki'),\n",
       " ('Henry Cavill', 'Luca Calvani'),\n",
       " ('Armie Hammer', 'Henry Cavill'),\n",
       " ('Armie Hammer', 'Alicia Vikander'),\n",
       " ('Armie Hammer', 'Elizabeth Debicki'),\n",
       " ('Armie Hammer', 'Luca Calvani'),\n",
       " ('Alicia Vikander', 'Henry Cavill'),\n",
       " ('Alicia Vikander', 'Armie Hammer'),\n",
       " ('Alicia Vikander', 'Elizabeth Debicki'),\n",
       " ('Alicia Vikander', 'Luca Calvani'),\n",
       " ('Elizabeth Debicki', 'Henry Cavill'),\n",
       " ('Elizabeth Debicki', 'Armie Hammer'),\n",
       " ('Elizabeth Debicki', 'Alicia Vikander'),\n",
       " ('Elizabeth Debicki', 'Luca Calvani'),\n",
       " ('Luca Calvani', 'Henry Cavill'),\n",
       " ('Luca Calvani', 'Armie Hammer'),\n",
       " ('Luca Calvani', 'Alicia Vikander'),\n",
       " ('Luca Calvani', 'Elizabeth Debicki'),\n",
       " ('Blake Lively', 'Michiel Huisman'),\n",
       " ('Blake Lively', 'Harrison Ford'),\n",
       " ('Blake Lively', 'Ellen Burstyn'),\n",
       " ('Blake Lively', 'Kathy Baker'),\n",
       " ('Michiel Huisman', 'Blake Lively'),\n",
       " ('Michiel Huisman', 'Harrison Ford'),\n",
       " ('Michiel Huisman', 'Ellen Burstyn'),\n",
       " ('Michiel Huisman', 'Kathy Baker'),\n",
       " ('Harrison Ford', 'Blake Lively'),\n",
       " ('Harrison Ford', 'Michiel Huisman'),\n",
       " ('Harrison Ford', 'Ellen Burstyn'),\n",
       " ('Harrison Ford', 'Kathy Baker'),\n",
       " ('Ellen Burstyn', 'Blake Lively'),\n",
       " ('Ellen Burstyn', 'Michiel Huisman'),\n",
       " ('Ellen Burstyn', 'Harrison Ford'),\n",
       " ('Ellen Burstyn', 'Kathy Baker'),\n",
       " ('Kathy Baker', 'Blake Lively'),\n",
       " ('Kathy Baker', 'Michiel Huisman'),\n",
       " ('Kathy Baker', 'Harrison Ford'),\n",
       " ('Kathy Baker', 'Ellen Burstyn'),\n",
       " ('Sharlto Copley', 'Haley Bennett'),\n",
       " ('Sharlto Copley', 'Danila Kozlovskiy'),\n",
       " ('Sharlto Copley', 'Tim Roth'),\n",
       " ('Sharlto Copley', 'Andrei Dementiev'),\n",
       " ('Haley Bennett', 'Sharlto Copley'),\n",
       " ('Haley Bennett', 'Danila Kozlovskiy'),\n",
       " ('Haley Bennett', 'Tim Roth'),\n",
       " ('Haley Bennett', 'Andrei Dementiev'),\n",
       " ('Danila Kozlovskiy', 'Sharlto Copley'),\n",
       " ('Danila Kozlovskiy', 'Haley Bennett'),\n",
       " ('Danila Kozlovskiy', 'Tim Roth'),\n",
       " ('Danila Kozlovskiy', 'Andrei Dementiev'),\n",
       " ('Tim Roth', 'Sharlto Copley'),\n",
       " ('Tim Roth', 'Haley Bennett'),\n",
       " ('Tim Roth', 'Danila Kozlovskiy'),\n",
       " ('Tim Roth', 'Andrei Dementiev'),\n",
       " ('Andrei Dementiev', 'Sharlto Copley'),\n",
       " ('Andrei Dementiev', 'Haley Bennett'),\n",
       " ('Andrei Dementiev', 'Danila Kozlovskiy'),\n",
       " ('Andrei Dementiev', 'Tim Roth'),\n",
       " ('Jim Parsons', 'Rihanna'),\n",
       " ('Jim Parsons', 'Steve Martin'),\n",
       " ('Jim Parsons', 'Jennifer Lopez'),\n",
       " ('Jim Parsons', 'Matt Jones'),\n",
       " ('Rihanna', 'Jim Parsons'),\n",
       " ('Rihanna', 'Steve Martin'),\n",
       " ('Rihanna', 'Jennifer Lopez'),\n",
       " ('Rihanna', 'Matt Jones'),\n",
       " ('Steve Martin', 'Jim Parsons'),\n",
       " ('Steve Martin', 'Rihanna'),\n",
       " ('Steve Martin', 'Jennifer Lopez'),\n",
       " ('Steve Martin', 'Matt Jones'),\n",
       " ('Jennifer Lopez', 'Jim Parsons'),\n",
       " ('Jennifer Lopez', 'Rihanna'),\n",
       " ('Jennifer Lopez', 'Steve Martin'),\n",
       " ('Jennifer Lopez', 'Matt Jones'),\n",
       " ('Matt Jones', 'Jim Parsons'),\n",
       " ('Matt Jones', 'Rihanna'),\n",
       " ('Matt Jones', 'Steve Martin'),\n",
       " ('Matt Jones', 'Jennifer Lopez'),\n",
       " ('Nat Wolff', 'Cara Delevingne'),\n",
       " ('Nat Wolff', 'Halston Sage'),\n",
       " ('Nat Wolff', 'Justice Smith'),\n",
       " ('Nat Wolff', 'Austin Abrams'),\n",
       " ('Cara Delevingne', 'Nat Wolff'),\n",
       " ('Cara Delevingne', 'Halston Sage'),\n",
       " ('Cara Delevingne', 'Justice Smith'),\n",
       " ('Cara Delevingne', 'Austin Abrams'),\n",
       " ('Halston Sage', 'Nat Wolff'),\n",
       " ('Halston Sage', 'Cara Delevingne'),\n",
       " ('Halston Sage', 'Justice Smith'),\n",
       " ('Halston Sage', 'Austin Abrams'),\n",
       " ('Justice Smith', 'Nat Wolff'),\n",
       " ('Justice Smith', 'Cara Delevingne'),\n",
       " ('Justice Smith', 'Halston Sage'),\n",
       " ('Justice Smith', 'Austin Abrams'),\n",
       " ('Austin Abrams', 'Nat Wolff'),\n",
       " ('Austin Abrams', 'Cara Delevingne'),\n",
       " ('Austin Abrams', 'Halston Sage'),\n",
       " ('Austin Abrams', 'Justice Smith'),\n",
       " ('Cate Blanchett', 'Rooney Mara'),\n",
       " ('Cate Blanchett', 'Kyle Chandler'),\n",
       " ('Cate Blanchett', 'Sarah Paulson'),\n",
       " ('Cate Blanchett', 'Jake Lacy'),\n",
       " ('Rooney Mara', 'Cate Blanchett'),\n",
       " ('Rooney Mara', 'Kyle Chandler'),\n",
       " ('Rooney Mara', 'Sarah Paulson'),\n",
       " ('Rooney Mara', 'Jake Lacy'),\n",
       " ('Kyle Chandler', 'Cate Blanchett'),\n",
       " ('Kyle Chandler', 'Rooney Mara'),\n",
       " ('Kyle Chandler', 'Sarah Paulson'),\n",
       " ('Kyle Chandler', 'Jake Lacy'),\n",
       " ('Sarah Paulson', 'Cate Blanchett'),\n",
       " ('Sarah Paulson', 'Rooney Mara'),\n",
       " ('Sarah Paulson', 'Kyle Chandler'),\n",
       " ('Sarah Paulson', 'Jake Lacy'),\n",
       " ('Jake Lacy', 'Cate Blanchett'),\n",
       " ('Jake Lacy', 'Rooney Mara'),\n",
       " ('Jake Lacy', 'Kyle Chandler'),\n",
       " ('Jake Lacy', 'Sarah Paulson'),\n",
       " ('Robert De Niro', 'Anne Hathaway'),\n",
       " ('Robert De Niro', 'Rene Russo'),\n",
       " ('Robert De Niro', 'Anders Holm'),\n",
       " ('Robert De Niro', 'JoJo Kushner'),\n",
       " ('Anne Hathaway', 'Robert De Niro'),\n",
       " ('Anne Hathaway', 'Rene Russo'),\n",
       " ('Anne Hathaway', 'Anders Holm'),\n",
       " ('Anne Hathaway', 'JoJo Kushner'),\n",
       " ('Rene Russo', 'Robert De Niro'),\n",
       " ('Rene Russo', 'Anne Hathaway'),\n",
       " ('Rene Russo', 'Anders Holm'),\n",
       " ('Rene Russo', 'JoJo Kushner'),\n",
       " ('Anders Holm', 'Robert De Niro'),\n",
       " ('Anders Holm', 'Anne Hathaway'),\n",
       " ('Anders Holm', 'Rene Russo'),\n",
       " ('Anders Holm', 'JoJo Kushner'),\n",
       " ('JoJo Kushner', 'Robert De Niro'),\n",
       " ('JoJo Kushner', 'Anne Hathaway'),\n",
       " ('JoJo Kushner', 'Rene Russo'),\n",
       " ('JoJo Kushner', 'Anders Holm'),\n",
       " ('Jason Clarke', 'Jake Gyllenhaal'),\n",
       " ('Jason Clarke', 'Josh Brolin'),\n",
       " ('Jason Clarke', 'John Hawkes'),\n",
       " ('Jason Clarke', 'Sam Worthington'),\n",
       " ('Jake Gyllenhaal', 'Jason Clarke'),\n",
       " ('Jake Gyllenhaal', 'Josh Brolin'),\n",
       " ('Jake Gyllenhaal', 'John Hawkes'),\n",
       " ('Jake Gyllenhaal', 'Sam Worthington'),\n",
       " ('Josh Brolin', 'Jason Clarke'),\n",
       " ('Josh Brolin', 'Jake Gyllenhaal'),\n",
       " ('Josh Brolin', 'John Hawkes'),\n",
       " ('Josh Brolin', 'Sam Worthington'),\n",
       " ('John Hawkes', 'Jason Clarke'),\n",
       " ('John Hawkes', 'Jake Gyllenhaal'),\n",
       " ('John Hawkes', 'Josh Brolin'),\n",
       " ('John Hawkes', 'Sam Worthington'),\n",
       " ('Sam Worthington', 'Jason Clarke'),\n",
       " ('Sam Worthington', 'Jake Gyllenhaal'),\n",
       " ('Sam Worthington', 'Josh Brolin'),\n",
       " ('Sam Worthington', 'John Hawkes'),\n",
       " ('Edgar RamÃ\\xadrez', 'Luke Bracey'),\n",
       " ('Edgar RamÃ\\xadrez', 'Teresa Palmer'),\n",
       " ('Edgar RamÃ\\xadrez', 'Delroy Lindo'),\n",
       " ('Edgar RamÃ\\xadrez', 'Ray Winstone'),\n",
       " ('Luke Bracey', 'Edgar RamÃ\\xadrez'),\n",
       " ('Luke Bracey', 'Teresa Palmer'),\n",
       " ('Luke Bracey', 'Delroy Lindo'),\n",
       " ('Luke Bracey', 'Ray Winstone'),\n",
       " ('Teresa Palmer', 'Edgar RamÃ\\xadrez'),\n",
       " ('Teresa Palmer', 'Luke Bracey'),\n",
       " ('Teresa Palmer', 'Delroy Lindo'),\n",
       " ('Teresa Palmer', 'Ray Winstone'),\n",
       " ('Delroy Lindo', 'Edgar RamÃ\\xadrez'),\n",
       " ('Delroy Lindo', 'Luke Bracey'),\n",
       " ('Delroy Lindo', 'Teresa Palmer'),\n",
       " ('Delroy Lindo', 'Ray Winstone'),\n",
       " ('Ray Winstone', 'Edgar RamÃ\\xadrez'),\n",
       " ('Ray Winstone', 'Luke Bracey'),\n",
       " ('Ray Winstone', 'Teresa Palmer'),\n",
       " ('Ray Winstone', 'Delroy Lindo'),\n",
       " ('Bradley Cooper', 'Sienna Miller'),\n",
       " ('Bradley Cooper', 'Lily James'),\n",
       " ('Bradley Cooper', 'Alicia Vikander'),\n",
       " ('Bradley Cooper', 'Uma Thurman'),\n",
       " ('Sienna Miller', 'Bradley Cooper'),\n",
       " ('Sienna Miller', 'Lily James'),\n",
       " ('Sienna Miller', 'Alicia Vikander'),\n",
       " ('Sienna Miller', 'Uma Thurman'),\n",
       " ('Lily James', 'Bradley Cooper'),\n",
       " ('Lily James', 'Sienna Miller'),\n",
       " ('Lily James', 'Alicia Vikander'),\n",
       " ('Lily James', 'Uma Thurman'),\n",
       " ('Alicia Vikander', 'Bradley Cooper'),\n",
       " ('Alicia Vikander', 'Sienna Miller'),\n",
       " ('Alicia Vikander', 'Lily James'),\n",
       " ('Alicia Vikander', 'Uma Thurman'),\n",
       " ('Uma Thurman', 'Bradley Cooper'),\n",
       " ('Uma Thurman', 'Sienna Miller'),\n",
       " ('Uma Thurman', 'Lily James'),\n",
       " ('Uma Thurman', 'Alicia Vikander'),\n",
       " ...]"
      ]
     },
     "execution_count": 42,
     "metadata": {},
     "output_type": "execute_result"
    }
   ],
   "source": [
    "data_272 = data.copy()\n",
    "data_272 = data_272.cast.str.split('|')\n",
    "cast_comb = []\n",
    "for i in range(0,len(data_272)):\n",
    "    cast_i = list(permutations(data_272[i],2))\n",
    "    cast_comb += cast_i\n",
    "#Counter(cast_comb).most_common(10)"
   ]
  },
  {
   "cell_type": "code",
   "execution_count": 95,
   "metadata": {},
   "outputs": [
    {
     "data": {
      "text/plain": [
       "[(('Daniel Radcliffe', 'Rupert Grint'), 8),\n",
       " (('Daniel Radcliffe', 'Emma Watson'), 8),\n",
       " (('Rupert Grint', 'Daniel Radcliffe'), 8),\n",
       " (('Rupert Grint', 'Emma Watson'), 8),\n",
       " (('Emma Watson', 'Daniel Radcliffe'), 8),\n",
       " (('Emma Watson', 'Rupert Grint'), 8),\n",
       " (('Ben Stiller', 'Owen Wilson'), 6),\n",
       " (('Owen Wilson', 'Ben Stiller'), 6),\n",
       " (('Johnny Depp', 'Helena Bonham Carter'), 6),\n",
       " (('Helena Bonham Carter', 'Johnny Depp'), 6)]"
      ]
     },
     "execution_count": 95,
     "metadata": {},
     "output_type": "execute_result"
    }
   ],
   "source": [
    "#comb27 = data.copy()\n",
    "#comb27['cast_split'] = comb27['cast'].str.split('|')\n",
    "#comb27['cast_cortege'] = comb27.cast_split.apply(lambda x: list(combinations(x, 2)))\n",
    "#Counter(chain(*comb27['cast_cortege'].tolist())).most_common(10)\n",
    "Counter(chain(*data.cast.str.split('|').apply(lambda x: list(permutations(x, 2))).tolist())).most_common(10)\n"
   ]
  },
  {
   "cell_type": "markdown",
   "metadata": {
    "colab_type": "text",
    "id": "U0nONFnGVqAX"
   },
   "source": [
    "# Submission"
   ]
  },
  {
   "cell_type": "code",
   "execution_count": 81,
   "metadata": {
    "colab": {},
    "colab_type": "code",
    "id": "IfcaRO9-VqAX",
    "outputId": "0f132912-32bb-4196-c98c-abfbc4ad5a5f"
   },
   "outputs": [
    {
     "data": {
      "text/plain": [
       "{'1': '723. Pirates of the Caribbean: On Stranger Tides (tt1298650)',\n",
       " '2': '1157. Gods and Generals (tt0279111)',\n",
       " '3': '768. Winnie the Pooh (tt1449283)',\n",
       " '4': '110',\n",
       " '5': '107',\n",
       " '6': '239. Avatar (tt0499549)',\n",
       " '7': '1245. The Lone Ranger (tt1210819)',\n",
       " '8': '1478',\n",
       " '9': '599. The Dark Knight (tt0468569)',\n",
       " '10': '1245. The Lone Ranger (tt1210819)',\n",
       " '11': 'Drama',\n",
       " '12': 'Drama',\n",
       " '13': 'Peter Jackson',\n",
       " '14': 'Robert Rodriguez',\n",
       " '15': 'Chris Hemsworth',\n",
       " '16': 'Matt Damon',\n",
       " '17': 'Action',\n",
       " '18': 'K-19: The Widowmaker (tt0267626)',\n",
       " '19': '2015',\n",
       " '20': '2014',\n",
       " '21': 'Сентябрь',\n",
       " '22': '450',\n",
       " '23': 'Peter Jackson',\n",
       " '24': 'Four By Two Productions',\n",
       " '25': 'Midnight Picture Show',\n",
       " '26': 'Inside Out, The Dark Knight, 12 Years a Slave',\n",
       " '27': 'Daniel Radcliffe & Rupert Grint'}"
      ]
     },
     "execution_count": 81,
     "metadata": {},
     "output_type": "execute_result"
    }
   ],
   "source": [
    "# в конце можно посмотреть свои ответы к каждому вопросу\n",
    "answers"
   ]
  },
  {
   "cell_type": "code",
   "execution_count": 82,
   "metadata": {
    "colab": {},
    "colab_type": "code",
    "id": "SiRmHPl8VqAd"
   },
   "outputs": [
    {
     "data": {
      "text/plain": [
       "27"
      ]
     },
     "execution_count": 82,
     "metadata": {},
     "output_type": "execute_result"
    }
   ],
   "source": [
    "# и убедиться что ни чего не пропустил)\n",
    "len(answers)"
   ]
  },
  {
   "cell_type": "code",
   "execution_count": null,
   "metadata": {
    "colab": {},
    "colab_type": "code",
    "id": "uCfuTkRbVqAg"
   },
   "outputs": [],
   "source": [
    "\n"
   ]
  },
  {
   "cell_type": "code",
   "execution_count": null,
   "metadata": {
    "colab": {},
    "colab_type": "code",
    "id": "Vwx3NrkSVqAl"
   },
   "outputs": [],
   "source": []
  }
 ],
 "metadata": {
  "colab": {
   "name": "Copy of [SF-DST] Movies IMBD v4.1 TEMPLATE.ipynb",
   "provenance": []
  },
  "kernelspec": {
   "display_name": "Python 3",
   "language": "python",
   "name": "python3"
  },
  "language_info": {
   "codemirror_mode": {
    "name": "ipython",
    "version": 3
   },
   "file_extension": ".py",
   "mimetype": "text/x-python",
   "name": "python",
   "nbconvert_exporter": "python",
   "pygments_lexer": "ipython3",
   "version": "3.8.5"
  }
 },
 "nbformat": 4,
 "nbformat_minor": 1
}
