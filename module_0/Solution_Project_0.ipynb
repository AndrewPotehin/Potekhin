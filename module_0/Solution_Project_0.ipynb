{
 "cells": [
  {
   "cell_type": "code",
   "execution_count": 286,
   "metadata": {},
   "outputs": [
    {
     "name": "stdout",
     "output_type": "stream",
     "text": [
      "Загадано число: 97\n",
      "Ваш алгоритм угадывает число в среднем за 5 попыток\n"
     ]
    },
    {
     "data": {
      "text/plain": [
       "5"
      ]
     },
     "execution_count": 286,
     "metadata": {},
     "output_type": "execute_result"
    }
   ],
   "source": [
    "import numpy as np\n",
    "count = 0                           # счетчик попыток\n",
    "number = np.random.randint(1,101)   # загадали число\n",
    "print (\"Загадано число:\",number)\n",
    "\n",
    "def game_core_v3(number):\n",
    "    '''Будем использовать метод деления пополам в цикле while'''\n",
    "    \n",
    "    predict_list = [i for i in range(1,number + 1)]   # создаём список всех возможных ответов\n",
    "    predict = np.random.randint(1,number + 1) # предполагаем, что ответ это любое число от 1 до number\n",
    "    count = 1 # счетчик попыток\n",
    "    exp = 1 # показатель возведения в степень, понадобится в цикле для деления длины списка на каждом шаге\n",
    "    \n",
    "    while number != predict:\n",
    "        count += 1 #увеличиваем счетчик попыток, если не угадали на этом шаге\n",
    "        if number > predict: \n",
    "            predict += round(len(predict_list) / 2**exp)\n",
    "            exp += 1\n",
    "        else: \n",
    "            predict -= round(len(predict_list) / 2**exp)\n",
    "            exp += 1\n",
    "    return(count) # выход из цикла, когда угадали\n",
    "\n",
    "def score_game(game_core):\n",
    "    '''Запускаем игру 1000 раз, чтобы узнать, как быстро игра угадывает число'''\n",
    "    count_ls = []\n",
    "    np.random.seed(1)  # фиксируем RANDOM SEED, чтобы ваш эксперимент был воспроизводим!\n",
    "    random_array = np.random.randint(1,101, size=(1000))\n",
    "    for number in random_array:\n",
    "        count_ls.append(game_core(number))\n",
    "    score = int(np.mean(count_ls))\n",
    "    print(f\"Ваш алгоритм угадывает число в среднем за {score} попыток\")\n",
    "    return(score)\n",
    "score_game(game_core_v3)"
   ]
  }
 ],
 "metadata": {
  "kernelspec": {
   "display_name": "Python 3",
   "language": "python",
   "name": "python3"
  },
  "language_info": {
   "codemirror_mode": {
    "name": "ipython",
    "version": 3
   },
   "file_extension": ".py",
   "mimetype": "text/x-python",
   "name": "python",
   "nbconvert_exporter": "python",
   "pygments_lexer": "ipython3",
   "version": "3.8.5"
  }
 },
 "nbformat": 4,
 "nbformat_minor": 4
}
