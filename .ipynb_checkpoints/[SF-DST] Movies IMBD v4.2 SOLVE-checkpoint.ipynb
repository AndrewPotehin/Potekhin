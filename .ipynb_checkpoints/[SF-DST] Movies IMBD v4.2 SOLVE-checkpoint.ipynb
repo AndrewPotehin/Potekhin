{
 "cells": [
  {
   "cell_type": "code",
   "execution_count": 3,
   "metadata": {
    "_cell_guid": "b1076dfc-b9ad-4769-8c92-a6c4dae69d19",
    "_uuid": "8f2839f25d086af736a60e9eeb907d3b93b6e0e5"
   },
   "outputs": [],
   "source": [
    "import numpy as np\n",
    "import pandas as pd\n",
    "import seaborn as sns\n",
    "import matplotlib.pyplot as plt\n",
    "from collections import Counter\n",
    "import os\n",
    "#print(os.listdir(\"../input\"))"
   ]
  },
  {
   "cell_type": "code",
   "execution_count": 4,
   "metadata": {},
   "outputs": [],
   "source": [
    "#reading tmdb csv file and storing that to a variable\n",
    "data = pd.read_csv('movie_bd_v5.csv')\n",
    "\n",
    "#calling out first 5 rows (excluding headers) of tmdb database\n",
    "# tmdb.head()"
   ]
  },
  {
   "cell_type": "code",
   "execution_count": 5,
   "metadata": {},
   "outputs": [
    {
     "ename": "NameError",
     "evalue": "name 'tmdb' is not defined",
     "output_type": "error",
     "traceback": [
      "\u001b[1;31m---------------------------------------------------------------------------\u001b[0m",
      "\u001b[1;31mNameError\u001b[0m                                 Traceback (most recent call last)",
      "\u001b[1;32m<ipython-input-5-fb474f270579>\u001b[0m in \u001b[0;36m<module>\u001b[1;34m\u001b[0m\n\u001b[1;32m----> 1\u001b[1;33m \u001b[0mmovie_bd\u001b[0m \u001b[1;33m=\u001b[0m \u001b[1;33m(\u001b[0m\u001b[0mtmdb\u001b[0m\u001b[1;33m[\u001b[0m\u001b[1;33m(\u001b[0m\u001b[0mtmdb\u001b[0m\u001b[1;33m[\u001b[0m\u001b[1;34m'revenue'\u001b[0m\u001b[1;33m]\u001b[0m \u001b[1;33m>\u001b[0m \u001b[1;36m2000000\u001b[0m\u001b[1;33m)\u001b[0m \u001b[1;33m&\u001b[0m \u001b[1;33m(\u001b[0m\u001b[0mtmdb\u001b[0m\u001b[1;33m[\u001b[0m\u001b[1;34m'budget'\u001b[0m\u001b[1;33m]\u001b[0m \u001b[1;33m>=\u001b[0m \u001b[1;36m5000000\u001b[0m\u001b[1;33m)\u001b[0m \u001b[1;33m&\u001b[0m \u001b[1;33m(\u001b[0m\u001b[0mtmdb\u001b[0m\u001b[1;33m[\u001b[0m\u001b[1;34m'release_year'\u001b[0m\u001b[1;33m]\u001b[0m \u001b[1;33m>\u001b[0m \u001b[1;36m1999\u001b[0m\u001b[1;33m)\u001b[0m\u001b[1;33m]\u001b[0m\u001b[1;33m)\u001b[0m\u001b[1;33m\u001b[0m\u001b[1;33m\u001b[0m\u001b[0m\n\u001b[0m\u001b[0;32m      2\u001b[0m \u001b[0mlen\u001b[0m\u001b[1;33m(\u001b[0m\u001b[0mmovie_bd\u001b[0m\u001b[1;33m)\u001b[0m\u001b[1;33m\u001b[0m\u001b[1;33m\u001b[0m\u001b[0m\n",
      "\u001b[1;31mNameError\u001b[0m: name 'tmdb' is not defined"
     ]
    }
   ],
   "source": [
    "movie_bd = (tmdb[(tmdb['revenue'] > 2000000) & (tmdb['budget'] >= 5000000) & (tmdb['release_year'] > 1999)])\n",
    "len(movie_bd)"
   ]
  },
  {
   "cell_type": "code",
   "execution_count": null,
   "metadata": {},
   "outputs": [],
   "source": [
    "movie_bd['profit'] = tmdb['revenue'] - tmdb['budget']\n",
    "movie_bd = (movie_bd[(movie_bd['profit'] >= 2000000) | (movie_bd['profit'] <= -2000000)])\n",
    "len(movie_bd)"
   ]
  },
  {
   "cell_type": "code",
   "execution_count": null,
   "metadata": {},
   "outputs": [],
   "source": [
    "data['profit'] = data['revenue'] - data['budget']"
   ]
  },
  {
   "cell_type": "code",
   "execution_count": null,
   "metadata": {},
   "outputs": [],
   "source": [
    "movie_bd = movie_bd[['imdb_id', 'budget', 'revenue', 'original_title',\n",
    "       'cast', 'director', 'tagline', 'overview',\n",
    "       'runtime', 'genres', 'production_companies', 'release_date', 'vote_average', 'release_year',]]"
   ]
  },
  {
   "cell_type": "code",
   "execution_count": null,
   "metadata": {},
   "outputs": [],
   "source": [
    "movie_bd = movie_bd.dropna()\n",
    "print(len(movie_bd))\n",
    "print(movie_bd.isna().sum())"
   ]
  },
  {
   "cell_type": "code",
   "execution_count": null,
   "metadata": {},
   "outputs": [],
   "source": [
    "movie_bd.duplicated().sum()"
   ]
  },
  {
   "cell_type": "code",
   "execution_count": null,
   "metadata": {},
   "outputs": [],
   "source": [
    "movie_bd = movie_bd[movie_bd['imdb_id'] != 'tt1032751']\n",
    "len(movie_bd)"
   ]
  },
  {
   "cell_type": "code",
   "execution_count": null,
   "metadata": {},
   "outputs": [],
   "source": [
    "movie_bd.to_csv('movie_bd_v5.csv',index=False)"
   ]
  },
  {
   "cell_type": "code",
   "execution_count": null,
   "metadata": {
    "_cell_guid": "79c7e3d0-c299-4dcb-8224-4455121ee9b0",
    "_uuid": "d629ff2d2480ee46fbb7e2d37f6b5fab8052498a"
   },
   "outputs": [],
   "source": [
    "movie_bd = pd.read_csv('movie_bd_v5.xls')\n",
    "movie_bd.sample(5)"
   ]
  },
  {
   "cell_type": "code",
   "execution_count": null,
   "metadata": {},
   "outputs": [],
   "source": [
    "movie_bd.describe()"
   ]
  },
  {
   "cell_type": "code",
   "execution_count": null,
   "metadata": {},
   "outputs": [],
   "source": [
    "len(movie_bd)"
   ]
  },
  {
   "cell_type": "markdown",
   "metadata": {},
   "source": [
    "# Предобработка"
   ]
  },
  {
   "cell_type": "code",
   "execution_count": null,
   "metadata": {},
   "outputs": [],
   "source": [
    "answers = {}\n",
    "\n",
    "#making a new column\n",
    "movie_bd['profit'] = movie_bd['revenue'] - movie_bd['budget']\n",
    "#movie_bd['cof_profit'] = movie_bd['revenue']/movie_bd['budget']\n",
    "\n",
    "#the the given in the dataset is in string format.\n",
    "#So we need to change this in datetime format\n",
    "\n",
    "\n",
    "\n",
    "#movie_bd['release_date'].head()\n",
    "\n",
    "movie_bd['season'] = movie_bd['release_date'].apply(lambda dt: (dt.month%12 + 3)//3) # лето, весна, осень, зима"
   ]
  },
  {
   "cell_type": "code",
   "execution_count": null,
   "metadata": {},
   "outputs": [],
   "source": [
    "data = movie_bd"
   ]
  },
  {
   "cell_type": "markdown",
   "metadata": {},
   "source": [
    "# 1. У какого фильма из списка самый большой бюджет?\n",
    "Варианты ответов:\n",
    "1. The Dark Knight Rises (tt1345836)\n",
    "2. Spider-Man 3 (tt0413300)\n",
    "3. Avengers: Age of Ultron (tt2395427)\n",
    "4. **The Warrior's Way\t(tt1032751)**\n",
    "5. Pirates of the Caribbean: On Stranger Tides (tt1298650)"
   ]
  },
  {
   "cell_type": "code",
   "execution_count": null,
   "metadata": {},
   "outputs": [],
   "source": [
    "answers['1'] = '5. Pirates of the Caribbean: On Stranger Tides (tt1298650)'"
   ]
  },
  {
   "cell_type": "code",
   "execution_count": null,
   "metadata": {},
   "outputs": [],
   "source": [
    "print(data.original_title[data.budget.idxmax()])"
   ]
  },
  {
   "cell_type": "code",
   "execution_count": null,
   "metadata": {},
   "outputs": [],
   "source": [
    "%%timeit\n",
    "data[data['budget'] == data['budget'].max()]['original_title'].values[0]"
   ]
  },
  {
   "cell_type": "code",
   "execution_count": null,
   "metadata": {},
   "outputs": [],
   "source": [
    "%%timeit \n",
    "data.loc[data['budget'] == data['budget'].max(),'original_title'].values[0]"
   ]
  },
  {
   "cell_type": "code",
   "execution_count": null,
   "metadata": {},
   "outputs": [],
   "source": [
    "%%timeit \n",
    "data.original_title[data.budget.idxmax()]"
   ]
  },
  {
   "cell_type": "code",
   "execution_count": null,
   "metadata": {},
   "outputs": [],
   "source": [
    "%%timeit\n",
    "data.sort_values(['budget'], ascending=False).head(1)['original_title']"
   ]
  },
  {
   "cell_type": "markdown",
   "metadata": {},
   "source": [
    "ВАРИАНТ 2"
   ]
  },
  {
   "cell_type": "code",
   "execution_count": null,
   "metadata": {},
   "outputs": [],
   "source": [
    "# Top 10\n",
    "data[['budget', 'original_title', 'imdb_id']].sort_values('budget', ascending=False)[:10]"
   ]
  },
  {
   "cell_type": "markdown",
   "metadata": {},
   "source": [
    "# 2. Какой из фильмов самый длительный (в минутах)?\n",
    "1. The Lord of the Rings: The Return of the King\t(tt0167260)\n",
    "2. **Gods and Generals\t(tt0279111)**\n",
    "3. King Kong\t(tt0360717)\n",
    "4. Pearl Harbor\t(tt0213149)\n",
    "5. Alexander\t(tt0346491)"
   ]
  },
  {
   "cell_type": "code",
   "execution_count": null,
   "metadata": {},
   "outputs": [],
   "source": [
    "answers['2'] = '2. Gods and Generals (tt0279111)'"
   ]
  },
  {
   "cell_type": "code",
   "execution_count": null,
   "metadata": {},
   "outputs": [],
   "source": [
    "data.loc[data.runtime==data.runtime.max(),'original_title'].values[0]"
   ]
  },
  {
   "cell_type": "code",
   "execution_count": null,
   "metadata": {},
   "outputs": [],
   "source": [
    "data.original_title[data.runtime.idxmax()]"
   ]
  },
  {
   "cell_type": "code",
   "execution_count": 6,
   "metadata": {},
   "outputs": [
    {
     "data": {
      "text/html": [
       "<div>\n",
       "<style scoped>\n",
       "    .dataframe tbody tr th:only-of-type {\n",
       "        vertical-align: middle;\n",
       "    }\n",
       "\n",
       "    .dataframe tbody tr th {\n",
       "        vertical-align: top;\n",
       "    }\n",
       "\n",
       "    .dataframe thead th {\n",
       "        text-align: right;\n",
       "    }\n",
       "</style>\n",
       "<table border=\"1\" class=\"dataframe\">\n",
       "  <thead>\n",
       "    <tr style=\"text-align: right;\">\n",
       "      <th></th>\n",
       "      <th>runtime</th>\n",
       "      <th>original_title</th>\n",
       "      <th>imdb_id</th>\n",
       "    </tr>\n",
       "  </thead>\n",
       "  <tbody>\n",
       "    <tr>\n",
       "      <th>1157</th>\n",
       "      <td>214</td>\n",
       "      <td>Gods and Generals</td>\n",
       "      <td>tt0279111</td>\n",
       "    </tr>\n",
       "    <tr>\n",
       "      <th>1081</th>\n",
       "      <td>201</td>\n",
       "      <td>The Lord of the Rings: The Return of the King</td>\n",
       "      <td>tt0167260</td>\n",
       "    </tr>\n",
       "    <tr>\n",
       "      <th>1736</th>\n",
       "      <td>191</td>\n",
       "      <td>Grindhouse</td>\n",
       "      <td>tt0462322</td>\n",
       "    </tr>\n",
       "    <tr>\n",
       "      <th>1336</th>\n",
       "      <td>187</td>\n",
       "      <td>King Kong</td>\n",
       "      <td>tt0360717</td>\n",
       "    </tr>\n",
       "    <tr>\n",
       "      <th>504</th>\n",
       "      <td>183</td>\n",
       "      <td>Pearl Harbor</td>\n",
       "      <td>tt0213149</td>\n",
       "    </tr>\n",
       "    <tr>\n",
       "      <th>1183</th>\n",
       "      <td>180</td>\n",
       "      <td>The Wolf of Wall Street</td>\n",
       "      <td>tt0993846</td>\n",
       "    </tr>\n",
       "    <tr>\n",
       "      <th>863</th>\n",
       "      <td>179</td>\n",
       "      <td>The Lord of the Rings: The Two Towers</td>\n",
       "      <td>tt0167261</td>\n",
       "    </tr>\n",
       "    <tr>\n",
       "      <th>496</th>\n",
       "      <td>178</td>\n",
       "      <td>The Lord of the Rings: The Fellowship of the Ring</td>\n",
       "      <td>tt0120737</td>\n",
       "    </tr>\n",
       "    <tr>\n",
       "      <th>1601</th>\n",
       "      <td>175</td>\n",
       "      <td>Alexander</td>\n",
       "      <td>tt0346491</td>\n",
       "    </tr>\n",
       "    <tr>\n",
       "      <th>993</th>\n",
       "      <td>172</td>\n",
       "      <td>Cloud Atlas</td>\n",
       "      <td>tt1371111</td>\n",
       "    </tr>\n",
       "  </tbody>\n",
       "</table>\n",
       "</div>"
      ],
      "text/plain": [
       "      runtime                                     original_title    imdb_id\n",
       "1157      214                                  Gods and Generals  tt0279111\n",
       "1081      201      The Lord of the Rings: The Return of the King  tt0167260\n",
       "1736      191                                         Grindhouse  tt0462322\n",
       "1336      187                                          King Kong  tt0360717\n",
       "504       183                                       Pearl Harbor  tt0213149\n",
       "1183      180                            The Wolf of Wall Street  tt0993846\n",
       "863       179              The Lord of the Rings: The Two Towers  tt0167261\n",
       "496       178  The Lord of the Rings: The Fellowship of the Ring  tt0120737\n",
       "1601      175                                          Alexander  tt0346491\n",
       "993       172                                        Cloud Atlas  tt1371111"
      ]
     },
     "execution_count": 6,
     "metadata": {},
     "output_type": "execute_result"
    }
   ],
   "source": [
    "# Top 10\n",
    "data[['runtime', 'original_title', 'imdb_id']].sort_values('runtime', ascending=False)[:10]"
   ]
  },
  {
   "cell_type": "markdown",
   "metadata": {},
   "source": [
    "# 3. Какой из фильмов самый короткий (в минутах)?\n",
    "Варианты ответов:\n",
    "\n",
    "1. Home on the Range\ttt0299172\n",
    "2. The Jungle Book 2\ttt0283426\n",
    "3. **Winnie the Pooh\ttt1449283**\n",
    "4. Corpse Bride\ttt0121164\n",
    "5. Hoodwinked!\ttt0443536\n",
    "\n",
    "\n",
    "\n"
   ]
  },
  {
   "cell_type": "code",
   "execution_count": 7,
   "metadata": {},
   "outputs": [
    {
     "ename": "NameError",
     "evalue": "name 'answers' is not defined",
     "output_type": "error",
     "traceback": [
      "\u001b[1;31m---------------------------------------------------------------------------\u001b[0m",
      "\u001b[1;31mNameError\u001b[0m                                 Traceback (most recent call last)",
      "\u001b[1;32m<ipython-input-7-af5d25b6351f>\u001b[0m in \u001b[0;36m<module>\u001b[1;34m\u001b[0m\n\u001b[1;32m----> 1\u001b[1;33m \u001b[0manswers\u001b[0m\u001b[1;33m[\u001b[0m\u001b[1;34m'3'\u001b[0m\u001b[1;33m]\u001b[0m \u001b[1;33m=\u001b[0m \u001b[1;34m'3. Winnie the Pooh tt1449283'\u001b[0m\u001b[1;33m\u001b[0m\u001b[1;33m\u001b[0m\u001b[0m\n\u001b[0m",
      "\u001b[1;31mNameError\u001b[0m: name 'answers' is not defined"
     ]
    }
   ],
   "source": [
    "answers['3'] = '3. Winnie the Pooh tt1449283'"
   ]
  },
  {
   "cell_type": "code",
   "execution_count": null,
   "metadata": {},
   "outputs": [],
   "source": [
    "data.loc[data.runtime==data.runtime.min(),'original_title'].values[0]"
   ]
  },
  {
   "cell_type": "code",
   "execution_count": null,
   "metadata": {},
   "outputs": [],
   "source": [
    "print(data.original_title[data.runtime.idxmin()])"
   ]
  },
  {
   "cell_type": "code",
   "execution_count": null,
   "metadata": {},
   "outputs": [],
   "source": [
    "# Top 10\n",
    "data[['runtime', 'original_title', 'imdb_id']].sort_values('runtime', ascending=False)[-10:]"
   ]
  },
  {
   "cell_type": "markdown",
   "metadata": {},
   "source": [
    "# 4. Какова средняя длительность фильмов?\n",
    "\n",
    "Варианты ответов:\n",
    "1. 115\n",
    "2. 110\n",
    "3. 105\n",
    "4. 120\n",
    "5. 100\n"
   ]
  },
  {
   "cell_type": "code",
   "execution_count": null,
   "metadata": {},
   "outputs": [],
   "source": [
    "answers['4'] = '2. 110'"
   ]
  },
  {
   "cell_type": "code",
   "execution_count": null,
   "metadata": {},
   "outputs": [],
   "source": [
    "data['runtime'].mean()"
   ]
  },
  {
   "cell_type": "code",
   "execution_count": null,
   "metadata": {},
   "outputs": [],
   "source": [
    "data.runtime.mean()"
   ]
  },
  {
   "cell_type": "markdown",
   "metadata": {},
   "source": [
    "# 5. Каково медианное значение длительности фильмов? \n",
    "\n",
    "Варианты ответов:\n",
    "1. 107\n",
    "2. 112\n",
    "3. 101\n",
    "4. 120\n",
    "5. 115\n",
    "\n",
    "\n"
   ]
  },
  {
   "cell_type": "code",
   "execution_count": null,
   "metadata": {},
   "outputs": [],
   "source": [
    "answers['5'] = '1. 107'"
   ]
  },
  {
   "cell_type": "code",
   "execution_count": null,
   "metadata": {},
   "outputs": [],
   "source": [
    "data.runtime.median()"
   ]
  },
  {
   "cell_type": "markdown",
   "metadata": {},
   "source": [
    "# 6. Какой самый прибыльный фильм?\n",
    "### Внимание! Здесь и далее под «прибылью» или «убытками» понимается разность между сборами и бюджетом фильма. (прибыль = сборы - бюджет) в нашем датасете это будет (profit = revenue - budget) \n",
    "\n",
    "Варианты ответов:\n",
    "1. The Avengers\ttt0848228\n",
    "2. Minions\ttt2293640\n",
    "3. Star Wars: The Force Awakens\ttt2488496\n",
    "4. Furious 7\ttt2820852\n",
    "5. **Avatar\ttt0499549**"
   ]
  },
  {
   "cell_type": "code",
   "execution_count": null,
   "metadata": {},
   "outputs": [],
   "source": [
    "answers['6'] = '5. Avatar tt0499549'"
   ]
  },
  {
   "cell_type": "code",
   "execution_count": null,
   "metadata": {},
   "outputs": [],
   "source": [
    "data.loc[data.profit==data.profit.max(),'original_title'].values[0]"
   ]
  },
  {
   "cell_type": "code",
   "execution_count": null,
   "metadata": {},
   "outputs": [],
   "source": [
    "print(data.original_title[data.profit.idxmax()])"
   ]
  },
  {
   "cell_type": "code",
   "execution_count": null,
   "metadata": {},
   "outputs": [],
   "source": [
    "data[['profit', 'original_title', 'imdb_id']].sort_values('profit', ascending=False)[:10]"
   ]
  },
  {
   "cell_type": "markdown",
   "metadata": {},
   "source": [
    "# 7. Какой фильм самый убыточный? \n",
    "\n",
    "Варианты ответов:\n",
    "1. Supernova tt0134983\n",
    "2. Frozen\ttt2294629\n",
    "3. Speed Racer\ttt0811080\n",
    "4. The Adventures of Pluto Nash\ttt0180052\n",
    "5. Miles to Gracelan\ttt0233142"
   ]
  },
  {
   "cell_type": "code",
   "execution_count": null,
   "metadata": {},
   "outputs": [],
   "source": [
    "answers['7'] = '4. The Adventures of Pluto Nash (tt0180052)'"
   ]
  },
  {
   "cell_type": "code",
   "execution_count": null,
   "metadata": {},
   "outputs": [],
   "source": [
    "data.sort_values(by='profit').head(10)['original_title']"
   ]
  },
  {
   "cell_type": "code",
   "execution_count": null,
   "metadata": {},
   "outputs": [],
   "source": [
    "# Top 10\n",
    "data[['profit', 'original_title', 'imdb_id']].sort_values('profit', ascending=False)[-10:]"
   ]
  },
  {
   "cell_type": "markdown",
   "metadata": {},
   "source": [
    "# 8. У скольких фильмов из датасета объем сборов оказался выше бюджета?\n",
    "Варианты ответов:\n",
    "1. **1478**\n",
    "2. 1520\n",
    "3. 1241\n",
    "4. 1135\n",
    "5. 1398\n"
   ]
  },
  {
   "cell_type": "code",
   "execution_count": null,
   "metadata": {},
   "outputs": [],
   "source": [
    "answers['8'] = '1. 1478'"
   ]
  },
  {
   "cell_type": "code",
   "execution_count": null,
   "metadata": {},
   "outputs": [],
   "source": [
    "%%time\n",
    "len(data[data['profit'] > 0])"
   ]
  },
  {
   "cell_type": "code",
   "execution_count": null,
   "metadata": {},
   "outputs": [],
   "source": [
    "%%time\n",
    "data.loc[(data.profit)>0].shape[0]"
   ]
  },
  {
   "cell_type": "markdown",
   "metadata": {},
   "source": [
    "# 9. Какой фильм оказался самым кассовым в 2008 году?\n",
    "Варианты ответов:\n",
    "1. Madagascar: Escape 2 Africa\ttt0479952\n",
    "2. Iron Man\ttt0371746\n",
    "3. Kung Fu Panda\ttt0441773\n",
    "4. **The Dark Knight\ttt0468569**\n",
    "5. Mamma Mia!\ttt0795421"
   ]
  },
  {
   "cell_type": "code",
   "execution_count": null,
   "metadata": {},
   "outputs": [],
   "source": [
    "answers['9'] = '4. The Dark Knight (tt0468569)'"
   ]
  },
  {
   "cell_type": "code",
   "execution_count": null,
   "metadata": {},
   "outputs": [],
   "source": [
    "data.loc[data.release_year==2008].sort_values(by='revenue',ascending=False).head(1)['original_title'].values[0]"
   ]
  },
  {
   "cell_type": "code",
   "execution_count": null,
   "metadata": {},
   "outputs": [],
   "source": [
    "d = data.loc[data.release_year == 2008]\n",
    "d.set_index('original_title')['profit'].idxmax()"
   ]
  },
  {
   "cell_type": "code",
   "execution_count": null,
   "metadata": {},
   "outputs": [],
   "source": [
    "# Top 10\n",
    "data[['revenue', 'original_title', 'imdb_id']][data['release_year']==2008].sort_values('revenue', ascending=False)[:10]"
   ]
  },
  {
   "cell_type": "markdown",
   "metadata": {},
   "source": [
    "# 10. Самый убыточный фильм за период с 2012 по 2014 г. (включительно)?\n",
    "Варианты ответов:\n",
    "1. Winter's Tale\ttt1837709\n",
    "2. Stolen\ttt1656186\n",
    "3. Broken City\ttt1235522\n",
    "4. Upside Down\ttt1374992\n",
    "5. **The Lone Ranger\ttt1210819**\n"
   ]
  },
  {
   "cell_type": "code",
   "execution_count": null,
   "metadata": {},
   "outputs": [],
   "source": [
    "answers['10'] = '5. The Lone Ranger (tt1210819)'"
   ]
  },
  {
   "cell_type": "code",
   "execution_count": null,
   "metadata": {},
   "outputs": [],
   "source": [
    "data.loc[(data.release_year>=2012)&(data.release_year<=2014)].sort_values(by='profit')#.head(1)['original_title'].values[0]"
   ]
  },
  {
   "cell_type": "code",
   "execution_count": null,
   "metadata": {},
   "outputs": [],
   "source": [
    "data[data.profit == data.query('2012 <= release_year <= 2014').profit.min()]"
   ]
  },
  {
   "cell_type": "code",
   "execution_count": null,
   "metadata": {},
   "outputs": [],
   "source": [
    "colums_ls=['profit', 'original_title', 'imdb_id','release_year']\n",
    "movie_bd[colums_ls][(movie_bd['release_year']>=2012) & (movie_bd['release_year']<=2014)].sort_values('profit', ascending=False)[-10:]"
   ]
  },
  {
   "cell_type": "markdown",
   "metadata": {},
   "source": [
    "# 11. Какого жанра фильмов больше всего?\n",
    "Варианты ответов:\n",
    "1. Action\n",
    "2. Adventure\n",
    "3. **Drama**\n",
    "4. Comedy\n",
    "5. Thriller"
   ]
  },
  {
   "cell_type": "code",
   "execution_count": null,
   "metadata": {},
   "outputs": [],
   "source": [
    "answers['11'] = '3. Drama'"
   ]
  },
  {
   "cell_type": "markdown",
   "metadata": {},
   "source": [
    "### ВАРИАНТ 1\n",
    "через модуль collections с функцией Counter"
   ]
  },
  {
   "cell_type": "code",
   "execution_count": null,
   "metadata": {},
   "outputs": [],
   "source": [
    "Counter(data['genres'].str.cat(sep='|').split('|')).most_common(1)"
   ]
  },
  {
   "cell_type": "code",
   "execution_count": null,
   "metadata": {},
   "outputs": [],
   "source": [
    "Counter(data.genres.str.split('|').sum()).most_common(1)"
   ]
  },
  {
   "cell_type": "markdown",
   "metadata": {},
   "source": [
    "### Вариант 2"
   ]
  },
  {
   "cell_type": "code",
   "execution_count": null,
   "metadata": {},
   "outputs": [],
   "source": [
    "pd.Series(data['genres'].str.cat(sep='|').split('|')).value_counts()[:5]"
   ]
  },
  {
   "cell_type": "markdown",
   "metadata": {},
   "source": [
    "по шагам"
   ]
  },
  {
   "cell_type": "code",
   "execution_count": null,
   "metadata": {},
   "outputs": [],
   "source": [
    "# превращаем все в одну строку\n",
    "data['genres'].str.cat(sep='|')[:100]"
   ]
  },
  {
   "cell_type": "code",
   "execution_count": null,
   "metadata": {},
   "outputs": [],
   "source": [
    "# создаем список разделяя строку по '|'\n",
    "pd.Series(data['genres'].str.cat(sep='|').split('|'))[:5]"
   ]
  },
  {
   "cell_type": "code",
   "execution_count": 8,
   "metadata": {},
   "outputs": [
    {
     "data": {
      "text/plain": [
       "Drama        782\n",
       "Comedy       683\n",
       "Thriller     596\n",
       "Action       582\n",
       "Adventure    415\n",
       "dtype: int64"
      ]
     },
     "execution_count": 8,
     "metadata": {},
     "output_type": "execute_result"
    }
   ],
   "source": [
    "# считаем количество элементов в серии\n",
    "pd.Series(data['genres'].str.cat(sep='|').split('|')).value_counts()[:5]"
   ]
  },
  {
   "cell_type": "code",
   "execution_count": 9,
   "metadata": {},
   "outputs": [
    {
     "data": {
      "text/plain": [
       "Text(0, 0.5, 'Movies')"
      ]
     },
     "execution_count": 9,
     "metadata": {},
     "output_type": "execute_result"
    },
    {
     "data": {
      "image/png": "[encoded data removed]",
      "text/plain": [
       "<Figure size 1080x504 with 1 Axes>"
      ]
     },
     "metadata": {
      "needs_background": "light"
     },
     "output_type": "display_data"
    }
   ],
   "source": [
    "# завернем в функцию и будем использовать в дальнейшем\n",
    "def counter(movie_bd, x):\n",
    "    data_tmp=movie_bd[x].str.cat(sep='|') # превращаем все в одну строку\n",
    "    data_tmp=pd.Series(data_tmp.split('|')) # создаем список разделяя строку по '|'\n",
    "    data_tmp=data_tmp.value_counts(ascending=False) # считаем количество элементов строке\n",
    "    return data_tmp \n",
    "\n",
    "count=counter(data,'genres')\n",
    "count.plot(kind='bar',figsize=(15,7),fontsize=12)\n",
    "plt.xticks(rotation=60)\n",
    "plt.title(\"Genre with Highest Release\",fontsize=15)\n",
    "plt.xlabel(\"Genres\",fontsize=14)\n",
    "plt.ylabel(\"Movies\",fontsize=14)"
   ]
  },
  {
   "cell_type": "markdown",
   "metadata": {},
   "source": [
    "# 12. Фильмы какого жанра чаще всего становятся прибыльными? \n",
    "\n",
    "Варианты ответов:\n",
    "1. **Drama**\n",
    "2. Comedy\n",
    "3. Action\n",
    "4. Thriller\n",
    "5. Adventure"
   ]
  },
  {
   "cell_type": "code",
   "execution_count": 10,
   "metadata": {},
   "outputs": [
    {
     "ename": "NameError",
     "evalue": "name 'answers' is not defined",
     "output_type": "error",
     "traceback": [
      "\u001b[1;31m---------------------------------------------------------------------------\u001b[0m",
      "\u001b[1;31mNameError\u001b[0m                                 Traceback (most recent call last)",
      "\u001b[1;32m<ipython-input-10-147b25982b1f>\u001b[0m in \u001b[0;36m<module>\u001b[1;34m\u001b[0m\n\u001b[1;32m----> 1\u001b[1;33m \u001b[0manswers\u001b[0m\u001b[1;33m[\u001b[0m\u001b[1;34m'12'\u001b[0m\u001b[1;33m]\u001b[0m \u001b[1;33m=\u001b[0m \u001b[1;34m'1. Drama'\u001b[0m\u001b[1;33m\u001b[0m\u001b[1;33m\u001b[0m\u001b[0m\n\u001b[0m",
      "\u001b[1;31mNameError\u001b[0m: name 'answers' is not defined"
     ]
    }
   ],
   "source": [
    "answers['12'] = '1. Drama'"
   ]
  },
  {
   "cell_type": "code",
   "execution_count": null,
   "metadata": {},
   "outputs": [],
   "source": [
    "data_tmp = data[data['profit'] > 0]"
   ]
  },
  {
   "cell_type": "code",
   "execution_count": null,
   "metadata": {},
   "outputs": [],
   "source": [
    "print(pd.Series((data_tmp.genres.str.split('|').sum())).value_counts().index[0])"
   ]
  },
  {
   "cell_type": "markdown",
   "metadata": {},
   "source": [
    "ВАРИАНТ 2"
   ]
  },
  {
   "cell_type": "code",
   "execution_count": null,
   "metadata": {},
   "outputs": [],
   "source": [
    "data_tmp = data[data['profit'] > 0]"
   ]
  },
  {
   "cell_type": "code",
   "execution_count": null,
   "metadata": {},
   "outputs": [],
   "source": [
    "data_tmp=counter(data_tmp,'genres')\n",
    "data_tmp.plot(kind='bar',figsize=(15,7),fontsize=12)\n",
    "plt.xticks(rotation=60)\n",
    "plt.title(\"Genre with Highest Release\",fontsize=15)\n",
    "plt.xlabel(\"Genres\",fontsize=14)\n",
    "plt.ylabel(\"Movies\",fontsize=14)"
   ]
  },
  {
   "cell_type": "markdown",
   "metadata": {},
   "source": [
    "# 13. У какого режиссера самые большие суммарные кассовые сбооры?\n",
    "Варианты ответов:\n",
    "1. Steven Spielberg\n",
    "2. Christopher Nolan\n",
    "3. David Yates\n",
    "4. James Cameron\n",
    "5. **Peter Jackson**\n"
   ]
  },
  {
   "cell_type": "code",
   "execution_count": null,
   "metadata": {},
   "outputs": [],
   "source": [
    "answers['13'] = '5. Peter Jackson'"
   ]
  },
  {
   "cell_type": "code",
   "execution_count": null,
   "metadata": {},
   "outputs": [],
   "source": [
    "# немного схитрим, и воспользуемся уже готовой функцией\n",
    "directors=counter(data,'director')\n",
    "directors['Ridley Scott']"
   ]
  },
  {
   "cell_type": "code",
   "execution_count": null,
   "metadata": {},
   "outputs": [],
   "source": [
    "# наша функция counter возвращает нам словарь, а как мы помним индексы у словаря уникальны что позволит нам \n",
    "# 1. сразу получить список режисеров без дублей (directors.index)\n",
    "# 2. заполнить значение словаря нужными нам показателем\n",
    "for director in directors.index:\n",
    "    directors[director] = data['revenue'][data['director'].map(lambda x: True if director in x else False)].sum()\n",
    "\n",
    "# отсортируем\n",
    "directors = pd.DataFrame(directors).sort_values(0, ascending=False)\n",
    "directors[:10]"
   ]
  },
  {
   "cell_type": "code",
   "execution_count": null,
   "metadata": {},
   "outputs": [],
   "source": [
    "directors[:10].plot(kind='bar',figsize=(15,7),fontsize=12)\n",
    "plt.xticks(rotation=60)\n",
    "plt.title(\"director with Highest Profit\",fontsize=15)\n",
    "plt.xlabel(\"director\",fontsize=14)\n",
    "plt.ylabel(\"$\",fontsize=14)"
   ]
  },
  {
   "cell_type": "markdown",
   "metadata": {},
   "source": [
    "ВАРИАНТ 2"
   ]
  },
  {
   "cell_type": "code",
   "execution_count": null,
   "metadata": {},
   "outputs": [],
   "source": [
    "directors = set(data.director.str.split('|').sum())\n",
    "pd.Series({x: data[data.director.str.contains(x)].revenue.sum() for x in directors}).\\\n",
    "                    sort_values(ascending = False).head(5)"
   ]
  },
  {
   "cell_type": "markdown",
   "metadata": {},
   "source": [
    "# 14. Какой режисер снял больше всего фильмов в стиле Action?\n",
    "Варианты ответа:\n",
    "1. Ridley Scott\n",
    "2. Guy Ritchie\n",
    "3. Robert Rodriguez\n",
    "4. Quentin Tarantino\n",
    "5. Tony Scott"
   ]
  },
  {
   "cell_type": "code",
   "execution_count": null,
   "metadata": {},
   "outputs": [],
   "source": [
    "answers['14'] = '3. Robert Rodriguez'"
   ]
  },
  {
   "cell_type": "code",
   "execution_count": null,
   "metadata": {},
   "outputs": [],
   "source": [
    "data_tmp = data[data.genres.str.contains(\"Action\")]"
   ]
  },
  {
   "cell_type": "code",
   "execution_count": null,
   "metadata": {},
   "outputs": [],
   "source": [
    "sum_gen=counter(data_tmp,'director')\n",
    "sum_gen[:10].plot(kind='bar',figsize=(15,7),fontsize=10)\n",
    "plt.xticks(rotation=60)\n",
    "plt.xlabel(\"director\",fontsize=14)\n",
    "plt.ylabel(\"Movies\",fontsize=14)\n",
    "sum_gen[:5]"
   ]
  },
  {
   "cell_type": "markdown",
   "metadata": {},
   "source": [
    "# 15. У какого актера самые высокие суммарные кассовые сборы в 2012 году? (суммарные сборы по фильмам с его участием)\n",
    "Варианты ответов:\n",
    "1. Nicolas Cage\n",
    "2. Tom Hardy\n",
    "3. Chris Hemsworth\n",
    "4. Jim Sturgess\n",
    "5. Emma Stone"
   ]
  },
  {
   "cell_type": "code",
   "execution_count": null,
   "metadata": {},
   "outputs": [],
   "source": [
    "answers['15'] = '3. Chris Hemsworth'"
   ]
  },
  {
   "cell_type": "code",
   "execution_count": null,
   "metadata": {},
   "outputs": [],
   "source": [
    "# решаем аналогично только фильтруем датасет по году\n",
    "sum_gen=counter(data[data['release_year']==2012],'cast')\n",
    "for gen in sum_gen.index:\n",
    "    sum_gen[gen] = data['revenue'][data['release_year']==2012][data['cast'].map(lambda x: True if gen in x else False)].sum()\n",
    "sum_gen = pd.DataFrame(sum_gen).sort_values(0, ascending=False)\n",
    "sum_gen[:10].plot(kind='bar',figsize=(15,7),fontsize=12)\n",
    "plt.xticks(rotation=60)\n",
    "plt.title(\"cast with Highest Profit\",fontsize=15)\n",
    "plt.xlabel(\"cast\",fontsize=14)\n",
    "plt.ylabel(\"$\",fontsize=14)\n",
    "sum_gen[:10]"
   ]
  },
  {
   "cell_type": "markdown",
   "metadata": {},
   "source": [
    "# 16. Какой актер снялся в большем количестве высокобюджетных фильмов? (в фильмах где бюджет выше среднего по данной выборке)\n",
    "Варианты ответов:\n",
    "1. Tom Cruise\n",
    "2. Mark Wahlberg \n",
    "3. Matt Damon\n",
    "4. Angelina Jolie\n",
    "5. Brad Pitt"
   ]
  },
  {
   "cell_type": "code",
   "execution_count": null,
   "metadata": {},
   "outputs": [],
   "source": [
    "answers['16'] = '3. Matt Damon'"
   ]
  },
  {
   "cell_type": "code",
   "execution_count": null,
   "metadata": {},
   "outputs": [],
   "source": [
    "data['budget'].mean()"
   ]
  },
  {
   "cell_type": "code",
   "execution_count": null,
   "metadata": {},
   "outputs": [],
   "source": [
    "sum_gen=counter(data[data['budget'] > data['budget'].mean()],'cast')\n",
    "sum_gen[:10].plot(kind='bar',figsize=(15,7),fontsize=12)\n",
    "plt.xticks(rotation=60)\n",
    "plt.title(\"cast with Highest Release\",fontsize=15)\n",
    "plt.xlabel(\"cast\",fontsize=14)\n",
    "plt.ylabel(\"Movies\",fontsize=14)\n",
    "sum_gen[:10]"
   ]
  },
  {
   "cell_type": "markdown",
   "metadata": {},
   "source": [
    "ВАРИАНТ 2"
   ]
  },
  {
   "cell_type": "code",
   "execution_count": null,
   "metadata": {},
   "outputs": [],
   "source": [
    "pd.Series(data[data.budget > data.budget.mean()].cast.str.split('|').sum()).value_counts().index[0]"
   ]
  },
  {
   "cell_type": "markdown",
   "metadata": {},
   "source": [
    "# 17. В фильмах какого жанра больше всего снимался Nicolas Cage?  \n",
    "Варианты ответа:\n",
    "1. Drama\n",
    "2. Action\n",
    "3. Thriller\n",
    "4. Adventure\n",
    "5. Crime"
   ]
  },
  {
   "cell_type": "code",
   "execution_count": null,
   "metadata": {},
   "outputs": [],
   "source": [
    "answers['17'] = '2. Action'"
   ]
  },
  {
   "cell_type": "code",
   "execution_count": null,
   "metadata": {},
   "outputs": [],
   "source": [
    "Counter(data[data.cast.str.contains('Nicolas Cage')].genres.str.split('|').sum()).most_common(1)"
   ]
  },
  {
   "cell_type": "markdown",
   "metadata": {},
   "source": [
    "ВАРИАНТ 2"
   ]
  },
  {
   "cell_type": "code",
   "execution_count": null,
   "metadata": {},
   "outputs": [],
   "source": [
    "data_tmp = data[data.cast.str.contains(\"Nicolas Cage\")]\n",
    "# or\n",
    "data_tmp = data[data['cast'].map(lambda x: True if 'Nicolas Cage' in x else False)]"
   ]
  },
  {
   "cell_type": "code",
   "execution_count": null,
   "metadata": {},
   "outputs": [],
   "source": [
    "sum_gen=counter(data_tmp,'genres')\n",
    "sum_gen.plot(kind='bar',figsize=(15,7),fontsize=12)\n",
    "plt.xticks(rotation=60)\n",
    "plt.title(\"Genre with Highest Release\",fontsize=15)\n",
    "plt.xlabel(\"Genres\",fontsize=14)\n",
    "plt.ylabel(\"Movies\",fontsize=14)"
   ]
  },
  {
   "cell_type": "markdown",
   "metadata": {},
   "source": [
    "# 18. Самый убыточный фильм от Paramount Pictures\n",
    "Варианты ответа:\n",
    "\n",
    "1. K-19: The Widowmaker tt0267626\n",
    "2. Next tt0435705\n",
    "3. Twisted tt0315297\n",
    "4. The Love Guru tt0811138\n",
    "5. The Fighter tt0964517"
   ]
  },
  {
   "cell_type": "code",
   "execution_count": null,
   "metadata": {},
   "outputs": [],
   "source": [
    "answers['18'] = '1. K-19: The Widowmaker (tt0267626)'"
   ]
  },
  {
   "cell_type": "code",
   "execution_count": null,
   "metadata": {},
   "outputs": [],
   "source": [
    "data[data['production_companies'].str.contains('Paramount Pictures', na=False)].sort_values(by='profit').head(1)['original_title'].values[0]"
   ]
  },
  {
   "cell_type": "code",
   "execution_count": null,
   "metadata": {},
   "outputs": [],
   "source": [
    "print_columns = ['profit', 'original_title', 'imdb_id', 'production_companies']\n",
    "data[print_columns][data['production_companies'].map(lambda x: True if 'Paramount Pictures' in x else False)].sort_values('profit', ascending=False)[-10:]"
   ]
  },
  {
   "cell_type": "markdown",
   "metadata": {},
   "source": [
    "# 19. Какой год стал самым успешным по суммарным кассовым сборам?\n",
    "Варианты ответа:\n",
    "1. 2014\n",
    "2. 2008\n",
    "3. 2012\n",
    "4. 2002\n",
    "5. 2015"
   ]
  },
  {
   "cell_type": "code",
   "execution_count": null,
   "metadata": {},
   "outputs": [],
   "source": [
    "answers['19'] = '5. 2015'"
   ]
  },
  {
   "cell_type": "code",
   "execution_count": null,
   "metadata": {},
   "outputs": [],
   "source": [
    "data.groupby('release_year')['revenue'].sum().plot()\n",
    "print(data.groupby('release_year')['revenue'].sum().sort_values(0, ascending=False)[:10])\n",
    "plt.title('Year vs Average revenue',fontsize=15)\n",
    "plt.xlabel('Release Year',fontsize=12)\n",
    "plt.ylabel('Average revenue',fontsize=12)\n",
    "plt.yticks(rotation=90)"
   ]
  },
  {
   "cell_type": "markdown",
   "metadata": {},
   "source": [
    "ВАРИАНТ 2"
   ]
  },
  {
   "cell_type": "code",
   "execution_count": null,
   "metadata": {},
   "outputs": [],
   "source": [
    "best_profit = pd.pivot_table(data, values='revenue', index='release_year', aggfunc='sum')\n",
    "best_profit.revenue.sort_values(ascending=False).head(1)"
   ]
  },
  {
   "cell_type": "markdown",
   "metadata": {},
   "source": [
    "# 20. Какой Самый прибыльный год для студии Warner Bros?\n",
    "Варианты ответа:\n",
    "1. 2014\n",
    "2. 2003\n",
    "3. 2012\n",
    "4. 2010\n",
    "5. 2015"
   ]
  },
  {
   "cell_type": "code",
   "execution_count": null,
   "metadata": {},
   "outputs": [],
   "source": [
    "answers['20'] = '1. 2014'"
   ]
  },
  {
   "cell_type": "code",
   "execution_count": null,
   "metadata": {},
   "outputs": [],
   "source": [
    "data[data.production_companies.str.contains('Warner Bros')].groupby('release_year')['profit'].sum().idxmax()"
   ]
  },
  {
   "cell_type": "code",
   "execution_count": null,
   "metadata": {},
   "outputs": [],
   "source": [
    "#Оставляем только записи фильмов, принадлежащих компании Warner Bros\n",
    "warner_df = data[data['production_companies'].str.contains('Warner Bros')]\n",
    "\n",
    "warner_df.groupby(['release_year'])['profit'].sum().sort_values(ascending = False)"
   ]
  },
  {
   "cell_type": "code",
   "execution_count": null,
   "metadata": {},
   "outputs": [],
   "source": [
    "warner_df.groupby(['release_year'])['profit'].sum().plot()\n",
    "plt.title('Year vs Average Profit',fontsize=15)\n",
    "plt.xlabel('Release Year',fontsize=12)\n",
    "plt.ylabel('Average Profit',fontsize=12)\n",
    "plt.yticks(rotation=90)"
   ]
  },
  {
   "cell_type": "markdown",
   "metadata": {},
   "source": [
    "# 21. В каком месяце за все годы суммарно вышло больше всего фильмов?\n",
    "Варианты ответа:\n",
    "1. Январь\n",
    "2. Июнь\n",
    "3. Декабрь\n",
    "4. Сентябрь\n",
    "5. Май"
   ]
  },
  {
   "cell_type": "code",
   "execution_count": null,
   "metadata": {},
   "outputs": [],
   "source": [
    "answers['21'] = '4. Сентябрь'"
   ]
  },
  {
   "cell_type": "code",
   "execution_count": null,
   "metadata": {},
   "outputs": [],
   "source": [
    "# не забываем сделать pd.to_datetime(data['release_date']) при предобработке\n",
    "data.groupby(data['release_date'].dt.strftime('%B'))['imdb_id'].count().sort_values(ascending = False)"
   ]
  },
  {
   "cell_type": "markdown",
   "metadata": {},
   "source": [
    "ВАРИАНТ 2"
   ]
  },
  {
   "cell_type": "code",
   "execution_count": null,
   "metadata": {},
   "outputs": [],
   "source": [
    "data.release_date.dt.month.value_counts()"
   ]
  },
  {
   "cell_type": "markdown",
   "metadata": {},
   "source": [
    "# 22. Сколько суммарно вышло фильмов летом? (за июнь, июль, август)\n",
    "Варианты ответа:\n",
    "1. 345\n",
    "2. 450\n",
    "3. 478\n",
    "4. 523\n",
    "5. 381"
   ]
  },
  {
   "cell_type": "code",
   "execution_count": null,
   "metadata": {},
   "outputs": [],
   "source": [
    "answers['22'] = '2. 450'"
   ]
  },
  {
   "cell_type": "code",
   "execution_count": null,
   "metadata": {},
   "outputs": [],
   "source": [
    "print(len(data[(data.release_date.dt.month >=6) & (data.release_date.dt.month <=8)]))"
   ]
  },
  {
   "cell_type": "code",
   "execution_count": null,
   "metadata": {},
   "outputs": [],
   "source": [
    "len(data[data.release_date.dt.month.isin([6, 7, 8,])])"
   ]
  },
  {
   "cell_type": "code",
   "execution_count": null,
   "metadata": {},
   "outputs": [],
   "source": [
    "print(len(data[data['season'] == 3]))"
   ]
  },
  {
   "cell_type": "markdown",
   "metadata": {},
   "source": [
    "# 23. Какой режисер выпускает (суммарно по годам) больше всего фильмов зимой?\n",
    "Варианты ответов:\n",
    "1. Steven Soderbergh\n",
    "2. Christopher Nolan\n",
    "3. Steven Spielberg\n",
    "4. Ridley Scott\n",
    "5. Peter Jackson"
   ]
  },
  {
   "cell_type": "code",
   "execution_count": null,
   "metadata": {},
   "outputs": [],
   "source": [
    "answers['23'] = '5. Peter Jackson'"
   ]
  },
  {
   "cell_type": "code",
   "execution_count": null,
   "metadata": {},
   "outputs": [],
   "source": [
    "data_tmp = data[data['season'] == 1]\n",
    "# or\n",
    "data_tmp = data[data.release_date.dt.month.isin([1, 2, 12,])]"
   ]
  },
  {
   "cell_type": "code",
   "execution_count": null,
   "metadata": {},
   "outputs": [],
   "source": [
    "sum_gen=counter(data_tmp,'director')\n",
    "print(sum_gen[:10])\n",
    "sum_gen[:10].plot(kind='bar',figsize=(15,7),fontsize=12)\n",
    "plt.xticks(rotation=60)\n",
    "plt.title(\"director with Highest Release\",fontsize=15)\n",
    "plt.xlabel(\"director\",fontsize=14)\n",
    "plt.ylabel(\"Movies\",fontsize=14)"
   ]
  },
  {
   "cell_type": "markdown",
   "metadata": {},
   "source": [
    "# 24. Какая студия дает самые длинные названия своим фильмам по количеству символов?\n",
    "Варианты ответа:\n",
    "1. Universal Pictures\n",
    "2. Warner Bros\n",
    "3. Miramax Films\n",
    "4. Paramount Pictures\n",
    "5. Four By Two Productions"
   ]
  },
  {
   "cell_type": "code",
   "execution_count": null,
   "metadata": {},
   "outputs": [],
   "source": [
    "answers['24'] = '5. Four By Two Productions'"
   ]
  },
  {
   "cell_type": "code",
   "execution_count": null,
   "metadata": {},
   "outputs": [],
   "source": [
    "data['title_length'] = data['original_title'].map(lambda x: len(x))"
   ]
  },
  {
   "cell_type": "code",
   "execution_count": null,
   "metadata": {},
   "outputs": [],
   "source": [
    "sum_gen=counter(data,'production_companies')\n",
    "for gen in sum_gen.index:\n",
    "    sum_gen[gen] = data['title_length'][data['production_companies'].map(lambda x: True if gen in x else False)].mean()\n",
    "sum_gen = pd.DataFrame(sum_gen).sort_values(0, ascending=False)\n",
    "sum_gen[:10].plot(kind='bar',figsize=(15,7),fontsize=12)\n",
    "plt.xticks(rotation=60)\n",
    "plt.title(\"cast with Highest Profit\",fontsize=15)\n",
    "plt.xlabel(\"cast\",fontsize=14)\n",
    "plt.ylabel(\"$\",fontsize=14)\n",
    "sum_gen[:10]"
   ]
  },
  {
   "cell_type": "markdown",
   "metadata": {},
   "source": [
    "# 25. Описание фильмов какой студии в среднем самые длинные по количеству слов?\n",
    "\n",
    "Варианты ответа:\n",
    "1. Universal Pictures\n",
    "2. Warner Bros\n",
    "3. Midnight Picture Show\n",
    "4. Paramount Pictures\n",
    "5. Total Entertainment"
   ]
  },
  {
   "cell_type": "code",
   "execution_count": null,
   "metadata": {},
   "outputs": [],
   "source": [
    "answers['25'] = '3. Midnight Picture Show'"
   ]
  },
  {
   "cell_type": "code",
   "execution_count": null,
   "metadata": {},
   "outputs": [],
   "source": [
    "data['overview_words_length'] = data.overview.map(lambda x: len(x.split(' ')))"
   ]
  },
  {
   "cell_type": "code",
   "execution_count": null,
   "metadata": {},
   "outputs": [],
   "source": [
    "sum_gen=counter(data,'production_companies')\n",
    "for gen in sum_gen.index:\n",
    "    sum_gen[gen] = data['overview_words_length'][data['production_companies'].map(lambda x: True if gen in x else False)].mean()\n",
    "sum_gen = pd.DataFrame(sum_gen).sort_values(0, ascending=False)\n",
    "sum_gen[:10].plot(kind='bar',figsize=(15,7),fontsize=12)\n",
    "plt.xticks(rotation=60)\n",
    "plt.title(\"cast with Highest Profit\",fontsize=15)\n",
    "plt.xlabel(\"cast\",fontsize=14)\n",
    "plt.ylabel(\"$\",fontsize=14)\n",
    "sum_gen[:5]"
   ]
  },
  {
   "cell_type": "markdown",
   "metadata": {},
   "source": [
    "# 26. Какие фильмы входят в 1 процент лучших по рейтингу? (vote_average)\n",
    "Варианты ответа:\n",
    "1. Inside Out, The Dark Knight, 12 Years a Slave\n",
    "2. BloodRayne, The Adventures of Rocky & Bullwinkle\n",
    "3. Batman Begins, The Lord of the Rings: The Return of the King, Upside Down\n",
    "4. 300, Lucky Number Slevin, Kill Bill: Vol. 1\n",
    "5. Upside Down, Inside Out, Iron Man"
   ]
  },
  {
   "cell_type": "code",
   "execution_count": null,
   "metadata": {},
   "outputs": [],
   "source": [
    "answers['26'] = '1. Inside Out, The Dark Knight, 12 Years a Slave'"
   ]
  },
  {
   "cell_type": "code",
   "execution_count": null,
   "metadata": {},
   "outputs": [],
   "source": [
    "data.loc[data['vote_average']>data.quantile(0.99, numeric_only=True)['vote_average']]['original_title']"
   ]
  },
  {
   "cell_type": "markdown",
   "metadata": {},
   "source": [
    "ВАРИАНТ 2"
   ]
  },
  {
   "cell_type": "code",
   "execution_count": null,
   "metadata": {},
   "outputs": [],
   "source": [
    "border = np.quantile(data.vote_average, 0.99)\n",
    "data[data.vote_average >= border].sort_values(by='vote_average', ascending=False)['original_title']"
   ]
  },
  {
   "cell_type": "markdown",
   "metadata": {},
   "source": [
    "# 27. Какие актеры чаще всего снимаются в одном фильме вместе\n",
    "Варианты ответа:\n",
    "1. Johnny Depp & Helena Bonham Carter\n",
    "2. Ben Stiller & Owen Wilson\n",
    "3. Vin Diesel & Paul Walker\n",
    "4. Adam Sandler & Kevin James\n",
    "5. Daniel Radcliffe & Rupert Grint"
   ]
  },
  {
   "cell_type": "code",
   "execution_count": null,
   "metadata": {},
   "outputs": [],
   "source": [
    "# answers['27'] = '5. Daniel Radcliffe & Rupert Grint'\n",
    "import pandas as pd\n",
    "data=pd.read_csv('movie_bd_v5.xls')"
   ]
  },
  {
   "cell_type": "code",
   "execution_count": null,
   "metadata": {},
   "outputs": [],
   "source": []
  },
  {
   "cell_type": "code",
   "execution_count": null,
   "metadata": {},
   "outputs": [],
   "source": [
    "from itertools import combinations\n",
    "pairs = data.cast.apply(lambda x: list(tuple(sorted(comb)) for comb in combinations(x.split('|'), 2) )).tolist()\n",
    "flattened = pd.DataFrame(pairs).stack()\n",
    "flattened.value_counts()\n"
   ]
  },
  {
   "cell_type": "markdown",
   "metadata": {},
   "source": [
    "ВАРИАНТ 2"
   ]
  },
  {
   "cell_type": "code",
   "execution_count": null,
   "metadata": {},
   "outputs": [],
   "source": [
    "from collections import Counter\n",
    "from itertools import combinations\n",
    "pairs = Counter()\n",
    "for i in range(0,len(data)):\n",
    "    artists = data.cast[i].split('|')\n",
    "    for j in list(combinations(artists, 2)):\n",
    "        if j not in pairs:\n",
    "            pairs[j] = 1\n",
    "        else:\n",
    "            pairs[j] += 1\n",
    "pairs.most_common(5)"
   ]
  },
  {
   "cell_type": "markdown",
   "metadata": {},
   "source": [
    "ВАРИАНТ 3"
   ]
  },
  {
   "cell_type": "code",
   "execution_count": null,
   "metadata": {},
   "outputs": [],
   "source": [
    "pairs = data.cast.apply(lambda x: combinations(x.split('|'), 2)).tolist()\n",
    "flattened = pd.DataFrame(pairs).stack()\n",
    "flattened.value_counts().head(5)"
   ]
  },
  {
   "cell_type": "code",
   "execution_count": null,
   "metadata": {},
   "outputs": [],
   "source": [
    "from collections import Counter\n",
    "from itertools import combinations\n",
    "pairs = Counter()\n",
    "for i in range(0,len(data)):\n",
    "    artists = data.cast[i].split('|')\n",
    "    for j in list(combinations(artists, 2)):\n",
    "        if (j not in pairs):\n",
    "            if (j[-1], j[0]) not in pairs:\n",
    "                pairs[j] = 1\n",
    "            else:\n",
    "                pairs[(j[-1], j[0])] += 1\n",
    "        else:\n",
    "            pairs[j] += 1\n",
    "\n",
    "pairs.most_common(5)"
   ]
  },
  {
   "cell_type": "markdown",
   "metadata": {},
   "source": [
    "# Submission"
   ]
  },
  {
   "cell_type": "code",
   "execution_count": null,
   "metadata": {},
   "outputs": [],
   "source": [
    "answers"
   ]
  },
  {
   "cell_type": "code",
   "execution_count": null,
   "metadata": {},
   "outputs": [],
   "source": [
    "len(answers)"
   ]
  },
  {
   "cell_type": "markdown",
   "metadata": {},
   "source": [
    "# Доп материалы\n",
    "%%time and %%timeit\n",
    "\n",
    "https://jakevdp.github.io/PythonDataScienceHandbook/01.07-timing-and-profiling.html\n",
    "\n",
    "iterrows или itertuples,когда используем циклы https://stackoverflow.com/questions/16476924/how-to-iterate-over-rows-in-a-dataframe-in-pandas\n",
    "\n",
    "Интересный разбор эффективности функций: https://stackoverflow.com/questions/54028199/are-for-loops-in-pandas-really-bad-when-should-i-care\n",
    "\n",
    "Копирование не равно https://stackoverflow.com/questions/35665135/why-can-pandas-dataframes-change-each-other"
   ]
  },
  {
   "cell_type": "code",
   "execution_count": null,
   "metadata": {},
   "outputs": [],
   "source": [
    "import pandas as pd\n",
    "data = pd.read_csv('movie_bd_v5.xls')"
   ]
  },
  {
   "cell_type": "code",
   "execution_count": null,
   "metadata": {},
   "outputs": [],
   "source": [
    "\n",
    "dd = data[data['budget'] > data['budget'].mean()]\n",
    "\n",
    "s = dd['cast'].str.split('|').apply(pd.Series, 1).stack()\n",
    "s.index = s.index.droplevel(-1)\n",
    "s.name = 'actors'\n",
    "dd = dd.join(s)\n",
    "dd.groupby('actors').count().sort_values(by='imdb_id', ascending=False).head(5)"
   ]
  },
  {
   "cell_type": "code",
   "execution_count": null,
   "metadata": {},
   "outputs": [],
   "source": [
    "def make_pairs(list_for_pairs):\n",
    "    '''Создает из списка список уникальных пар элементов'''\n",
    "    pairs = []\n",
    "    list_for_pairs = sorted(list_for_pairs)\n",
    "    for index1 in range(0,len(list_for_pairs)):\n",
    "        for index2 in range(index1+1, len(list_for_pairs)):\n",
    "            pairs.append([list_for_pairs[index1], list_for_pairs[index2]])\n",
    "    \n",
    "    return(pairs)\n",
    "\n",
    "def column_to_list(column):\n",
    "    '''Создает новую копию DataFrame, переводит данные в колонке из строки в список'''\n",
    "    df = data.copy(deep = True)\n",
    "    df[column] = df[column].str.split('|')\n",
    "    \n",
    "    return df\n",
    "data2 = column_to_list('cast')\n",
    "data2['cast'] = data2['cast'].apply(make_pairs)\n"
   ]
  },
  {
   "cell_type": "code",
   "execution_count": null,
   "metadata": {},
   "outputs": [],
   "source": [
    "data2.explode('cast').cast.value_counts().keys()[1]"
   ]
  },
  {
   "cell_type": "code",
   "execution_count": null,
   "metadata": {},
   "outputs": [],
   "source": [
    "data2.explode('cast').cast.value_counts()"
   ]
  },
  {
   "cell_type": "code",
   "execution_count": null,
   "metadata": {},
   "outputs": [],
   "source": [
    "from itertools import combinations\n",
    "def couple(row):\n",
    "    row=row.split(\"|\")\n",
    "    couple=combinations(row,2)\n",
    "    for name in couple:\n",
    "        return name\n",
    "\n",
    "actor_dic=dict(Counter(data.cast.apply(couple)))\n",
    "\n",
    "a27=max(actor_dic,key=actor_dic.get)\n",
    "a27"
   ]
  },
  {
   "cell_type": "code",
   "execution_count": null,
   "metadata": {},
   "outputs": [],
   "source": [
    "a27=sorted(actor_dic,key=actor_dic.get)\n",
    "a27[-1:-5:-1]"
   ]
  },
  {
   "cell_type": "code",
   "execution_count": null,
   "metadata": {},
   "outputs": [],
   "source": []
  }
 ],
 "metadata": {
  "kernelspec": {
   "display_name": "Python 3",
   "language": "python",
   "name": "python3"
  },
  "language_info": {
   "codemirror_mode": {
    "name": "ipython",
    "version": 3
   },
   "file_extension": ".py",
   "mimetype": "text/x-python",
   "name": "python",
   "nbconvert_exporter": "python",
   "pygments_lexer": "ipython3",
   "version": "3.8.5"
  },
  "pycharm": {
   "stem_cell": {
    "cell_type": "raw",
    "metadata": {
     "collapsed": false
    },
    "source": []
   }
  },
  "toc": {
   "base_numbering": 1,
   "nav_menu": {},
   "number_sections": false,
   "sideBar": true,
   "skip_h1_title": false,
   "title_cell": "Table of Contents",
   "title_sidebar": "Contents",
   "toc_cell": false,
   "toc_position": {},
   "toc_section_display": true,
   "toc_window_display": true
  }
 },
 "nbformat": 4,
 "nbformat_minor": 4
}
