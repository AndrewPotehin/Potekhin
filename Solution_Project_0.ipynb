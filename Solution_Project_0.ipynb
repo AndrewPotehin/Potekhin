{
 "cells": [
  {
   "cell_type": "code",
   "execution_count": 44,
   "metadata": {},
   "outputs": [
    {
     "name": "stdout",
     "output_type": "stream",
     "text": [
      "Загадано число: 63\n",
      "Число 63 отгадано за 7 попыток\n"
     ]
    }
   ],
   "source": [
    "import numpy as np\n",
    "count = 0                           # счетчик попыток\n",
    "number = np.random.randint(1,101)   # загадали число\n",
    "print (\"Загадано число:\",number)\n",
    "\n",
    "def game_core_v3(number):\n",
    "    '''Будем использовать метод деления пополам в цикле while'''\n",
    "    \n",
    "    predict_list = [i for i in range(1,number+2)]   # создаём список всех возможных ответов, специально сделав на 1 больше. \n",
    "                                                    #Потому что, если выбрать диапазон до number+1, мы будем отгадывать число\n",
    "                                                    #с первого раза. \n",
    "    predict = len(predict_list) # предполагаем, что ответ это размер длины списка, т.е. последнее число (заведомо неверное)\n",
    "    count = 1 # счетчик попыток\n",
    "    exp = 1 # показатель возведения в степень, понадобится в цикле для деления длины списка на каждом шаге     \n",
    "    \n",
    "    while number != predict:\n",
    "        count += 1 #увеличиваем счетчик попыток, если не угадали на этом шаге\n",
    "        if number > predict: \n",
    "            predict += round(len(predict_list) / 2**exp)\n",
    "            exp += 1\n",
    "        elif number < predict: \n",
    "            predict -= round(len(predict_list) / 2**exp)\n",
    "            exp += 1\n",
    "    return(count) # выход из цикла, когда угадали\n",
    "\n",
    "print('Число',number,'отгадано за',game_core_v3(number),'попыток')"
   ]
  }
 ],
 "metadata": {
  "kernelspec": {
   "display_name": "Python 3",
   "language": "python",
   "name": "python3"
  },
  "language_info": {
   "codemirror_mode": {
    "name": "ipython",
    "version": 3
   },
   "file_extension": ".py",
   "mimetype": "text/x-python",
   "name": "python",
   "nbconvert_exporter": "python",
   "pygments_lexer": "ipython3",
   "version": "3.8.5"
  }
 },
 "nbformat": 4,
 "nbformat_minor": 4
}
