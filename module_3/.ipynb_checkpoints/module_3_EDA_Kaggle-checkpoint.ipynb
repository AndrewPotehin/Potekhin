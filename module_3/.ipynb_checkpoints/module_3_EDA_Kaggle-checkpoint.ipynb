{
 "cells": [
  {
   "cell_type": "markdown",
   "metadata": {},
   "source": [
    "# Загрузка Pandas и очистка данных"
   ]
  },
  {
   "cell_type": "code",
   "execution_count": 1,
   "metadata": {},
   "outputs": [],
   "source": [
    "import pandas as pd\n",
    "import matplotlib.pyplot as plt\n",
    "import seaborn as sns\n",
    "import numpy as np\n",
    "import statistics as sts\n",
    "import re\n",
    "from datetime import datetime\n",
    "from sklearn.preprocessing import MultiLabelBinarizer"
   ]
  },
  {
   "cell_type": "markdown",
   "metadata": {},
   "source": [
    "Прочитаем файлы и запишем в переменные"
   ]
  },
  {
   "cell_type": "code",
   "execution_count": 2,
   "metadata": {},
   "outputs": [],
   "source": [
    "df_train = pd.read_csv('main_task.csv') # основной датасет, используемый для построения признаков, нуждающийся в обработке\n",
    "df_test = pd.read_csv('kaggle_task.csv') # тестовый датасет из 10 000 строк, в нем будем предсказывать целевую переменную\n",
    "sample_submission = pd.read_csv('sample_submission.csv') # датасет из пробных предсказаний"
   ]
  },
  {
   "cell_type": "code",
   "execution_count": 3,
   "metadata": {},
   "outputs": [
    {
     "data": {
      "text/html": [
       "<div>\n",
       "<style scoped>\n",
       "    .dataframe tbody tr th:only-of-type {\n",
       "        vertical-align: middle;\n",
       "    }\n",
       "\n",
       "    .dataframe tbody tr th {\n",
       "        vertical-align: top;\n",
       "    }\n",
       "\n",
       "    .dataframe thead th {\n",
       "        text-align: right;\n",
       "    }\n",
       "</style>\n",
       "<table border=\"1\" class=\"dataframe\">\n",
       "  <thead>\n",
       "    <tr style=\"text-align: right;\">\n",
       "      <th></th>\n",
       "      <th>Restaurant_id</th>\n",
       "      <th>City</th>\n",
       "      <th>Cuisine_Style</th>\n",
       "      <th>Ranking</th>\n",
       "      <th>Price_Range</th>\n",
       "      <th>Number_of_Reviews</th>\n",
       "      <th>Reviews</th>\n",
       "      <th>URL_TA</th>\n",
       "      <th>ID_TA</th>\n",
       "      <th>Sample</th>\n",
       "      <th>Rating</th>\n",
       "    </tr>\n",
       "  </thead>\n",
       "  <tbody>\n",
       "    <tr>\n",
       "      <th>0</th>\n",
       "      <td>id_0</td>\n",
       "      <td>Paris</td>\n",
       "      <td>['Bar', 'Pub']</td>\n",
       "      <td>12963.0</td>\n",
       "      <td>$$ - $$$</td>\n",
       "      <td>4.0</td>\n",
       "      <td>[[], []]</td>\n",
       "      <td>/Restaurant_Review-g187147-d10746918-Reviews-L...</td>\n",
       "      <td>d10746918</td>\n",
       "      <td>0</td>\n",
       "      <td>0.0</td>\n",
       "    </tr>\n",
       "    <tr>\n",
       "      <th>1</th>\n",
       "      <td>id_1</td>\n",
       "      <td>Helsinki</td>\n",
       "      <td>['European', 'Scandinavian', 'Gluten Free Opti...</td>\n",
       "      <td>106.0</td>\n",
       "      <td>$$ - $$$</td>\n",
       "      <td>97.0</td>\n",
       "      <td>[['Very good reviews!', 'Fine dining in Hakani...</td>\n",
       "      <td>/Restaurant_Review-g189934-d6674944-Reviews-Ra...</td>\n",
       "      <td>d6674944</td>\n",
       "      <td>0</td>\n",
       "      <td>0.0</td>\n",
       "    </tr>\n",
       "    <tr>\n",
       "      <th>2</th>\n",
       "      <td>id_2</td>\n",
       "      <td>Edinburgh</td>\n",
       "      <td>['Vegetarian Friendly']</td>\n",
       "      <td>810.0</td>\n",
       "      <td>$$ - $$$</td>\n",
       "      <td>28.0</td>\n",
       "      <td>[['Better than the Links', 'Ivy Black'], ['12/...</td>\n",
       "      <td>/Restaurant_Review-g186525-d13129638-Reviews-B...</td>\n",
       "      <td>d13129638</td>\n",
       "      <td>0</td>\n",
       "      <td>0.0</td>\n",
       "    </tr>\n",
       "    <tr>\n",
       "      <th>3</th>\n",
       "      <td>id_3</td>\n",
       "      <td>London</td>\n",
       "      <td>['Italian', 'Mediterranean', 'European', 'Vege...</td>\n",
       "      <td>1669.0</td>\n",
       "      <td>$$$$</td>\n",
       "      <td>202.0</td>\n",
       "      <td>[['Most exquisite', 'Delicious and authentic']...</td>\n",
       "      <td>/Restaurant_Review-g186338-d680417-Reviews-Qui...</td>\n",
       "      <td>d680417</td>\n",
       "      <td>0</td>\n",
       "      <td>0.0</td>\n",
       "    </tr>\n",
       "    <tr>\n",
       "      <th>4</th>\n",
       "      <td>id_4</td>\n",
       "      <td>Bratislava</td>\n",
       "      <td>['Italian', 'Mediterranean', 'European', 'Seaf...</td>\n",
       "      <td>37.0</td>\n",
       "      <td>$$$$</td>\n",
       "      <td>162.0</td>\n",
       "      <td>[['Always the best in bratislava', 'Very good ...</td>\n",
       "      <td>/Restaurant_Review-g274924-d1112354-Reviews-Ma...</td>\n",
       "      <td>d1112354</td>\n",
       "      <td>0</td>\n",
       "      <td>0.0</td>\n",
       "    </tr>\n",
       "  </tbody>\n",
       "</table>\n",
       "</div>"
      ],
      "text/plain": [
       "  Restaurant_id        City  \\\n",
       "0          id_0       Paris   \n",
       "1          id_1    Helsinki   \n",
       "2          id_2   Edinburgh   \n",
       "3          id_3      London   \n",
       "4          id_4  Bratislava   \n",
       "\n",
       "                                       Cuisine_Style  Ranking Price_Range  \\\n",
       "0                                     ['Bar', 'Pub']  12963.0    $$ - $$$   \n",
       "1  ['European', 'Scandinavian', 'Gluten Free Opti...    106.0    $$ - $$$   \n",
       "2                            ['Vegetarian Friendly']    810.0    $$ - $$$   \n",
       "3  ['Italian', 'Mediterranean', 'European', 'Vege...   1669.0        $$$$   \n",
       "4  ['Italian', 'Mediterranean', 'European', 'Seaf...     37.0        $$$$   \n",
       "\n",
       "   Number_of_Reviews                                            Reviews  \\\n",
       "0                4.0                                           [[], []]   \n",
       "1               97.0  [['Very good reviews!', 'Fine dining in Hakani...   \n",
       "2               28.0  [['Better than the Links', 'Ivy Black'], ['12/...   \n",
       "3              202.0  [['Most exquisite', 'Delicious and authentic']...   \n",
       "4              162.0  [['Always the best in bratislava', 'Very good ...   \n",
       "\n",
       "                                              URL_TA      ID_TA  Sample  \\\n",
       "0  /Restaurant_Review-g187147-d10746918-Reviews-L...  d10746918       0   \n",
       "1  /Restaurant_Review-g189934-d6674944-Reviews-Ra...   d6674944       0   \n",
       "2  /Restaurant_Review-g186525-d13129638-Reviews-B...  d13129638       0   \n",
       "3  /Restaurant_Review-g186338-d680417-Reviews-Qui...    d680417       0   \n",
       "4  /Restaurant_Review-g274924-d1112354-Reviews-Ma...   d1112354       0   \n",
       "\n",
       "   Rating  \n",
       "0     0.0  \n",
       "1     0.0  \n",
       "2     0.0  \n",
       "3     0.0  \n",
       "4     0.0  "
      ]
     },
     "execution_count": 3,
     "metadata": {},
     "output_type": "execute_result"
    }
   ],
   "source": [
    "df_train['Sample'] = 1 # создаем столбец-индикатор, помечаем где у нас тренировочный\n",
    "df_test['Sample'] = 0 # помечаем где у нас тестовый\n",
    "df_test['Rating'] = 0 # в тесте у нас нет значения Rating, мы его должны предсказать, по этому пока просто заполняем нулями\n",
    "\n",
    "df = df_test.append(df_train, sort=False).reset_index(drop=True) # объединяем и переименуем столбцы\n",
    "df.columns = ['Restaurant_id','City','Cuisine_Style','Ranking','Price_Range',\n",
    "              'Number_of_Reviews','Reviews','URL_TA','ID_TA','Sample','Rating']\n",
    "df.head()"
   ]
  },
  {
   "cell_type": "markdown",
   "metadata": {},
   "source": [
    "Посмотрим на описание полученного датасета, какие признаки с пропусками, как и что будем заполнять и чистить"
   ]
  },
  {
   "cell_type": "code",
   "execution_count": 4,
   "metadata": {},
   "outputs": [
    {
     "name": "stdout",
     "output_type": "stream",
     "text": [
      "<class 'pandas.core.frame.DataFrame'>\n",
      "RangeIndex: 50000 entries, 0 to 49999\n",
      "Data columns (total 11 columns):\n",
      " #   Column             Non-Null Count  Dtype  \n",
      "---  ------             --------------  -----  \n",
      " 0   Restaurant_id      50000 non-null  object \n",
      " 1   City               50000 non-null  object \n",
      " 2   Cuisine_Style      38410 non-null  object \n",
      " 3   Ranking            50000 non-null  float64\n",
      " 4   Price_Range        32639 non-null  object \n",
      " 5   Number_of_Reviews  46800 non-null  float64\n",
      " 6   Reviews            49998 non-null  object \n",
      " 7   URL_TA             50000 non-null  object \n",
      " 8   ID_TA              50000 non-null  object \n",
      " 9   Sample             50000 non-null  int64  \n",
      " 10  Rating             50000 non-null  float64\n",
      "dtypes: float64(3), int64(1), object(7)\n",
      "memory usage: 4.2+ MB\n"
     ]
    }
   ],
   "source": [
    "df.info()"
   ]
  },
  {
   "cell_type": "code",
   "execution_count": 5,
   "metadata": {},
   "outputs": [
    {
     "name": "stdout",
     "output_type": "stream",
     "text": [
      "<class 'str'>\n",
      "<class 'str'>\n"
     ]
    },
    {
     "data": {
      "text/plain": [
       "\"[['Good Indian style cooking', 'Nice restaurant'], ['05/06/2017', '05/01/2017']]\""
      ]
     },
     "metadata": {},
     "output_type": "display_data"
    },
    {
     "data": {
      "text/plain": [
       "array(['$$ - $$$', '$$$$', '$', nan], dtype=object)"
      ]
     },
     "execution_count": 5,
     "metadata": {},
     "output_type": "execute_result"
    }
   ],
   "source": [
    "print(type(df.Cuisine_Style[0]))\n",
    "print(type(df.Reviews[0]))\n",
    "display(df.Reviews[4574])\n",
    "df.Price_Range.unique()"
   ]
  },
  {
   "cell_type": "markdown",
   "metadata": {},
   "source": [
    "1. Видим пропуски в столбцах Cuisine_Style, Price_Range, Number_of_Reviews, Reviews\n",
    "2. Видим, что числовыми являются лишь 4 признака, из которых \n",
    "    - Rating - целевая переменная\n",
    "    - Sample - мыы добавили самостоятельно в качестве индикатора - т.е. она не будет участвовать в моделе.\n",
    "3. Столбец Cuisine_Style - тип строковый, но выглядит как-будто список, нужно очищать.\n",
    "4. Столбец Reviews - тип строковый, содержит отзывы и дату, можно вытащить необходимую информацию из данного признака и оцифровать.\n",
    "5. City - это список городов, в которых расположены исследуемые рестораны. Можно сделать dummy-переменную на его основании\n",
    "6. URL_TA - адрес на сайте (не увидел в нем полезности), ID_TA - идентификатор (не увидел в нем полезности), Restaurant_id - идентификатор (не увидел в нем полезности)\n",
    "7. Price_Range - уровень цен ресторана 3 варианта - сделаем категориальный признак.\n",
    "8. Ranking - Место в рейтинге ресторанов города - хороший признак сам по себе.\n",
    "\n",
    "Вывод: Работаем с пропусками, чистим данные, строим новые переменные"
   ]
  },
  {
   "cell_type": "code",
   "execution_count": 6,
   "metadata": {},
   "outputs": [
    {
     "name": "stdout",
     "output_type": "stream",
     "text": [
      "Vegetarian Friendly\n",
      "125\n"
     ]
    }
   ],
   "source": [
    "# Заполним пропуски, почистим и приведем в нужный вид признак с типами кухонь:\n",
    "df.Cuisine_Style.fillna(\"[Unknown]\", inplace = True)\n",
    "df.Cuisine_Style = df.Cuisine_Style.str[1:-1]\n",
    "df.Cuisine_Style = df.Cuisine_Style.str.replace(\"'\",\"\")\n",
    "df.Cuisine_Style = df.Cuisine_Style.str.split(',')\n",
    "\n",
    "df2 = df.explode('Cuisine_Style')\n",
    "df2.Cuisine_Style = df2.Cuisine_Style.str.strip()\n",
    "print(df2.Cuisine_Style.value_counts().index[0]) # Самый популярный вид типа кухонь\n",
    "# Посчитаем количество уникальных типов кухонь. Вычтем 1, которую мы обозначили как \"Unknown\"\n",
    "print(df2.Cuisine_Style.nunique()-1)"
   ]
  },
  {
   "cell_type": "code",
   "execution_count": 7,
   "metadata": {},
   "outputs": [
    {
     "data": {
      "text/plain": [
       "2.62532"
      ]
     },
     "execution_count": 7,
     "metadata": {},
     "output_type": "execute_result"
    }
   ],
   "source": [
    "# Создадим новый признак Len_cuisine_style - он будет содержать сколько типов кухонь  том или ином ресторане\n",
    "df['Len_cuisine_style'] = df.Cuisine_Style.apply(len)\n",
    "df.Len_cuisine_style.mean() # посчитаем среднее"
   ]
  },
  {
   "cell_type": "code",
   "execution_count": 8,
   "metadata": {},
   "outputs": [],
   "source": [
    "# Заполним пропуски в признаке Number_of_Reviews средним значением для каждого города\n",
    "dct_mean_num_rev = round(df.groupby(['City']).Number_of_Reviews.mean(),0).to_dict()\n",
    "df.Number_of_Reviews.fillna(df.City.map(dct_mean_num_rev), inplace = True)"
   ]
  },
  {
   "cell_type": "code",
   "execution_count": 9,
   "metadata": {},
   "outputs": [
    {
     "data": {
      "text/html": [
       "<div>\n",
       "<style scoped>\n",
       "    .dataframe tbody tr th:only-of-type {\n",
       "        vertical-align: middle;\n",
       "    }\n",
       "\n",
       "    .dataframe tbody tr th {\n",
       "        vertical-align: top;\n",
       "    }\n",
       "\n",
       "    .dataframe thead th {\n",
       "        text-align: right;\n",
       "    }\n",
       "</style>\n",
       "<table border=\"1\" class=\"dataframe\">\n",
       "  <thead>\n",
       "    <tr style=\"text-align: right;\">\n",
       "      <th></th>\n",
       "      <th>Price_Category</th>\n",
       "    </tr>\n",
       "    <tr>\n",
       "      <th>City</th>\n",
       "      <th></th>\n",
       "    </tr>\n",
       "  </thead>\n",
       "  <tbody>\n",
       "    <tr>\n",
       "      <th>Amsterdam</th>\n",
       "      <td>2.0</td>\n",
       "    </tr>\n",
       "    <tr>\n",
       "      <th>Athens</th>\n",
       "      <td>2.0</td>\n",
       "    </tr>\n",
       "    <tr>\n",
       "      <th>Barcelona</th>\n",
       "      <td>2.0</td>\n",
       "    </tr>\n",
       "    <tr>\n",
       "      <th>Berlin</th>\n",
       "      <td>2.0</td>\n",
       "    </tr>\n",
       "    <tr>\n",
       "      <th>Bratislava</th>\n",
       "      <td>2.0</td>\n",
       "    </tr>\n",
       "    <tr>\n",
       "      <th>Brussels</th>\n",
       "      <td>2.0</td>\n",
       "    </tr>\n",
       "    <tr>\n",
       "      <th>Budapest</th>\n",
       "      <td>2.0</td>\n",
       "    </tr>\n",
       "    <tr>\n",
       "      <th>Copenhagen</th>\n",
       "      <td>2.0</td>\n",
       "    </tr>\n",
       "    <tr>\n",
       "      <th>Dublin</th>\n",
       "      <td>2.0</td>\n",
       "    </tr>\n",
       "    <tr>\n",
       "      <th>Edinburgh</th>\n",
       "      <td>2.0</td>\n",
       "    </tr>\n",
       "    <tr>\n",
       "      <th>Geneva</th>\n",
       "      <td>2.0</td>\n",
       "    </tr>\n",
       "    <tr>\n",
       "      <th>Hamburg</th>\n",
       "      <td>2.0</td>\n",
       "    </tr>\n",
       "    <tr>\n",
       "      <th>Helsinki</th>\n",
       "      <td>2.0</td>\n",
       "    </tr>\n",
       "    <tr>\n",
       "      <th>Krakow</th>\n",
       "      <td>2.0</td>\n",
       "    </tr>\n",
       "    <tr>\n",
       "      <th>Lisbon</th>\n",
       "      <td>2.0</td>\n",
       "    </tr>\n",
       "    <tr>\n",
       "      <th>Ljubljana</th>\n",
       "      <td>2.0</td>\n",
       "    </tr>\n",
       "    <tr>\n",
       "      <th>London</th>\n",
       "      <td>2.0</td>\n",
       "    </tr>\n",
       "    <tr>\n",
       "      <th>Luxembourg</th>\n",
       "      <td>2.0</td>\n",
       "    </tr>\n",
       "    <tr>\n",
       "      <th>Lyon</th>\n",
       "      <td>2.0</td>\n",
       "    </tr>\n",
       "    <tr>\n",
       "      <th>Madrid</th>\n",
       "      <td>2.0</td>\n",
       "    </tr>\n",
       "    <tr>\n",
       "      <th>Milan</th>\n",
       "      <td>2.0</td>\n",
       "    </tr>\n",
       "    <tr>\n",
       "      <th>Munich</th>\n",
       "      <td>2.0</td>\n",
       "    </tr>\n",
       "    <tr>\n",
       "      <th>Oporto</th>\n",
       "      <td>2.0</td>\n",
       "    </tr>\n",
       "    <tr>\n",
       "      <th>Oslo</th>\n",
       "      <td>2.0</td>\n",
       "    </tr>\n",
       "    <tr>\n",
       "      <th>Paris</th>\n",
       "      <td>2.0</td>\n",
       "    </tr>\n",
       "    <tr>\n",
       "      <th>Prague</th>\n",
       "      <td>2.0</td>\n",
       "    </tr>\n",
       "    <tr>\n",
       "      <th>Rome</th>\n",
       "      <td>2.0</td>\n",
       "    </tr>\n",
       "    <tr>\n",
       "      <th>Stockholm</th>\n",
       "      <td>2.0</td>\n",
       "    </tr>\n",
       "    <tr>\n",
       "      <th>Vienna</th>\n",
       "      <td>2.0</td>\n",
       "    </tr>\n",
       "    <tr>\n",
       "      <th>Warsaw</th>\n",
       "      <td>2.0</td>\n",
       "    </tr>\n",
       "    <tr>\n",
       "      <th>Zurich</th>\n",
       "      <td>2.0</td>\n",
       "    </tr>\n",
       "  </tbody>\n",
       "</table>\n",
       "</div>"
      ],
      "text/plain": [
       "            Price_Category\n",
       "City                      \n",
       "Amsterdam              2.0\n",
       "Athens                 2.0\n",
       "Barcelona              2.0\n",
       "Berlin                 2.0\n",
       "Bratislava             2.0\n",
       "Brussels               2.0\n",
       "Budapest               2.0\n",
       "Copenhagen             2.0\n",
       "Dublin                 2.0\n",
       "Edinburgh              2.0\n",
       "Geneva                 2.0\n",
       "Hamburg                2.0\n",
       "Helsinki               2.0\n",
       "Krakow                 2.0\n",
       "Lisbon                 2.0\n",
       "Ljubljana              2.0\n",
       "London                 2.0\n",
       "Luxembourg             2.0\n",
       "Lyon                   2.0\n",
       "Madrid                 2.0\n",
       "Milan                  2.0\n",
       "Munich                 2.0\n",
       "Oporto                 2.0\n",
       "Oslo                   2.0\n",
       "Paris                  2.0\n",
       "Prague                 2.0\n",
       "Rome                   2.0\n",
       "Stockholm              2.0\n",
       "Vienna                 2.0\n",
       "Warsaw                 2.0\n",
       "Zurich                 2.0"
      ]
     },
     "metadata": {},
     "output_type": "display_data"
    }
   ],
   "source": [
    "# Создадим новый числовой признак на основе категориального признака Price_Range\n",
    "df['Price_Category'] = df.Price_Range.apply(lambda x: 1 if x=='$' else 2 if x=='$$ - $$$' else 3 if x=='$$$$' else x)\n",
    "# Найдем среднее значение Price_Category для каждого города \n",
    "pd_Price_Category = pd.DataFrame(round(df.groupby(['City']).Price_Category.mean(),0))\n",
    "display(pd_Price_Category) # Видим, что в среднем для каждого города показатель = 2\n",
    "df.Price_Category.fillna(2, inplace=True) # Заполним пропуски соответственно\n",
    "df.Price_Range.fillna('$$ - $$$', inplace=True) # Заполним пропуски и в этом признаке"
   ]
  },
  {
   "cell_type": "code",
   "execution_count": 10,
   "metadata": {},
   "outputs": [],
   "source": [
    "#Заполним пропуски в признаке Reviews \n",
    "df.Reviews.fillna('[[], []]',inplace = True)"
   ]
  },
  {
   "cell_type": "code",
   "execution_count": 11,
   "metadata": {
    "scrolled": true
   },
   "outputs": [
    {
     "name": "stdout",
     "output_type": "stream",
     "text": [
      "<class 'pandas.core.frame.DataFrame'>\n",
      "RangeIndex: 50000 entries, 0 to 49999\n",
      "Data columns (total 13 columns):\n",
      " #   Column             Non-Null Count  Dtype  \n",
      "---  ------             --------------  -----  \n",
      " 0   Restaurant_id      50000 non-null  object \n",
      " 1   City               50000 non-null  object \n",
      " 2   Cuisine_Style      50000 non-null  object \n",
      " 3   Ranking            50000 non-null  float64\n",
      " 4   Price_Range        50000 non-null  object \n",
      " 5   Number_of_Reviews  50000 non-null  float64\n",
      " 6   Reviews            50000 non-null  object \n",
      " 7   URL_TA             50000 non-null  object \n",
      " 8   ID_TA              50000 non-null  object \n",
      " 9   Sample             50000 non-null  int64  \n",
      " 10  Rating             50000 non-null  float64\n",
      " 11  Len_cuisine_style  50000 non-null  int64  \n",
      " 12  Price_Category     50000 non-null  float64\n",
      "dtypes: float64(4), int64(2), object(7)\n",
      "memory usage: 5.0+ MB\n"
     ]
    }
   ],
   "source": [
    "df.info()\n",
    "# Пропусков нет"
   ]
  },
  {
   "cell_type": "markdown",
   "metadata": {},
   "source": [
    "Построим матрицу корреляций и посмотрим визуализацию некоторых признаков"
   ]
  },
  {
   "cell_type": "code",
   "execution_count": 12,
   "metadata": {},
   "outputs": [
    {
     "data": {
      "text/html": [
       "<div>\n",
       "<style scoped>\n",
       "    .dataframe tbody tr th:only-of-type {\n",
       "        vertical-align: middle;\n",
       "    }\n",
       "\n",
       "    .dataframe tbody tr th {\n",
       "        vertical-align: top;\n",
       "    }\n",
       "\n",
       "    .dataframe thead th {\n",
       "        text-align: right;\n",
       "    }\n",
       "</style>\n",
       "<table border=\"1\" class=\"dataframe\">\n",
       "  <thead>\n",
       "    <tr style=\"text-align: right;\">\n",
       "      <th></th>\n",
       "      <th>Ranking</th>\n",
       "      <th>Number_of_Reviews</th>\n",
       "      <th>Sample</th>\n",
       "      <th>Rating</th>\n",
       "      <th>Len_cuisine_style</th>\n",
       "      <th>Price_Category</th>\n",
       "    </tr>\n",
       "  </thead>\n",
       "  <tbody>\n",
       "    <tr>\n",
       "      <th>Ranking</th>\n",
       "      <td>1.000000</td>\n",
       "      <td>-0.211920</td>\n",
       "      <td>0.006271</td>\n",
       "      <td>-0.109897</td>\n",
       "      <td>-0.322408</td>\n",
       "      <td>-0.026334</td>\n",
       "    </tr>\n",
       "    <tr>\n",
       "      <th>Number_of_Reviews</th>\n",
       "      <td>-0.211920</td>\n",
       "      <td>1.000000</td>\n",
       "      <td>0.002406</td>\n",
       "      <td>0.011489</td>\n",
       "      <td>0.394180</td>\n",
       "      <td>0.112183</td>\n",
       "    </tr>\n",
       "    <tr>\n",
       "      <th>Sample</th>\n",
       "      <td>0.006271</td>\n",
       "      <td>0.002406</td>\n",
       "      <td>1.000000</td>\n",
       "      <td>0.936543</td>\n",
       "      <td>-0.003202</td>\n",
       "      <td>-0.003419</td>\n",
       "    </tr>\n",
       "    <tr>\n",
       "      <th>Rating</th>\n",
       "      <td>-0.109897</td>\n",
       "      <td>0.011489</td>\n",
       "      <td>0.936543</td>\n",
       "      <td>1.000000</td>\n",
       "      <td>0.034506</td>\n",
       "      <td>-0.012176</td>\n",
       "    </tr>\n",
       "    <tr>\n",
       "      <th>Len_cuisine_style</th>\n",
       "      <td>-0.322408</td>\n",
       "      <td>0.394180</td>\n",
       "      <td>-0.003202</td>\n",
       "      <td>0.034506</td>\n",
       "      <td>1.000000</td>\n",
       "      <td>0.002816</td>\n",
       "    </tr>\n",
       "    <tr>\n",
       "      <th>Price_Category</th>\n",
       "      <td>-0.026334</td>\n",
       "      <td>0.112183</td>\n",
       "      <td>-0.003419</td>\n",
       "      <td>-0.012176</td>\n",
       "      <td>0.002816</td>\n",
       "      <td>1.000000</td>\n",
       "    </tr>\n",
       "  </tbody>\n",
       "</table>\n",
       "</div>"
      ],
      "text/plain": [
       "                    Ranking  Number_of_Reviews    Sample    Rating  \\\n",
       "Ranking            1.000000          -0.211920  0.006271 -0.109897   \n",
       "Number_of_Reviews -0.211920           1.000000  0.002406  0.011489   \n",
       "Sample             0.006271           0.002406  1.000000  0.936543   \n",
       "Rating            -0.109897           0.011489  0.936543  1.000000   \n",
       "Len_cuisine_style -0.322408           0.394180 -0.003202  0.034506   \n",
       "Price_Category    -0.026334           0.112183 -0.003419 -0.012176   \n",
       "\n",
       "                   Len_cuisine_style  Price_Category  \n",
       "Ranking                    -0.322408       -0.026334  \n",
       "Number_of_Reviews           0.394180        0.112183  \n",
       "Sample                     -0.003202       -0.003419  \n",
       "Rating                      0.034506       -0.012176  \n",
       "Len_cuisine_style           1.000000        0.002816  \n",
       "Price_Category              0.002816        1.000000  "
      ]
     },
     "execution_count": 12,
     "metadata": {},
     "output_type": "execute_result"
    }
   ],
   "source": [
    "df.corr()\n",
    "# пока что с рейтингом коррелируется все не очень хорошо\n",
    "# не учитывая Sample (мы ее создали сами для других целей), наиболее всего из таблицы с Rating коррелируется Ranking"
   ]
  },
  {
   "cell_type": "code",
   "execution_count": 13,
   "metadata": {},
   "outputs": [
    {
     "data": {
      "image/png": "[encoded data removed]",
      "text/plain": [
       "<Figure size 720x360 with 1 Axes>"
      ]
     },
     "metadata": {
      "needs_background": "light"
     },
     "output_type": "display_data"
    }
   ],
   "source": [
    "# Гистограмма переменной Ranking \n",
    "df[df.Sample == 1].Ranking.hist(figsize=(10, 5), bins=100)\n",
    "plt.tight_layout()"
   ]
  },
  {
   "cell_type": "code",
   "execution_count": 14,
   "metadata": {},
   "outputs": [
    {
     "name": "stdout",
     "output_type": "stream",
     "text": [
      "1    19906\n",
      "Name: Sample, dtype: int64\n",
      "1    20094\n",
      "Name: Sample, dtype: int64\n"
     ]
    }
   ],
   "source": [
    "print(df[(df.Sample == 1) & (df.Ranking > 2300)].Sample.value_counts())\n",
    "print(df[(df.Sample == 1) & (df.Ranking <= 2300)].Sample.value_counts())"
   ]
  },
  {
   "cell_type": "markdown",
   "metadata": {},
   "source": [
    "Мы видим, что примерно половина ресторанов имеет Ranking <= 2300 и там распределение \"густое\"\n",
    "\n",
    "А другая половина больше и там распределение более размеренное\n",
    "\n",
    "Посмотрим подробнее распределение признака Ranking для ТОП-10 городов по количеству представленных ресторанов"
   ]
  },
  {
   "cell_type": "code",
   "execution_count": 15,
   "metadata": {},
   "outputs": [
    {
     "data": {
      "image/png": "[encoded data removed]",
      "text/plain": [
       "<Figure size 1080x576 with 1 Axes>"
      ]
     },
     "metadata": {
      "needs_background": "light"
     },
     "output_type": "display_data"
    }
   ],
   "source": [
    "for x in (df[df.Sample == 1]['City'].value_counts())[0:10].index:\n",
    "    df[df.Sample == 1].Ranking[df[df.Sample == 1].City == x].hist(figsize=(15, 8),bins=100)\n",
    "plt.show()"
   ]
  },
  {
   "cell_type": "markdown",
   "metadata": {},
   "source": [
    "Примерно видим, что признак распределен нормально для каждого города, только где-то ресторанов больше, где-то меньше по количеству."
   ]
  },
  {
   "cell_type": "markdown",
   "metadata": {},
   "source": [
    "Создадим еще несколько признаков:\n",
    " - Count_Rest_City - количество ресторанов в городе\n",
    " - Population - население в городе\n",
    " - Rest_for_people - сколько человек на 1 ресторан в млн.\n",
    " - Days_Reviews - содержит количество дней, которое отделяет даты публикации отзывов, размещённых на сайте ресторана\n",
    " - Chain - является ресторан сетевым или нет, значения 0 или 1\n",
    " - Vegan - присутствует ли вегетарианская кухня в ресторане, значения 0 или 1\n",
    " - Top_Tourism - входит ли город ТОП-10 самыйх посещяемых городов Европы, согласно Tripadvisor. Значения 0 или 1\n",
    " - Good_rev - поищем \"хорошие\" слова в отзывах и если они есть, то ставим ресторану кол-во встреченных слов, если нет, то 0\n",
    " - 2 dummy-переменные на основе признаков Города (City) и Виды Кухонь (Cuisine_Style)"
   ]
  },
  {
   "cell_type": "code",
   "execution_count": 16,
   "metadata": {},
   "outputs": [],
   "source": [
    "dct_count_city = df.City.value_counts().to_dict() # словарь, собирающий кол-во ресторанов в городе\n",
    "df['Count_Rest_City'] = df.City.map(dct_count_city) # создаем признак"
   ]
  },
  {
   "cell_type": "code",
   "execution_count": 17,
   "metadata": {},
   "outputs": [],
   "source": [
    "# словарь из количества жителей в каждом городе\n",
    "dct_population = {'London': 8.173900,\n",
    "    'Paris': 2.240621,\n",
    "    'Madrid': 3.155360,\n",
    "    'Barcelona': 1.593075,\n",
    "    'Berlin': 3.326002,\n",
    "    'Milan': 1.331586,\n",
    "    'Rome': 2.870493,\n",
    "    'Prague': 1.272690,\n",
    "    'Lisbon': .547733,\n",
    "    'Vienna': 1.765649,\n",
    "    'Amsterdam': .825080,\n",
    "    'Brussels': .144784,\n",
    "    'Hamburg': 1.718187,\n",
    "    'Munich': 1.364920,\n",
    "    'Lyon': .496343,\n",
    "    'Stockholm': 1.981263,\n",
    "    'Budapest': 1.744665,\n",
    "    'Warsaw': 1.720398,\n",
    "    'Dublin': .506211 ,\n",
    "    'Copenhagen': 1.246611,\n",
    "    'Athens': 3.168846,\n",
    "    'Edinburgh': .476100,\n",
    "    'Zurich': .402275,\n",
    "    'Oporto': .221800,\n",
    "    'Geneva': .196150,\n",
    "    'Krakow': .756183,\n",
    "    'Oslo': .673469,\n",
    "    'Helsinki': .574579,\n",
    "    'Bratislava': .413192,\n",
    "    'Luxembourg': .576249,\n",
    "    'Ljubljana': .277554\n",
    "    }\n",
    "df['Population'] = df.City.map(dct_population) # признак на основе словаря"
   ]
  },
  {
   "cell_type": "code",
   "execution_count": 18,
   "metadata": {},
   "outputs": [],
   "source": [
    "# сколько человек на 1 ресторан в млн\n",
    "df['Rest_for_people'] = df.Population/df.Count_Rest_City"
   ]
  },
  {
   "cell_type": "code",
   "execution_count": 19,
   "metadata": {},
   "outputs": [],
   "source": [
    "# Как часто в городе оставляют отзывы\n",
    "df['NR_P'] = df['Number_of_Reviews'] / df['Population']"
   ]
  },
  {
   "cell_type": "code",
   "execution_count": 20,
   "metadata": {},
   "outputs": [],
   "source": [
    "df3 = df.copy()\n",
    "# с помощью модуля re найдем даты в признаке Reviews и заполним этими датами новый временный признак Date \n",
    "pattern = re.compile('\\d\\d\\W\\d\\d\\W\\d\\d\\d\\d')\n",
    "df3['Date'] = df.Reviews.apply(pattern.findall)\n",
    "#df3.Date[2698].pop(0) # путем долгих поисков и ступора... находим ошибку в одной записи с датами и удаляем лишний элемент\n",
    "\n",
    "# Как таковых пропусков в данном признаке не увидел \n",
    "# Но т.к. каждое значение это список, есть пустые списки или неполные, которые меня не устраивают\n",
    "# Сделаем так, чтобы в каждой строке этого признака было 2 даты\n",
    "for i in range(len(df3.Date)):\n",
    "    if df3.Date[i] == []:\n",
    "        df3.Date[i].append('21/04/2004')# Заполним эти пустые списки дат на самую старую дату, встречающущюся в датафрейме.\n",
    "        df3.Date[i].append('21/04/2004')# Таких дат должно быть 2 в списке, при чем одинаковых, чтоб разница в днях потом была \"0\".\n",
    "    elif len(df3.Date[i]) == 1:\n",
    "        df3.Date[i].append(df3.Date[i][0]) # Если было только 1 значение даты (т.е. всего 1 комментарий) дополним его такой же датой\n",
    "df3 = df3.explode('Date')\n",
    "df3.Date = pd.to_datetime(df3.Date) # Меняем тип данных этого признака\n",
    "df3.reset_index(drop = True, inplace = True)\n",
    "\n",
    "# Создадим список, который будет хранить разницу в днях между первым и последним комментарием в этом ресторане.\n",
    "lst_delta = []\n",
    "for i in range(0,len(df3)-1,2):\n",
    "    d0 = df3.Date[i]\n",
    "    d1 = df3.Date[i+1]\n",
    "    delta = abs(d0 - d1)\n",
    "    lst_delta.append(delta.days)\n",
    "\n",
    "# На основе списка добавим новый признак в исходный датафрейм:\n",
    "df['Days_Reviews'] = lst_delta"
   ]
  },
  {
   "cell_type": "code",
   "execution_count": 21,
   "metadata": {},
   "outputs": [
    {
     "name": "stderr",
     "output_type": "stream",
     "text": [
      "<ipython-input-21-105746268443>:15: SettingWithCopyWarning: \n",
      "A value is trying to be set on a copy of a slice from a DataFrame\n",
      "\n",
      "See the caveats in the documentation: https://pandas.pydata.org/pandas-docs/stable/user_guide/indexing.html#returning-a-view-versus-a-copy\n",
      "  df['Chain'][i] = 1\n",
      "<ipython-input-21-105746268443>:13: SettingWithCopyWarning: \n",
      "A value is trying to be set on a copy of a slice from a DataFrame\n",
      "\n",
      "See the caveats in the documentation: https://pandas.pydata.org/pandas-docs/stable/user_guide/indexing.html#returning-a-view-versus-a-copy\n",
      "  df['Chain'][i] = 0\n"
     ]
    }
   ],
   "source": [
    "# Создадим список id ресторанов, которые встречаются только 1 раз - предполагаем, что он не сетевой\n",
    "count_rest = pd.DataFrame(df.Restaurant_id.value_counts())\n",
    "count_rest_id = count_rest[count_rest.Restaurant_id == 1]\n",
    "lst_count_id = count_rest_id.index.to_list()\n",
    "\n",
    "df['Chain'] = [i for i in range(len(df))] # создаем столбец\n",
    "\n",
    "# Заполним столбец значениями 0 и 1.  \n",
    "# 0 - там, где значение id ресторана попдает в список, созданный выше\n",
    "# Остальные значения 1, т.е. рестораны сетевые\n",
    "for i in range(len(df)):\n",
    "    if df.Restaurant_id[i] in lst_count_id:\n",
    "        df['Chain'][i] = 0\n",
    "    else:\n",
    "        df['Chain'][i] = 1"
   ]
  },
  {
   "cell_type": "code",
   "execution_count": 22,
   "metadata": {},
   "outputs": [
    {
     "name": "stderr",
     "output_type": "stream",
     "text": [
      "<ipython-input-22-f174ae76765a>:7: SettingWithCopyWarning: \n",
      "A value is trying to be set on a copy of a slice from a DataFrame\n",
      "\n",
      "See the caveats in the documentation: https://pandas.pydata.org/pandas-docs/stable/user_guide/indexing.html#returning-a-view-versus-a-copy\n",
      "  df['Vegan'][i] = 0\n",
      "<ipython-input-22-f174ae76765a>:5: SettingWithCopyWarning: \n",
      "A value is trying to be set on a copy of a slice from a DataFrame\n",
      "\n",
      "See the caveats in the documentation: https://pandas.pydata.org/pandas-docs/stable/user_guide/indexing.html#returning-a-view-versus-a-copy\n",
      "  df['Vegan'][i] = 1\n"
     ]
    }
   ],
   "source": [
    "# Создадим признак Vegan, который делит все заведения на вегетарианские и нет.\n",
    "df['Vegan'] = [i for i in range(len(df))] # создаем столбец\n",
    "for i in range(len(df)):\n",
    "    if ' Vegetarian Friendly' in df.Cuisine_Style[i] or ' Vegan Options' in df.Cuisine_Style[i]:\n",
    "        df['Vegan'][i] = 1\n",
    "    else:\n",
    "        df['Vegan'][i] = 0"
   ]
  },
  {
   "cell_type": "code",
   "execution_count": 23,
   "metadata": {
    "scrolled": true
   },
   "outputs": [
    {
     "name": "stderr",
     "output_type": "stream",
     "text": [
      "<ipython-input-23-25d29a7c2e38>:10: SettingWithCopyWarning: \n",
      "A value is trying to be set on a copy of a slice from a DataFrame\n",
      "\n",
      "See the caveats in the documentation: https://pandas.pydata.org/pandas-docs/stable/user_guide/indexing.html#returning-a-view-versus-a-copy\n",
      "  df.Top_Tourism[i] = 1\n",
      "<ipython-input-23-25d29a7c2e38>:12: SettingWithCopyWarning: \n",
      "A value is trying to be set on a copy of a slice from a DataFrame\n",
      "\n",
      "See the caveats in the documentation: https://pandas.pydata.org/pandas-docs/stable/user_guide/indexing.html#returning-a-view-versus-a-copy\n",
      "  df.Top_Tourism[i] = 0\n"
     ]
    }
   ],
   "source": [
    "# Создадим признак Top_Tourism, который показывает входит или нет тот или иной город в ТОП-10 туристических городов Европы.\n",
    "# Список таких городов lst_top_tourism:\n",
    "lst_top_tourism = ['Paris', 'London', 'Rome', 'Barcelona', 'Lisbon', \n",
    "                   'Edinburgh', 'Amsterdam', 'Madrid', 'Prague', 'Budapest']\n",
    "\n",
    "#Заполним признак 1, если попадаем в список и 0, если не входит\n",
    "df['Top_Tourism'] = [i for i in range(len(df))]\n",
    "for i in range(len(df)):\n",
    "    if df.City[i] in lst_top_tourism:\n",
    "        df.Top_Tourism[i] = 1\n",
    "    else:\n",
    "        df.Top_Tourism[i] = 0"
   ]
  },
  {
   "cell_type": "code",
   "execution_count": 24,
   "metadata": {},
   "outputs": [
    {
     "data": {
      "text/plain": [
       "1    30362\n",
       "0    19638\n",
       "Name: Good_rev, dtype: int64"
      ]
     },
     "execution_count": 24,
     "metadata": {},
     "output_type": "execute_result"
    }
   ],
   "source": [
    "# Опишем функцию, которая по заданному списку будет искать слова в строках и возвращать 1 или 0. \n",
    "# 1 если есть такие слова (хотя бы одно) или 0 - если нет\n",
    "def find_good_words(s):\n",
    "    good_words = ['good', 'yummy', 'fine', 'great', 'tasty', \n",
    "                  'satisfaction', 'amazing', 'nice', 'best', \n",
    "                  'friendly', 'pleasant', 'exellent', 'loved', \n",
    "                  'love', 'lovely', 'welcoming', 'wonderful', \n",
    "                  'perfect', 'delicious', 'favourite', 'sweet',\n",
    "                  'yum', 'adequate', 'happy', 'beautiful', 'liked', 'like']\n",
    "    count = 0\n",
    "    for item in good_words:\n",
    "        if item in s:\n",
    "            count += 1\n",
    "    if count >= 1:\n",
    "        result = 1\n",
    "    else:\n",
    "        result = 0\n",
    "    return(result)\n",
    "df['Good_rev'] = df.Reviews.str.lower().apply(find_good_words) # применим описанную функцию для создания нового признака\n",
    "df['Good_rev'].value_counts()"
   ]
  },
  {
   "cell_type": "markdown",
   "metadata": {},
   "source": [
    "До создания dummy-переменных посмотрим на матрицу корреляций для наших признаков "
   ]
  },
  {
   "cell_type": "code",
   "execution_count": 25,
   "metadata": {},
   "outputs": [
    {
     "data": {
      "text/html": [
       "<div>\n",
       "<style scoped>\n",
       "    .dataframe tbody tr th:only-of-type {\n",
       "        vertical-align: middle;\n",
       "    }\n",
       "\n",
       "    .dataframe tbody tr th {\n",
       "        vertical-align: top;\n",
       "    }\n",
       "\n",
       "    .dataframe thead th {\n",
       "        text-align: right;\n",
       "    }\n",
       "</style>\n",
       "<table border=\"1\" class=\"dataframe\">\n",
       "  <thead>\n",
       "    <tr style=\"text-align: right;\">\n",
       "      <th></th>\n",
       "      <th>Ranking</th>\n",
       "      <th>Number_of_Reviews</th>\n",
       "      <th>Sample</th>\n",
       "      <th>Rating</th>\n",
       "      <th>Len_cuisine_style</th>\n",
       "      <th>Price_Category</th>\n",
       "      <th>Count_Rest_City</th>\n",
       "      <th>Population</th>\n",
       "      <th>Rest_for_people</th>\n",
       "      <th>NR_P</th>\n",
       "      <th>Days_Reviews</th>\n",
       "      <th>Chain</th>\n",
       "      <th>Vegan</th>\n",
       "      <th>Top_Tourism</th>\n",
       "      <th>Good_rev</th>\n",
       "    </tr>\n",
       "  </thead>\n",
       "  <tbody>\n",
       "    <tr>\n",
       "      <th>Ranking</th>\n",
       "      <td>1.000000</td>\n",
       "      <td>-0.211920</td>\n",
       "      <td>0.006271</td>\n",
       "      <td>-0.109897</td>\n",
       "      <td>-0.322408</td>\n",
       "      <td>-0.026334</td>\n",
       "      <td>0.709012</td>\n",
       "      <td>0.566242</td>\n",
       "      <td>-0.136359</td>\n",
       "      <td>-0.183734</td>\n",
       "      <td>0.046817</td>\n",
       "      <td>-0.502592</td>\n",
       "      <td>-0.298465</td>\n",
       "      <td>0.449784</td>\n",
       "      <td>-0.157483</td>\n",
       "    </tr>\n",
       "    <tr>\n",
       "      <th>Number_of_Reviews</th>\n",
       "      <td>-0.211920</td>\n",
       "      <td>1.000000</td>\n",
       "      <td>0.002406</td>\n",
       "      <td>0.011489</td>\n",
       "      <td>0.394180</td>\n",
       "      <td>0.112183</td>\n",
       "      <td>0.026593</td>\n",
       "      <td>0.023097</td>\n",
       "      <td>-0.026054</td>\n",
       "      <td>0.552221</td>\n",
       "      <td>-0.055327</td>\n",
       "      <td>0.059105</td>\n",
       "      <td>0.358277</td>\n",
       "      <td>0.086186</td>\n",
       "      <td>0.114226</td>\n",
       "    </tr>\n",
       "    <tr>\n",
       "      <th>Sample</th>\n",
       "      <td>0.006271</td>\n",
       "      <td>0.002406</td>\n",
       "      <td>1.000000</td>\n",
       "      <td>0.936543</td>\n",
       "      <td>-0.003202</td>\n",
       "      <td>-0.003419</td>\n",
       "      <td>0.004595</td>\n",
       "      <td>0.003181</td>\n",
       "      <td>-0.000018</td>\n",
       "      <td>-0.003747</td>\n",
       "      <td>0.293595</td>\n",
       "      <td>0.079858</td>\n",
       "      <td>-0.002079</td>\n",
       "      <td>0.005681</td>\n",
       "      <td>0.000860</td>\n",
       "    </tr>\n",
       "    <tr>\n",
       "      <th>Rating</th>\n",
       "      <td>-0.109897</td>\n",
       "      <td>0.011489</td>\n",
       "      <td>0.936543</td>\n",
       "      <td>1.000000</td>\n",
       "      <td>0.034506</td>\n",
       "      <td>-0.012176</td>\n",
       "      <td>-0.014779</td>\n",
       "      <td>-0.003682</td>\n",
       "      <td>0.018858</td>\n",
       "      <td>0.002867</td>\n",
       "      <td>0.270277</td>\n",
       "      <td>0.150831</td>\n",
       "      <td>0.037951</td>\n",
       "      <td>-0.000546</td>\n",
       "      <td>0.041740</td>\n",
       "    </tr>\n",
       "    <tr>\n",
       "      <th>Len_cuisine_style</th>\n",
       "      <td>-0.322408</td>\n",
       "      <td>0.394180</td>\n",
       "      <td>-0.003202</td>\n",
       "      <td>0.034506</td>\n",
       "      <td>1.000000</td>\n",
       "      <td>0.002816</td>\n",
       "      <td>-0.024105</td>\n",
       "      <td>0.043610</td>\n",
       "      <td>0.043177</td>\n",
       "      <td>0.234117</td>\n",
       "      <td>-0.127197</td>\n",
       "      <td>0.092590</td>\n",
       "      <td>0.709128</td>\n",
       "      <td>0.047215</td>\n",
       "      <td>0.252116</td>\n",
       "    </tr>\n",
       "    <tr>\n",
       "      <th>Price_Category</th>\n",
       "      <td>-0.026334</td>\n",
       "      <td>0.112183</td>\n",
       "      <td>-0.003419</td>\n",
       "      <td>-0.012176</td>\n",
       "      <td>0.002816</td>\n",
       "      <td>1.000000</td>\n",
       "      <td>0.004841</td>\n",
       "      <td>-0.017237</td>\n",
       "      <td>-0.016404</td>\n",
       "      <td>0.059067</td>\n",
       "      <td>0.030659</td>\n",
       "      <td>0.005652</td>\n",
       "      <td>0.019982</td>\n",
       "      <td>-0.032869</td>\n",
       "      <td>-0.060082</td>\n",
       "    </tr>\n",
       "    <tr>\n",
       "      <th>Count_Rest_City</th>\n",
       "      <td>0.709012</td>\n",
       "      <td>0.026593</td>\n",
       "      <td>0.004595</td>\n",
       "      <td>-0.014779</td>\n",
       "      <td>-0.024105</td>\n",
       "      <td>0.004841</td>\n",
       "      <td>1.000000</td>\n",
       "      <td>0.797000</td>\n",
       "      <td>-0.193220</td>\n",
       "      <td>-0.150511</td>\n",
       "      <td>-0.028285</td>\n",
       "      <td>-0.309556</td>\n",
       "      <td>0.032135</td>\n",
       "      <td>0.637933</td>\n",
       "      <td>0.020040</td>\n",
       "    </tr>\n",
       "    <tr>\n",
       "      <th>Population</th>\n",
       "      <td>0.566242</td>\n",
       "      <td>0.023097</td>\n",
       "      <td>0.003181</td>\n",
       "      <td>-0.003682</td>\n",
       "      <td>0.043610</td>\n",
       "      <td>-0.017237</td>\n",
       "      <td>0.797000</td>\n",
       "      <td>1.000000</td>\n",
       "      <td>0.257452</td>\n",
       "      <td>-0.163241</td>\n",
       "      <td>-0.056526</td>\n",
       "      <td>-0.287099</td>\n",
       "      <td>0.087469</td>\n",
       "      <td>0.417555</td>\n",
       "      <td>0.056801</td>\n",
       "    </tr>\n",
       "    <tr>\n",
       "      <th>Rest_for_people</th>\n",
       "      <td>-0.136359</td>\n",
       "      <td>-0.026054</td>\n",
       "      <td>-0.000018</td>\n",
       "      <td>0.018858</td>\n",
       "      <td>0.043177</td>\n",
       "      <td>-0.016404</td>\n",
       "      <td>-0.193220</td>\n",
       "      <td>0.257452</td>\n",
       "      <td>1.000000</td>\n",
       "      <td>-0.121948</td>\n",
       "      <td>-0.032878</td>\n",
       "      <td>0.011778</td>\n",
       "      <td>0.040465</td>\n",
       "      <td>-0.289673</td>\n",
       "      <td>0.044543</td>\n",
       "    </tr>\n",
       "    <tr>\n",
       "      <th>NR_P</th>\n",
       "      <td>-0.183734</td>\n",
       "      <td>0.552221</td>\n",
       "      <td>-0.003747</td>\n",
       "      <td>0.002867</td>\n",
       "      <td>0.234117</td>\n",
       "      <td>0.059067</td>\n",
       "      <td>-0.150511</td>\n",
       "      <td>-0.163241</td>\n",
       "      <td>-0.121948</td>\n",
       "      <td>1.000000</td>\n",
       "      <td>-0.032658</td>\n",
       "      <td>0.045403</td>\n",
       "      <td>0.188024</td>\n",
       "      <td>-0.083868</td>\n",
       "      <td>0.065568</td>\n",
       "    </tr>\n",
       "    <tr>\n",
       "      <th>Days_Reviews</th>\n",
       "      <td>0.046817</td>\n",
       "      <td>-0.055327</td>\n",
       "      <td>0.293595</td>\n",
       "      <td>0.270277</td>\n",
       "      <td>-0.127197</td>\n",
       "      <td>0.030659</td>\n",
       "      <td>-0.028285</td>\n",
       "      <td>-0.056526</td>\n",
       "      <td>-0.032878</td>\n",
       "      <td>-0.032658</td>\n",
       "      <td>1.000000</td>\n",
       "      <td>0.043505</td>\n",
       "      <td>-0.112860</td>\n",
       "      <td>-0.020188</td>\n",
       "      <td>-0.230346</td>\n",
       "    </tr>\n",
       "    <tr>\n",
       "      <th>Chain</th>\n",
       "      <td>-0.502592</td>\n",
       "      <td>0.059105</td>\n",
       "      <td>0.079858</td>\n",
       "      <td>0.150831</td>\n",
       "      <td>0.092590</td>\n",
       "      <td>0.005652</td>\n",
       "      <td>-0.309556</td>\n",
       "      <td>-0.287099</td>\n",
       "      <td>0.011778</td>\n",
       "      <td>0.045403</td>\n",
       "      <td>0.043505</td>\n",
       "      <td>1.000000</td>\n",
       "      <td>0.094429</td>\n",
       "      <td>-0.168098</td>\n",
       "      <td>0.042272</td>\n",
       "    </tr>\n",
       "    <tr>\n",
       "      <th>Vegan</th>\n",
       "      <td>-0.298465</td>\n",
       "      <td>0.358277</td>\n",
       "      <td>-0.002079</td>\n",
       "      <td>0.037951</td>\n",
       "      <td>0.709128</td>\n",
       "      <td>0.019982</td>\n",
       "      <td>0.032135</td>\n",
       "      <td>0.087469</td>\n",
       "      <td>0.040465</td>\n",
       "      <td>0.188024</td>\n",
       "      <td>-0.112860</td>\n",
       "      <td>0.094429</td>\n",
       "      <td>1.000000</td>\n",
       "      <td>0.035694</td>\n",
       "      <td>0.241657</td>\n",
       "    </tr>\n",
       "    <tr>\n",
       "      <th>Top_Tourism</th>\n",
       "      <td>0.449784</td>\n",
       "      <td>0.086186</td>\n",
       "      <td>0.005681</td>\n",
       "      <td>-0.000546</td>\n",
       "      <td>0.047215</td>\n",
       "      <td>-0.032869</td>\n",
       "      <td>0.637933</td>\n",
       "      <td>0.417555</td>\n",
       "      <td>-0.289673</td>\n",
       "      <td>-0.083868</td>\n",
       "      <td>-0.020188</td>\n",
       "      <td>-0.168098</td>\n",
       "      <td>0.035694</td>\n",
       "      <td>1.000000</td>\n",
       "      <td>0.019729</td>\n",
       "    </tr>\n",
       "    <tr>\n",
       "      <th>Good_rev</th>\n",
       "      <td>-0.157483</td>\n",
       "      <td>0.114226</td>\n",
       "      <td>0.000860</td>\n",
       "      <td>0.041740</td>\n",
       "      <td>0.252116</td>\n",
       "      <td>-0.060082</td>\n",
       "      <td>0.020040</td>\n",
       "      <td>0.056801</td>\n",
       "      <td>0.044543</td>\n",
       "      <td>0.065568</td>\n",
       "      <td>-0.230346</td>\n",
       "      <td>0.042272</td>\n",
       "      <td>0.241657</td>\n",
       "      <td>0.019729</td>\n",
       "      <td>1.000000</td>\n",
       "    </tr>\n",
       "  </tbody>\n",
       "</table>\n",
       "</div>"
      ],
      "text/plain": [
       "                    Ranking  Number_of_Reviews    Sample    Rating  \\\n",
       "Ranking            1.000000          -0.211920  0.006271 -0.109897   \n",
       "Number_of_Reviews -0.211920           1.000000  0.002406  0.011489   \n",
       "Sample             0.006271           0.002406  1.000000  0.936543   \n",
       "Rating            -0.109897           0.011489  0.936543  1.000000   \n",
       "Len_cuisine_style -0.322408           0.394180 -0.003202  0.034506   \n",
       "Price_Category    -0.026334           0.112183 -0.003419 -0.012176   \n",
       "Count_Rest_City    0.709012           0.026593  0.004595 -0.014779   \n",
       "Population         0.566242           0.023097  0.003181 -0.003682   \n",
       "Rest_for_people   -0.136359          -0.026054 -0.000018  0.018858   \n",
       "NR_P              -0.183734           0.552221 -0.003747  0.002867   \n",
       "Days_Reviews       0.046817          -0.055327  0.293595  0.270277   \n",
       "Chain             -0.502592           0.059105  0.079858  0.150831   \n",
       "Vegan             -0.298465           0.358277 -0.002079  0.037951   \n",
       "Top_Tourism        0.449784           0.086186  0.005681 -0.000546   \n",
       "Good_rev          -0.157483           0.114226  0.000860  0.041740   \n",
       "\n",
       "                   Len_cuisine_style  Price_Category  Count_Rest_City  \\\n",
       "Ranking                    -0.322408       -0.026334         0.709012   \n",
       "Number_of_Reviews           0.394180        0.112183         0.026593   \n",
       "Sample                     -0.003202       -0.003419         0.004595   \n",
       "Rating                      0.034506       -0.012176        -0.014779   \n",
       "Len_cuisine_style           1.000000        0.002816        -0.024105   \n",
       "Price_Category              0.002816        1.000000         0.004841   \n",
       "Count_Rest_City            -0.024105        0.004841         1.000000   \n",
       "Population                  0.043610       -0.017237         0.797000   \n",
       "Rest_for_people             0.043177       -0.016404        -0.193220   \n",
       "NR_P                        0.234117        0.059067        -0.150511   \n",
       "Days_Reviews               -0.127197        0.030659        -0.028285   \n",
       "Chain                       0.092590        0.005652        -0.309556   \n",
       "Vegan                       0.709128        0.019982         0.032135   \n",
       "Top_Tourism                 0.047215       -0.032869         0.637933   \n",
       "Good_rev                    0.252116       -0.060082         0.020040   \n",
       "\n",
       "                   Population  Rest_for_people      NR_P  Days_Reviews  \\\n",
       "Ranking              0.566242        -0.136359 -0.183734      0.046817   \n",
       "Number_of_Reviews    0.023097        -0.026054  0.552221     -0.055327   \n",
       "Sample               0.003181        -0.000018 -0.003747      0.293595   \n",
       "Rating              -0.003682         0.018858  0.002867      0.270277   \n",
       "Len_cuisine_style    0.043610         0.043177  0.234117     -0.127197   \n",
       "Price_Category      -0.017237        -0.016404  0.059067      0.030659   \n",
       "Count_Rest_City      0.797000        -0.193220 -0.150511     -0.028285   \n",
       "Population           1.000000         0.257452 -0.163241     -0.056526   \n",
       "Rest_for_people      0.257452         1.000000 -0.121948     -0.032878   \n",
       "NR_P                -0.163241        -0.121948  1.000000     -0.032658   \n",
       "Days_Reviews        -0.056526        -0.032878 -0.032658      1.000000   \n",
       "Chain               -0.287099         0.011778  0.045403      0.043505   \n",
       "Vegan                0.087469         0.040465  0.188024     -0.112860   \n",
       "Top_Tourism          0.417555        -0.289673 -0.083868     -0.020188   \n",
       "Good_rev             0.056801         0.044543  0.065568     -0.230346   \n",
       "\n",
       "                      Chain     Vegan  Top_Tourism  Good_rev  \n",
       "Ranking           -0.502592 -0.298465     0.449784 -0.157483  \n",
       "Number_of_Reviews  0.059105  0.358277     0.086186  0.114226  \n",
       "Sample             0.079858 -0.002079     0.005681  0.000860  \n",
       "Rating             0.150831  0.037951    -0.000546  0.041740  \n",
       "Len_cuisine_style  0.092590  0.709128     0.047215  0.252116  \n",
       "Price_Category     0.005652  0.019982    -0.032869 -0.060082  \n",
       "Count_Rest_City   -0.309556  0.032135     0.637933  0.020040  \n",
       "Population        -0.287099  0.087469     0.417555  0.056801  \n",
       "Rest_for_people    0.011778  0.040465    -0.289673  0.044543  \n",
       "NR_P               0.045403  0.188024    -0.083868  0.065568  \n",
       "Days_Reviews       0.043505 -0.112860    -0.020188 -0.230346  \n",
       "Chain              1.000000  0.094429    -0.168098  0.042272  \n",
       "Vegan              0.094429  1.000000     0.035694  0.241657  \n",
       "Top_Tourism       -0.168098  0.035694     1.000000  0.019729  \n",
       "Good_rev           0.042272  0.241657     0.019729  1.000000  "
      ]
     },
     "execution_count": 25,
     "metadata": {},
     "output_type": "execute_result"
    }
   ],
   "source": [
    "df.corr()"
   ]
  },
  {
   "cell_type": "code",
   "execution_count": 26,
   "metadata": {},
   "outputs": [
    {
     "data": {
      "image/png": "[encoded data removed]",
      "text/plain": [
       "<Figure size 720x720 with 2 Axes>"
      ]
     },
     "metadata": {
      "needs_background": "light"
     },
     "output_type": "display_data"
    }
   ],
   "source": [
    "plt.rcParams['figure.figsize'] = (10,10)\n",
    "sns.heatmap(df[df.Sample == 1].drop(['Sample'], axis=1).corr(), square=True,\n",
    "            annot=True, fmt=\".1f\", linewidths=0.1, cmap=\"RdBu\");\n",
    "plt.tight_layout()"
   ]
  },
  {
   "cell_type": "markdown",
   "metadata": {},
   "source": [
    "С рейтингом хоть как-то коррелируется Ranking и Chain - показатель сетевой ли ресторан или нет.\n",
    "Остальные не особо.\n",
    "\n",
    "Но можем заметить, что некоторые признаки скоррелированы достаточно неплохо. Плюс, скорее все, есть опосредованная корреляция\n"
   ]
  },
  {
   "cell_type": "code",
   "execution_count": 27,
   "metadata": {},
   "outputs": [],
   "source": [
    "# Создадим dummy-переменную на основе переменной City\n",
    "df_city = df.copy()\n",
    "df_city_dummy = pd.get_dummies(df_city.City, drop_first=True)\n",
    "df = pd.concat([df, df_city_dummy],axis=1) # добавим полученный датафрейм в наш основной"
   ]
  },
  {
   "cell_type": "code",
   "execution_count": 28,
   "metadata": {},
   "outputs": [],
   "source": [
    "# Создадим dummy-переменную на основе переменной Cuisine_Style\n",
    "mlb = MultiLabelBinarizer()\n",
    "data_Cuisine_Style_MLB = pd.DataFrame(mlb.fit_transform(df[\"Cuisine_Style\"]), columns=mlb.classes_)\n",
    "df = df.join(data_Cuisine_Style_MLB)"
   ]
  },
  {
   "cell_type": "code",
   "execution_count": 29,
   "metadata": {},
   "outputs": [],
   "source": [
    "dff = df.copy()\n",
    "\n",
    "#Создадим список названий нечисловых столбцов\n",
    "\n",
    "dff_non_num = dff.select_dtypes(exclude=[np.number])\n",
    "non_num_cols = dff_non_num.columns.values\n",
    "\n",
    "dff.drop(labels = non_num_cols, axis = 1, inplace = True)\n",
    "#dff.head()"
   ]
  },
  {
   "cell_type": "code",
   "execution_count": 30,
   "metadata": {},
   "outputs": [],
   "source": [
    "# Разделим датасет к изначальному виду: тренировочный и тестовый\n",
    "train_data = dff.query('Sample == 1').drop(['Sample'], axis=1)\n",
    "test_data = dff.query('Sample == 0').drop(['Sample'], axis=1)"
   ]
  },
  {
   "cell_type": "markdown",
   "metadata": {},
   "source": [
    "# Разбиваем датафрейм на части, необходимые для обучения и тестирования модели"
   ]
  },
  {
   "cell_type": "code",
   "execution_count": 31,
   "metadata": {},
   "outputs": [],
   "source": [
    "# Х - данные с информацией о ресторанах, у - целевая переменная (рейтинги ресторанов)\n",
    "y = train_data.Rating.values\n",
    "X = train_data.drop(['Rating'], axis=1)"
   ]
  },
  {
   "cell_type": "code",
   "execution_count": 32,
   "metadata": {},
   "outputs": [],
   "source": [
    "# Загружаем специальный инструмент для разбивки:\n",
    "from sklearn.model_selection import train_test_split"
   ]
  },
  {
   "cell_type": "code",
   "execution_count": 33,
   "metadata": {},
   "outputs": [],
   "source": [
    "# Наборы данных с меткой \"train\" будут использоваться для обучения модели, \"test\" - для тестирования.\n",
    "# Для тестирования мы будем использовать 25% от исходного датасета.\n",
    "X_train, X_test, y_train, y_test = train_test_split(X, y, test_size=0.25)"
   ]
  },
  {
   "cell_type": "markdown",
   "metadata": {},
   "source": [
    "# Создаём, обучаем и тестируем модель"
   ]
  },
  {
   "cell_type": "code",
   "execution_count": 34,
   "metadata": {},
   "outputs": [],
   "source": [
    "# Импортируем необходимые библиотеки:\n",
    "from sklearn.ensemble import RandomForestRegressor # инструмент для создания и обучения модели\n",
    "from sklearn import metrics # инструменты для оценки точности модели"
   ]
  },
  {
   "cell_type": "code",
   "execution_count": 35,
   "metadata": {},
   "outputs": [],
   "source": [
    "# Создаём модель\n",
    "regr = RandomForestRegressor(n_estimators=100)\n",
    "\n",
    "# Обучаем модель на тестовом наборе данных\n",
    "regr.fit(X_train, y_train)\n",
    "\n",
    "# Используем обученную модель для предсказания рейтинга ресторанов в тестовой выборке.\n",
    "# Предсказанные значения записываем в переменную y_pred\n",
    "y_pred = regr.predict(X_test)\n",
    "y_pred = np.round(y_pred * 2) / 2"
   ]
  },
  {
   "cell_type": "code",
   "execution_count": 36,
   "metadata": {},
   "outputs": [
    {
     "name": "stdout",
     "output_type": "stream",
     "text": [
      "MAE: 0.1818\n"
     ]
    }
   ],
   "source": [
    "# Сравниваем предсказанные значения (y_pred) с реальными (y_test), и смотрим насколько они в среднем отличаются\n",
    "# Метрика называется Mean Absolute Error (MAE) и показывает среднее отклонение предсказанных значений от фактических.\n",
    "print('MAE:', metrics.mean_absolute_error(y_test, y_pred))"
   ]
  },
  {
   "cell_type": "code",
   "execution_count": 37,
   "metadata": {},
   "outputs": [
    {
     "data": {
      "text/plain": [
       "<AxesSubplot:>"
      ]
     },
     "execution_count": 37,
     "metadata": {},
     "output_type": "execute_result"
    },
    {
     "data": {
      "image/png": "[encoded data removed]",
      "text/plain": [
       "<Figure size 720x720 with 1 Axes>"
      ]
     },
     "metadata": {
      "needs_background": "light"
     },
     "output_type": "display_data"
    }
   ],
   "source": [
    "# Посмотрим на самые важные признаки для модели\n",
    "plt.rcParams['figure.figsize'] = (10,10)\n",
    "feat_importances = pd.Series(regr.feature_importances_, index=X.columns)\n",
    "feat_importances.nlargest(15).plot(kind='barh')"
   ]
  },
  {
   "cell_type": "markdown",
   "metadata": {},
   "source": [
    "А теперь подготовим файл submission для Kaggle, где предскажем рейтинг 10 000 ресторанов"
   ]
  },
  {
   "cell_type": "code",
   "execution_count": 38,
   "metadata": {},
   "outputs": [],
   "source": [
    "test_data = test_data.drop(['Rating'], axis=1)"
   ]
  },
  {
   "cell_type": "code",
   "execution_count": 39,
   "metadata": {},
   "outputs": [
    {
     "data": {
      "text/html": [
       "<div>\n",
       "<style scoped>\n",
       "    .dataframe tbody tr th:only-of-type {\n",
       "        vertical-align: middle;\n",
       "    }\n",
       "\n",
       "    .dataframe tbody tr th {\n",
       "        vertical-align: top;\n",
       "    }\n",
       "\n",
       "    .dataframe thead th {\n",
       "        text-align: right;\n",
       "    }\n",
       "</style>\n",
       "<table border=\"1\" class=\"dataframe\">\n",
       "  <thead>\n",
       "    <tr style=\"text-align: right;\">\n",
       "      <th></th>\n",
       "      <th>Restaurant_id</th>\n",
       "      <th>Rating</th>\n",
       "    </tr>\n",
       "  </thead>\n",
       "  <tbody>\n",
       "    <tr>\n",
       "      <th>0</th>\n",
       "      <td>id_0</td>\n",
       "      <td>2.0</td>\n",
       "    </tr>\n",
       "    <tr>\n",
       "      <th>1</th>\n",
       "      <td>id_1</td>\n",
       "      <td>2.5</td>\n",
       "    </tr>\n",
       "    <tr>\n",
       "      <th>2</th>\n",
       "      <td>id_2</td>\n",
       "      <td>4.0</td>\n",
       "    </tr>\n",
       "    <tr>\n",
       "      <th>3</th>\n",
       "      <td>id_3</td>\n",
       "      <td>1.0</td>\n",
       "    </tr>\n",
       "    <tr>\n",
       "      <th>4</th>\n",
       "      <td>id_4</td>\n",
       "      <td>4.0</td>\n",
       "    </tr>\n",
       "    <tr>\n",
       "      <th>...</th>\n",
       "      <td>...</td>\n",
       "      <td>...</td>\n",
       "    </tr>\n",
       "    <tr>\n",
       "      <th>9995</th>\n",
       "      <td>id_9995</td>\n",
       "      <td>3.0</td>\n",
       "    </tr>\n",
       "    <tr>\n",
       "      <th>9996</th>\n",
       "      <td>id_9996</td>\n",
       "      <td>1.5</td>\n",
       "    </tr>\n",
       "    <tr>\n",
       "      <th>9997</th>\n",
       "      <td>id_9997</td>\n",
       "      <td>4.5</td>\n",
       "    </tr>\n",
       "    <tr>\n",
       "      <th>9998</th>\n",
       "      <td>id_9998</td>\n",
       "      <td>1.0</td>\n",
       "    </tr>\n",
       "    <tr>\n",
       "      <th>9999</th>\n",
       "      <td>id_9999</td>\n",
       "      <td>2.5</td>\n",
       "    </tr>\n",
       "  </tbody>\n",
       "</table>\n",
       "<p>10000 rows × 2 columns</p>\n",
       "</div>"
      ],
      "text/plain": [
       "     Restaurant_id  Rating\n",
       "0             id_0     2.0\n",
       "1             id_1     2.5\n",
       "2             id_2     4.0\n",
       "3             id_3     1.0\n",
       "4             id_4     4.0\n",
       "...            ...     ...\n",
       "9995       id_9995     3.0\n",
       "9996       id_9996     1.5\n",
       "9997       id_9997     4.5\n",
       "9998       id_9998     1.0\n",
       "9999       id_9999     2.5\n",
       "\n",
       "[10000 rows x 2 columns]"
      ]
     },
     "execution_count": 39,
     "metadata": {},
     "output_type": "execute_result"
    }
   ],
   "source": [
    "sample_submission # Посмотрим на тестовый файл"
   ]
  },
  {
   "cell_type": "code",
   "execution_count": 40,
   "metadata": {},
   "outputs": [],
   "source": [
    "# Здесь предскажем рейтинг, округлив его до целого\n",
    "predict_submission = np.round(regr.predict(test_data) * 2) / 2"
   ]
  },
  {
   "cell_type": "code",
   "execution_count": 41,
   "metadata": {},
   "outputs": [
    {
     "data": {
      "text/plain": [
       "array([3. , 4. , 4.5, ..., 3. , 4.5, 4. ])"
      ]
     },
     "execution_count": 41,
     "metadata": {},
     "output_type": "execute_result"
    }
   ],
   "source": [
    "predict_submission # Получили массив рейтингов"
   ]
  },
  {
   "cell_type": "code",
   "execution_count": 42,
   "metadata": {
    "scrolled": true
   },
   "outputs": [
    {
     "data": {
      "text/html": [
       "<div>\n",
       "<style scoped>\n",
       "    .dataframe tbody tr th:only-of-type {\n",
       "        vertical-align: middle;\n",
       "    }\n",
       "\n",
       "    .dataframe tbody tr th {\n",
       "        vertical-align: top;\n",
       "    }\n",
       "\n",
       "    .dataframe thead th {\n",
       "        text-align: right;\n",
       "    }\n",
       "</style>\n",
       "<table border=\"1\" class=\"dataframe\">\n",
       "  <thead>\n",
       "    <tr style=\"text-align: right;\">\n",
       "      <th></th>\n",
       "      <th>Restaurant_id</th>\n",
       "      <th>Rating</th>\n",
       "    </tr>\n",
       "  </thead>\n",
       "  <tbody>\n",
       "    <tr>\n",
       "      <th>0</th>\n",
       "      <td>id_0</td>\n",
       "      <td>3.0</td>\n",
       "    </tr>\n",
       "    <tr>\n",
       "      <th>1</th>\n",
       "      <td>id_1</td>\n",
       "      <td>4.0</td>\n",
       "    </tr>\n",
       "    <tr>\n",
       "      <th>2</th>\n",
       "      <td>id_2</td>\n",
       "      <td>4.5</td>\n",
       "    </tr>\n",
       "    <tr>\n",
       "      <th>3</th>\n",
       "      <td>id_3</td>\n",
       "      <td>4.5</td>\n",
       "    </tr>\n",
       "    <tr>\n",
       "      <th>4</th>\n",
       "      <td>id_4</td>\n",
       "      <td>4.5</td>\n",
       "    </tr>\n",
       "    <tr>\n",
       "      <th>5</th>\n",
       "      <td>id_5</td>\n",
       "      <td>4.5</td>\n",
       "    </tr>\n",
       "    <tr>\n",
       "      <th>6</th>\n",
       "      <td>id_6</td>\n",
       "      <td>2.0</td>\n",
       "    </tr>\n",
       "    <tr>\n",
       "      <th>7</th>\n",
       "      <td>id_7</td>\n",
       "      <td>2.5</td>\n",
       "    </tr>\n",
       "    <tr>\n",
       "      <th>8</th>\n",
       "      <td>id_8</td>\n",
       "      <td>4.0</td>\n",
       "    </tr>\n",
       "    <tr>\n",
       "      <th>9</th>\n",
       "      <td>id_9</td>\n",
       "      <td>4.5</td>\n",
       "    </tr>\n",
       "  </tbody>\n",
       "</table>\n",
       "</div>"
      ],
      "text/plain": [
       "  Restaurant_id  Rating\n",
       "0          id_0     3.0\n",
       "1          id_1     4.0\n",
       "2          id_2     4.5\n",
       "3          id_3     4.5\n",
       "4          id_4     4.5\n",
       "5          id_5     4.5\n",
       "6          id_6     2.0\n",
       "7          id_7     2.5\n",
       "8          id_8     4.0\n",
       "9          id_9     4.5"
      ]
     },
     "execution_count": 42,
     "metadata": {},
     "output_type": "execute_result"
    }
   ],
   "source": [
    "# Далее заполним предсказанным рейтингом целевую переменную в тестовом submission\n",
    "sample_submission['Rating'] = predict_submission\n",
    "sample_submission.to_csv('my_first_submission.csv', index=False)\n",
    "sample_submission.head(10)"
   ]
  }
 ],
 "metadata": {
  "kernelspec": {
   "display_name": "Python 3",
   "language": "python",
   "name": "python3"
  },
  "language_info": {
   "codemirror_mode": {
    "name": "ipython",
    "version": 3
   },
   "file_extension": ".py",
   "mimetype": "text/x-python",
   "name": "python",
   "nbconvert_exporter": "python",
   "pygments_lexer": "ipython3",
   "version": "3.8.5"
  }
 },
 "nbformat": 4,
 "nbformat_minor": 2
}
